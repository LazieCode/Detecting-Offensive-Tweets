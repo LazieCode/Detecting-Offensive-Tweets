{
 "cells": [
  {
   "cell_type": "markdown",
   "metadata": {
    "id": "JiIg_5F_5Qr9"
   },
   "source": [
    "# Detecting bullying Tweets with PyTorch Bidirectional LSTM and BERT Transformer Project"
   ]
  },
  {
   "cell_type": "markdown",
   "metadata": {
    "id": "AiabNLkT5QsB"
   },
   "source": [
    "This project is about the analysis of tweets about cyberbullying, with the goal of performing a Sentiment Analysis using Bidirectional LSTM and BERT on PyTorch to predict if a tweet is about cyberbullying or not. <br>\n",
    "In particular, bullying tweets are divided in 4 categories: religion, age, race and gender.<br>\n",
    "The project is divided in the following sections:\n",
    "- Data Import\n",
    "- Text cleaning with custom defined functions\n",
    "- Naive Bayes baseline model Classifier\n",
    "- Data preparation for LSTM RNN: Tokenization\n",
    "- PyTorch LSTM RNN Classifier\n",
    "- Data preparation for BERT: Tokenization\n",
    "- PyTorch BERT Classifier\n",
    "- Results summary\n"
   ]
  },
  {
   "cell_type": "markdown",
   "metadata": {
    "id": "4BKehOik757u"
   },
   "source": [
    "## Custom functions definition:"
   ]
  },
  {
   "cell_type": "code",
   "execution_count": 1,
   "metadata": {
    "_kg_hide-input": true,
    "execution": {
     "iopub.execute_input": "2022-03-15T11:06:42.385341Z",
     "iopub.status.busy": "2022-03-15T11:06:42.385045Z",
     "iopub.status.idle": "2022-03-15T11:06:42.392660Z",
     "shell.execute_reply": "2022-03-15T11:06:42.391640Z",
     "shell.execute_reply.started": "2022-03-15T11:06:42.385304Z"
    },
    "id": "6U-OBTH6757u"
   },
   "outputs": [],
   "source": [
    "def conf_matrix(y, y_pred, title, labels):\n",
    "    fig, ax =plt.subplots(figsize=(7.5,7.5))\n",
    "    ax=sns.heatmap(confusion_matrix(y, y_pred), annot=True, cmap=\"Purples\", fmt='g', cbar=False, annot_kws={\"size\":30})\n",
    "    plt.title(title, fontsize=25)\n",
    "    ax.xaxis.set_ticklabels(labels, fontsize=16) \n",
    "    ax.yaxis.set_ticklabels(labels, fontsize=14.5)\n",
    "    ax.set_ylabel('Test', fontsize=25)\n",
    "    ax.set_xlabel('Predicted', fontsize=25)\n",
    "    plt.show()"
   ]
  },
  {
   "cell_type": "markdown",
   "metadata": {
    "id": "agTK-aM-757v"
   },
   "source": [
    "## Import libraries"
   ]
  },
  {
   "cell_type": "code",
   "execution_count": 2,
   "metadata": {
    "colab": {
     "base_uri": "https://localhost:8080/",
     "height": 34
    },
    "execution": {
     "iopub.execute_input": "2022-03-15T11:06:42.394589Z",
     "iopub.status.busy": "2022-03-15T11:06:42.394161Z",
     "iopub.status.idle": "2022-03-15T11:06:45.309727Z",
     "shell.execute_reply": "2022-03-15T11:06:45.308901Z",
     "shell.execute_reply.started": "2022-03-15T11:06:42.394553Z"
    },
    "id": "D0GOzHmK5QsH",
    "outputId": "f2b6c06a-87fa-4d55-9bf3-3c59c75ff0f6"
   },
   "outputs": [
    {
     "data": {
      "text/plain": [
       "<Figure size 432x288 with 0 Axes>"
      ]
     },
     "metadata": {},
     "output_type": "display_data"
    }
   ],
   "source": [
    "#Libraries for general purpose\n",
    "import pandas as pd\n",
    "import numpy as np\n",
    "import matplotlib.pyplot as plt\n",
    "import seaborn as sns\n",
    "\n",
    "#Text cleaning\n",
    "import re, string\n",
    "import emoji\n",
    "import nltk\n",
    "from nltk.stem import WordNetLemmatizer,PorterStemmer\n",
    "from nltk.corpus import stopwords\n",
    "stop_words = set(stopwords.words('english'))\n",
    "\n",
    "#Data preprocessing\n",
    "from sklearn import preprocessing\n",
    "from sklearn.model_selection import train_test_split\n",
    "from imblearn.over_sampling import RandomOverSampler\n",
    "\n",
    "#Naive Bayes\n",
    "from sklearn.feature_extraction.text import CountVectorizer\n",
    "from sklearn.feature_extraction.text import TfidfTransformer\n",
    "from sklearn.naive_bayes import MultinomialNB\n",
    "\n",
    "#Tokenization for LSTM\n",
    "from collections import Counter\n",
    "from gensim.models import Word2Vec\n",
    "\n",
    "#Transformers library for BERT\n",
    "import transformers\n",
    "from transformers import BertModel\n",
    "from transformers import BertTokenizer\n",
    "from transformers import AdamW, get_linear_schedule_with_warmup\n",
    "\n",
    "from sklearn.metrics import classification_report, confusion_matrix\n",
    "\n",
    "#Seed for reproducibility\n",
    "import random\n",
    "\n",
    "seed_value=42\n",
    "random.seed(seed_value)\n",
    "np.random.seed(seed_value)\n",
    "# torch.manual_seed(seed_value)\n",
    "# torch.cuda.manual_seed_all(seed_value)\n",
    "\n",
    "\n",
    "\n",
    "import time\n",
    "\n",
    "#set style for plots\n",
    "sns.set_style(\"whitegrid\")\n",
    "sns.despine()\n",
    "plt.style.use(\"seaborn-whitegrid\")\n",
    "plt.rc(\"figure\", autolayout=True)\n",
    "plt.rc(\"axes\", labelweight=\"bold\", labelsize=\"large\", titleweight=\"bold\", titlepad=10)"
   ]
  },
  {
   "cell_type": "markdown",
   "metadata": {
    "id": "6e0_yh8p757w"
   },
   "source": [
    "## Data Import"
   ]
  },
  {
   "cell_type": "code",
   "execution_count": null,
   "metadata": {
    "id": "RDZ5s_UO757x"
   },
   "outputs": [],
   "source": [
    "import pandas as pd"
   ]
  },
  {
   "cell_type": "code",
   "execution_count": null,
   "metadata": {
    "colab": {
     "base_uri": "https://localhost:8080/",
     "height": 311
    },
    "execution": {
     "iopub.execute_input": "2022-03-15T11:06:45.314007Z",
     "iopub.status.busy": "2022-03-15T11:06:45.313239Z",
     "iopub.status.idle": "2022-03-15T11:06:45.427226Z",
     "shell.execute_reply": "2022-03-15T11:06:45.426478Z",
     "shell.execute_reply.started": "2022-03-15T11:06:45.313964Z"
    },
    "id": "aCVJ1XJi5QsI",
    "outputId": "25e52961-0117-4c4e-b9f4-95a04ffb76ed"
   },
   "outputs": [
    {
     "ename": "FileNotFoundError",
     "evalue": "ignored",
     "output_type": "error",
     "traceback": [
      "\u001b[0;31m---------------------------------------------------------------------------\u001b[0m",
      "\u001b[0;31mFileNotFoundError\u001b[0m                         Traceback (most recent call last)",
      "\u001b[0;32m<ipython-input-10-6948a329ef84>\u001b[0m in \u001b[0;36m<module>\u001b[0;34m()\u001b[0m\n\u001b[0;32m----> 1\u001b[0;31m \u001b[0mdf\u001b[0m \u001b[0;34m=\u001b[0m \u001b[0mpd\u001b[0m\u001b[0;34m.\u001b[0m\u001b[0mread_csv\u001b[0m\u001b[0;34m(\u001b[0m\u001b[0;34m\"cyberbullying_tweets.csv\"\u001b[0m\u001b[0;34m)\u001b[0m\u001b[0;34m\u001b[0m\u001b[0;34m\u001b[0m\u001b[0m\n\u001b[0m",
      "\u001b[0;32m/usr/local/lib/python3.7/dist-packages/pandas/util/_decorators.py\u001b[0m in \u001b[0;36mwrapper\u001b[0;34m(*args, **kwargs)\u001b[0m\n\u001b[1;32m    309\u001b[0m                     \u001b[0mstacklevel\u001b[0m\u001b[0;34m=\u001b[0m\u001b[0mstacklevel\u001b[0m\u001b[0;34m,\u001b[0m\u001b[0;34m\u001b[0m\u001b[0;34m\u001b[0m\u001b[0m\n\u001b[1;32m    310\u001b[0m                 )\n\u001b[0;32m--> 311\u001b[0;31m             \u001b[0;32mreturn\u001b[0m \u001b[0mfunc\u001b[0m\u001b[0;34m(\u001b[0m\u001b[0;34m*\u001b[0m\u001b[0margs\u001b[0m\u001b[0;34m,\u001b[0m \u001b[0;34m**\u001b[0m\u001b[0mkwargs\u001b[0m\u001b[0;34m)\u001b[0m\u001b[0;34m\u001b[0m\u001b[0;34m\u001b[0m\u001b[0m\n\u001b[0m\u001b[1;32m    312\u001b[0m \u001b[0;34m\u001b[0m\u001b[0m\n\u001b[1;32m    313\u001b[0m         \u001b[0;32mreturn\u001b[0m \u001b[0mwrapper\u001b[0m\u001b[0;34m\u001b[0m\u001b[0;34m\u001b[0m\u001b[0m\n",
      "\u001b[0;32m/usr/local/lib/python3.7/dist-packages/pandas/io/parsers/readers.py\u001b[0m in \u001b[0;36mread_csv\u001b[0;34m(filepath_or_buffer, sep, delimiter, header, names, index_col, usecols, squeeze, prefix, mangle_dupe_cols, dtype, engine, converters, true_values, false_values, skipinitialspace, skiprows, skipfooter, nrows, na_values, keep_default_na, na_filter, verbose, skip_blank_lines, parse_dates, infer_datetime_format, keep_date_col, date_parser, dayfirst, cache_dates, iterator, chunksize, compression, thousands, decimal, lineterminator, quotechar, quoting, doublequote, escapechar, comment, encoding, encoding_errors, dialect, error_bad_lines, warn_bad_lines, on_bad_lines, delim_whitespace, low_memory, memory_map, float_precision, storage_options)\u001b[0m\n\u001b[1;32m    584\u001b[0m     \u001b[0mkwds\u001b[0m\u001b[0;34m.\u001b[0m\u001b[0mupdate\u001b[0m\u001b[0;34m(\u001b[0m\u001b[0mkwds_defaults\u001b[0m\u001b[0;34m)\u001b[0m\u001b[0;34m\u001b[0m\u001b[0;34m\u001b[0m\u001b[0m\n\u001b[1;32m    585\u001b[0m \u001b[0;34m\u001b[0m\u001b[0m\n\u001b[0;32m--> 586\u001b[0;31m     \u001b[0;32mreturn\u001b[0m \u001b[0m_read\u001b[0m\u001b[0;34m(\u001b[0m\u001b[0mfilepath_or_buffer\u001b[0m\u001b[0;34m,\u001b[0m \u001b[0mkwds\u001b[0m\u001b[0;34m)\u001b[0m\u001b[0;34m\u001b[0m\u001b[0;34m\u001b[0m\u001b[0m\n\u001b[0m\u001b[1;32m    587\u001b[0m \u001b[0;34m\u001b[0m\u001b[0m\n\u001b[1;32m    588\u001b[0m \u001b[0;34m\u001b[0m\u001b[0m\n",
      "\u001b[0;32m/usr/local/lib/python3.7/dist-packages/pandas/io/parsers/readers.py\u001b[0m in \u001b[0;36m_read\u001b[0;34m(filepath_or_buffer, kwds)\u001b[0m\n\u001b[1;32m    480\u001b[0m \u001b[0;34m\u001b[0m\u001b[0m\n\u001b[1;32m    481\u001b[0m     \u001b[0;31m# Create the parser.\u001b[0m\u001b[0;34m\u001b[0m\u001b[0;34m\u001b[0m\u001b[0;34m\u001b[0m\u001b[0m\n\u001b[0;32m--> 482\u001b[0;31m     \u001b[0mparser\u001b[0m \u001b[0;34m=\u001b[0m \u001b[0mTextFileReader\u001b[0m\u001b[0;34m(\u001b[0m\u001b[0mfilepath_or_buffer\u001b[0m\u001b[0;34m,\u001b[0m \u001b[0;34m**\u001b[0m\u001b[0mkwds\u001b[0m\u001b[0;34m)\u001b[0m\u001b[0;34m\u001b[0m\u001b[0;34m\u001b[0m\u001b[0m\n\u001b[0m\u001b[1;32m    483\u001b[0m \u001b[0;34m\u001b[0m\u001b[0m\n\u001b[1;32m    484\u001b[0m     \u001b[0;32mif\u001b[0m \u001b[0mchunksize\u001b[0m \u001b[0;32mor\u001b[0m \u001b[0miterator\u001b[0m\u001b[0;34m:\u001b[0m\u001b[0;34m\u001b[0m\u001b[0;34m\u001b[0m\u001b[0m\n",
      "\u001b[0;32m/usr/local/lib/python3.7/dist-packages/pandas/io/parsers/readers.py\u001b[0m in \u001b[0;36m__init__\u001b[0;34m(self, f, engine, **kwds)\u001b[0m\n\u001b[1;32m    809\u001b[0m             \u001b[0mself\u001b[0m\u001b[0;34m.\u001b[0m\u001b[0moptions\u001b[0m\u001b[0;34m[\u001b[0m\u001b[0;34m\"has_index_names\"\u001b[0m\u001b[0;34m]\u001b[0m \u001b[0;34m=\u001b[0m \u001b[0mkwds\u001b[0m\u001b[0;34m[\u001b[0m\u001b[0;34m\"has_index_names\"\u001b[0m\u001b[0;34m]\u001b[0m\u001b[0;34m\u001b[0m\u001b[0;34m\u001b[0m\u001b[0m\n\u001b[1;32m    810\u001b[0m \u001b[0;34m\u001b[0m\u001b[0m\n\u001b[0;32m--> 811\u001b[0;31m         \u001b[0mself\u001b[0m\u001b[0;34m.\u001b[0m\u001b[0m_engine\u001b[0m \u001b[0;34m=\u001b[0m \u001b[0mself\u001b[0m\u001b[0;34m.\u001b[0m\u001b[0m_make_engine\u001b[0m\u001b[0;34m(\u001b[0m\u001b[0mself\u001b[0m\u001b[0;34m.\u001b[0m\u001b[0mengine\u001b[0m\u001b[0;34m)\u001b[0m\u001b[0;34m\u001b[0m\u001b[0;34m\u001b[0m\u001b[0m\n\u001b[0m\u001b[1;32m    812\u001b[0m \u001b[0;34m\u001b[0m\u001b[0m\n\u001b[1;32m    813\u001b[0m     \u001b[0;32mdef\u001b[0m \u001b[0mclose\u001b[0m\u001b[0;34m(\u001b[0m\u001b[0mself\u001b[0m\u001b[0;34m)\u001b[0m\u001b[0;34m:\u001b[0m\u001b[0;34m\u001b[0m\u001b[0;34m\u001b[0m\u001b[0m\n",
      "\u001b[0;32m/usr/local/lib/python3.7/dist-packages/pandas/io/parsers/readers.py\u001b[0m in \u001b[0;36m_make_engine\u001b[0;34m(self, engine)\u001b[0m\n\u001b[1;32m   1038\u001b[0m             )\n\u001b[1;32m   1039\u001b[0m         \u001b[0;31m# error: Too many arguments for \"ParserBase\"\u001b[0m\u001b[0;34m\u001b[0m\u001b[0;34m\u001b[0m\u001b[0;34m\u001b[0m\u001b[0m\n\u001b[0;32m-> 1040\u001b[0;31m         \u001b[0;32mreturn\u001b[0m \u001b[0mmapping\u001b[0m\u001b[0;34m[\u001b[0m\u001b[0mengine\u001b[0m\u001b[0;34m]\u001b[0m\u001b[0;34m(\u001b[0m\u001b[0mself\u001b[0m\u001b[0;34m.\u001b[0m\u001b[0mf\u001b[0m\u001b[0;34m,\u001b[0m \u001b[0;34m**\u001b[0m\u001b[0mself\u001b[0m\u001b[0;34m.\u001b[0m\u001b[0moptions\u001b[0m\u001b[0;34m)\u001b[0m  \u001b[0;31m# type: ignore[call-arg]\u001b[0m\u001b[0;34m\u001b[0m\u001b[0;34m\u001b[0m\u001b[0m\n\u001b[0m\u001b[1;32m   1041\u001b[0m \u001b[0;34m\u001b[0m\u001b[0m\n\u001b[1;32m   1042\u001b[0m     \u001b[0;32mdef\u001b[0m \u001b[0m_failover_to_python\u001b[0m\u001b[0;34m(\u001b[0m\u001b[0mself\u001b[0m\u001b[0;34m)\u001b[0m\u001b[0;34m:\u001b[0m\u001b[0;34m\u001b[0m\u001b[0;34m\u001b[0m\u001b[0m\n",
      "\u001b[0;32m/usr/local/lib/python3.7/dist-packages/pandas/io/parsers/c_parser_wrapper.py\u001b[0m in \u001b[0;36m__init__\u001b[0;34m(self, src, **kwds)\u001b[0m\n\u001b[1;32m     49\u001b[0m \u001b[0;34m\u001b[0m\u001b[0m\n\u001b[1;32m     50\u001b[0m         \u001b[0;31m# open handles\u001b[0m\u001b[0;34m\u001b[0m\u001b[0;34m\u001b[0m\u001b[0;34m\u001b[0m\u001b[0m\n\u001b[0;32m---> 51\u001b[0;31m         \u001b[0mself\u001b[0m\u001b[0;34m.\u001b[0m\u001b[0m_open_handles\u001b[0m\u001b[0;34m(\u001b[0m\u001b[0msrc\u001b[0m\u001b[0;34m,\u001b[0m \u001b[0mkwds\u001b[0m\u001b[0;34m)\u001b[0m\u001b[0;34m\u001b[0m\u001b[0;34m\u001b[0m\u001b[0m\n\u001b[0m\u001b[1;32m     52\u001b[0m         \u001b[0;32massert\u001b[0m \u001b[0mself\u001b[0m\u001b[0;34m.\u001b[0m\u001b[0mhandles\u001b[0m \u001b[0;32mis\u001b[0m \u001b[0;32mnot\u001b[0m \u001b[0;32mNone\u001b[0m\u001b[0;34m\u001b[0m\u001b[0;34m\u001b[0m\u001b[0m\n\u001b[1;32m     53\u001b[0m \u001b[0;34m\u001b[0m\u001b[0m\n",
      "\u001b[0;32m/usr/local/lib/python3.7/dist-packages/pandas/io/parsers/base_parser.py\u001b[0m in \u001b[0;36m_open_handles\u001b[0;34m(self, src, kwds)\u001b[0m\n\u001b[1;32m    227\u001b[0m             \u001b[0mmemory_map\u001b[0m\u001b[0;34m=\u001b[0m\u001b[0mkwds\u001b[0m\u001b[0;34m.\u001b[0m\u001b[0mget\u001b[0m\u001b[0;34m(\u001b[0m\u001b[0;34m\"memory_map\"\u001b[0m\u001b[0;34m,\u001b[0m \u001b[0;32mFalse\u001b[0m\u001b[0;34m)\u001b[0m\u001b[0;34m,\u001b[0m\u001b[0;34m\u001b[0m\u001b[0;34m\u001b[0m\u001b[0m\n\u001b[1;32m    228\u001b[0m             \u001b[0mstorage_options\u001b[0m\u001b[0;34m=\u001b[0m\u001b[0mkwds\u001b[0m\u001b[0;34m.\u001b[0m\u001b[0mget\u001b[0m\u001b[0;34m(\u001b[0m\u001b[0;34m\"storage_options\"\u001b[0m\u001b[0;34m,\u001b[0m \u001b[0;32mNone\u001b[0m\u001b[0;34m)\u001b[0m\u001b[0;34m,\u001b[0m\u001b[0;34m\u001b[0m\u001b[0;34m\u001b[0m\u001b[0m\n\u001b[0;32m--> 229\u001b[0;31m             \u001b[0merrors\u001b[0m\u001b[0;34m=\u001b[0m\u001b[0mkwds\u001b[0m\u001b[0;34m.\u001b[0m\u001b[0mget\u001b[0m\u001b[0;34m(\u001b[0m\u001b[0;34m\"encoding_errors\"\u001b[0m\u001b[0;34m,\u001b[0m \u001b[0;34m\"strict\"\u001b[0m\u001b[0;34m)\u001b[0m\u001b[0;34m,\u001b[0m\u001b[0;34m\u001b[0m\u001b[0;34m\u001b[0m\u001b[0m\n\u001b[0m\u001b[1;32m    230\u001b[0m         )\n\u001b[1;32m    231\u001b[0m \u001b[0;34m\u001b[0m\u001b[0m\n",
      "\u001b[0;32m/usr/local/lib/python3.7/dist-packages/pandas/io/common.py\u001b[0m in \u001b[0;36mget_handle\u001b[0;34m(path_or_buf, mode, encoding, compression, memory_map, is_text, errors, storage_options)\u001b[0m\n\u001b[1;32m    705\u001b[0m                 \u001b[0mencoding\u001b[0m\u001b[0;34m=\u001b[0m\u001b[0mioargs\u001b[0m\u001b[0;34m.\u001b[0m\u001b[0mencoding\u001b[0m\u001b[0;34m,\u001b[0m\u001b[0;34m\u001b[0m\u001b[0;34m\u001b[0m\u001b[0m\n\u001b[1;32m    706\u001b[0m                 \u001b[0merrors\u001b[0m\u001b[0;34m=\u001b[0m\u001b[0merrors\u001b[0m\u001b[0;34m,\u001b[0m\u001b[0;34m\u001b[0m\u001b[0;34m\u001b[0m\u001b[0m\n\u001b[0;32m--> 707\u001b[0;31m                 \u001b[0mnewline\u001b[0m\u001b[0;34m=\u001b[0m\u001b[0;34m\"\"\u001b[0m\u001b[0;34m,\u001b[0m\u001b[0;34m\u001b[0m\u001b[0;34m\u001b[0m\u001b[0m\n\u001b[0m\u001b[1;32m    708\u001b[0m             )\n\u001b[1;32m    709\u001b[0m         \u001b[0;32melse\u001b[0m\u001b[0;34m:\u001b[0m\u001b[0;34m\u001b[0m\u001b[0;34m\u001b[0m\u001b[0m\n",
      "\u001b[0;31mFileNotFoundError\u001b[0m: [Errno 2] No such file or directory: 'cyberbullying_tweets.csv'"
     ]
    }
   ],
   "source": [
    "df = pd.read_csv(\"cyberbullying_tweets.csv\")"
   ]
  },
  {
   "cell_type": "code",
   "execution_count": null,
   "metadata": {
    "execution": {
     "iopub.execute_input": "2022-03-15T11:06:45.430571Z",
     "iopub.status.busy": "2022-03-15T11:06:45.430350Z",
     "iopub.status.idle": "2022-03-15T11:06:45.442208Z",
     "shell.execute_reply": "2022-03-15T11:06:45.441427Z",
     "shell.execute_reply.started": "2022-03-15T11:06:45.430546Z"
    },
    "id": "NPhe4rM35QsJ",
    "outputId": "af96c916-52c8-431b-a85c-bb72d1ce6bce"
   },
   "outputs": [
    {
     "data": {
      "text/html": [
       "<div>\n",
       "<style scoped>\n",
       "    .dataframe tbody tr th:only-of-type {\n",
       "        vertical-align: middle;\n",
       "    }\n",
       "\n",
       "    .dataframe tbody tr th {\n",
       "        vertical-align: top;\n",
       "    }\n",
       "\n",
       "    .dataframe thead th {\n",
       "        text-align: right;\n",
       "    }\n",
       "</style>\n",
       "<table border=\"1\" class=\"dataframe\">\n",
       "  <thead>\n",
       "    <tr style=\"text-align: right;\">\n",
       "      <th></th>\n",
       "      <th>tweet_text</th>\n",
       "      <th>cyberbullying_type</th>\n",
       "    </tr>\n",
       "  </thead>\n",
       "  <tbody>\n",
       "    <tr>\n",
       "      <th>0</th>\n",
       "      <td>In other words #katandandre, your food was cra...</td>\n",
       "      <td>not_cyberbullying</td>\n",
       "    </tr>\n",
       "    <tr>\n",
       "      <th>1</th>\n",
       "      <td>Why is #aussietv so white? #MKR #theblock #ImA...</td>\n",
       "      <td>not_cyberbullying</td>\n",
       "    </tr>\n",
       "    <tr>\n",
       "      <th>2</th>\n",
       "      <td>@XochitlSuckkks a classy whore? Or more red ve...</td>\n",
       "      <td>not_cyberbullying</td>\n",
       "    </tr>\n",
       "    <tr>\n",
       "      <th>3</th>\n",
       "      <td>@Jason_Gio meh. :P  thanks for the heads up, b...</td>\n",
       "      <td>not_cyberbullying</td>\n",
       "    </tr>\n",
       "    <tr>\n",
       "      <th>4</th>\n",
       "      <td>@RudhoeEnglish This is an ISIS account pretend...</td>\n",
       "      <td>not_cyberbullying</td>\n",
       "    </tr>\n",
       "  </tbody>\n",
       "</table>\n",
       "</div>"
      ],
      "text/plain": [
       "                                          tweet_text cyberbullying_type\n",
       "0  In other words #katandandre, your food was cra...  not_cyberbullying\n",
       "1  Why is #aussietv so white? #MKR #theblock #ImA...  not_cyberbullying\n",
       "2  @XochitlSuckkks a classy whore? Or more red ve...  not_cyberbullying\n",
       "3  @Jason_Gio meh. :P  thanks for the heads up, b...  not_cyberbullying\n",
       "4  @RudhoeEnglish This is an ISIS account pretend...  not_cyberbullying"
      ]
     },
     "execution_count": 5,
     "metadata": {},
     "output_type": "execute_result"
    }
   ],
   "source": [
    "df.head()"
   ]
  },
  {
   "cell_type": "code",
   "execution_count": null,
   "metadata": {
    "execution": {
     "iopub.execute_input": "2022-03-15T11:06:45.444447Z",
     "iopub.status.busy": "2022-03-15T11:06:45.443570Z",
     "iopub.status.idle": "2022-03-15T11:06:45.465481Z",
     "shell.execute_reply": "2022-03-15T11:06:45.464746Z",
     "shell.execute_reply.started": "2022-03-15T11:06:45.444410Z"
    },
    "id": "DLN5Z-8u757y",
    "outputId": "ef58983c-c9f2-4cb1-f7ff-1b1672624355"
   },
   "outputs": [
    {
     "name": "stdout",
     "output_type": "stream",
     "text": [
      "<class 'pandas.core.frame.DataFrame'>\n",
      "RangeIndex: 47692 entries, 0 to 47691\n",
      "Data columns (total 2 columns):\n",
      " #   Column              Non-Null Count  Dtype \n",
      "---  ------              --------------  ----- \n",
      " 0   tweet_text          47692 non-null  object\n",
      " 1   cyberbullying_type  47692 non-null  object\n",
      "dtypes: object(2)\n",
      "memory usage: 745.3+ KB\n"
     ]
    }
   ],
   "source": [
    "df.info()"
   ]
  },
  {
   "cell_type": "markdown",
   "metadata": {
    "id": "b2KGPy3U757z"
   },
   "source": [
    "First we rename the columns using shorter words for easier reference."
   ]
  },
  {
   "cell_type": "code",
   "execution_count": null,
   "metadata": {
    "execution": {
     "iopub.execute_input": "2022-03-15T11:06:45.467426Z",
     "iopub.status.busy": "2022-03-15T11:06:45.466912Z",
     "iopub.status.idle": "2022-03-15T11:06:45.472765Z",
     "shell.execute_reply": "2022-03-15T11:06:45.472018Z",
     "shell.execute_reply.started": "2022-03-15T11:06:45.467388Z"
    },
    "id": "AwUN352x5QsK"
   },
   "outputs": [],
   "source": [
    "df = df.rename(columns={'tweet_text': 'text', 'cyberbullying_type': 'sentiment'})"
   ]
  },
  {
   "cell_type": "code",
   "execution_count": null,
   "metadata": {
    "id": "82p1zcQp757z",
    "outputId": "0a0a6942-00fe-4ff5-8869-84d463a4771c"
   },
   "outputs": [
    {
     "data": {
      "text/html": [
       "<div>\n",
       "<style scoped>\n",
       "    .dataframe tbody tr th:only-of-type {\n",
       "        vertical-align: middle;\n",
       "    }\n",
       "\n",
       "    .dataframe tbody tr th {\n",
       "        vertical-align: top;\n",
       "    }\n",
       "\n",
       "    .dataframe thead th {\n",
       "        text-align: right;\n",
       "    }\n",
       "</style>\n",
       "<table border=\"1\" class=\"dataframe\">\n",
       "  <thead>\n",
       "    <tr style=\"text-align: right;\">\n",
       "      <th></th>\n",
       "      <th>text</th>\n",
       "      <th>sentiment</th>\n",
       "    </tr>\n",
       "  </thead>\n",
       "  <tbody>\n",
       "    <tr>\n",
       "      <th>0</th>\n",
       "      <td>In other words #katandandre, your food was cra...</td>\n",
       "      <td>not_cyberbullying</td>\n",
       "    </tr>\n",
       "    <tr>\n",
       "      <th>1</th>\n",
       "      <td>Why is #aussietv so white? #MKR #theblock #ImA...</td>\n",
       "      <td>not_cyberbullying</td>\n",
       "    </tr>\n",
       "    <tr>\n",
       "      <th>2</th>\n",
       "      <td>@XochitlSuckkks a classy whore? Or more red ve...</td>\n",
       "      <td>not_cyberbullying</td>\n",
       "    </tr>\n",
       "    <tr>\n",
       "      <th>3</th>\n",
       "      <td>@Jason_Gio meh. :P  thanks for the heads up, b...</td>\n",
       "      <td>not_cyberbullying</td>\n",
       "    </tr>\n",
       "    <tr>\n",
       "      <th>4</th>\n",
       "      <td>@RudhoeEnglish This is an ISIS account pretend...</td>\n",
       "      <td>not_cyberbullying</td>\n",
       "    </tr>\n",
       "  </tbody>\n",
       "</table>\n",
       "</div>"
      ],
      "text/plain": [
       "                                                text          sentiment\n",
       "0  In other words #katandandre, your food was cra...  not_cyberbullying\n",
       "1  Why is #aussietv so white? #MKR #theblock #ImA...  not_cyberbullying\n",
       "2  @XochitlSuckkks a classy whore? Or more red ve...  not_cyberbullying\n",
       "3  @Jason_Gio meh. :P  thanks for the heads up, b...  not_cyberbullying\n",
       "4  @RudhoeEnglish This is an ISIS account pretend...  not_cyberbullying"
      ]
     },
     "execution_count": 8,
     "metadata": {},
     "output_type": "execute_result"
    }
   ],
   "source": [
    "df.head()"
   ]
  },
  {
   "cell_type": "markdown",
   "metadata": {
    "id": "u9wTHjTcc1D7"
   },
   "source": [
    "### Are there duplicated tweets?"
   ]
  },
  {
   "cell_type": "code",
   "execution_count": null,
   "metadata": {
    "execution": {
     "iopub.execute_input": "2022-03-15T11:06:45.474658Z",
     "iopub.status.busy": "2022-03-15T11:06:45.474397Z",
     "iopub.status.idle": "2022-03-15T11:06:45.513341Z",
     "shell.execute_reply": "2022-03-15T11:06:45.512638Z",
     "shell.execute_reply.started": "2022-03-15T11:06:45.474625Z"
    },
    "id": "e3qE0R5l7570",
    "outputId": "29d7775e-57ce-42b9-ed81-87ffff451941"
   },
   "outputs": [
    {
     "data": {
      "text/plain": [
       "43"
      ]
     },
     "execution_count": 9,
     "metadata": {},
     "output_type": "execute_result"
    }
   ],
   "source": [
    "df.duplicated().sum()"
   ]
  },
  {
   "cell_type": "markdown",
   "metadata": {
    "id": "Ji20oy_o7570"
   },
   "source": [
    "There are some duplicated tweets, we will remove them."
   ]
  },
  {
   "cell_type": "code",
   "execution_count": null,
   "metadata": {
    "execution": {
     "iopub.execute_input": "2022-03-15T11:06:45.514838Z",
     "iopub.status.busy": "2022-03-15T11:06:45.514494Z",
     "iopub.status.idle": "2022-03-15T11:06:45.546538Z",
     "shell.execute_reply": "2022-03-15T11:06:45.545845Z",
     "shell.execute_reply.started": "2022-03-15T11:06:45.514797Z"
    },
    "id": "4u7mn7wkchxj"
   },
   "outputs": [],
   "source": [
    "df = df[~df.duplicated()]"
   ]
  },
  {
   "cell_type": "code",
   "execution_count": null,
   "metadata": {
    "execution": {
     "iopub.execute_input": "2022-03-15T11:06:45.548284Z",
     "iopub.status.busy": "2022-03-15T11:06:45.547843Z",
     "iopub.status.idle": "2022-03-15T11:06:45.567784Z",
     "shell.execute_reply": "2022-03-15T11:06:45.566278Z",
     "shell.execute_reply.started": "2022-03-15T11:06:45.548249Z"
    },
    "id": "oedUGlQ9crg2",
    "outputId": "2b094807-c074-4174-ee3d-1e81bfdd5b0f"
   },
   "outputs": [
    {
     "name": "stdout",
     "output_type": "stream",
     "text": [
      "<class 'pandas.core.frame.DataFrame'>\n",
      "Int64Index: 47649 entries, 0 to 47691\n",
      "Data columns (total 2 columns):\n",
      " #   Column     Non-Null Count  Dtype \n",
      "---  ------     --------------  ----- \n",
      " 0   text       47649 non-null  object\n",
      " 1   sentiment  47649 non-null  object\n",
      "dtypes: object(2)\n",
      "memory usage: 1.1+ MB\n"
     ]
    }
   ],
   "source": [
    "df.info()"
   ]
  },
  {
   "cell_type": "code",
   "execution_count": null,
   "metadata": {
    "id": "uakUv_r97570",
    "outputId": "e71ca6b4-76d3-4b2f-d7e3-80a880357150"
   },
   "outputs": [
    {
     "data": {
      "text/plain": [
       "religion               7997\n",
       "age                    7990\n",
       "ethnicity              7959\n",
       "gender                 7945\n",
       "not_cyberbullying      7937\n",
       "other_cyberbullying    7821\n",
       "Name: sentiment, dtype: int64"
      ]
     },
     "execution_count": 12,
     "metadata": {},
     "output_type": "execute_result"
    },
    {
     "data": {
      "image/png": "[encoded data removed]",
      "text/plain": [
       "<Figure size 504x504 with 1 Axes>"
      ]
     },
     "metadata": {},
     "output_type": "display_data"
    }
   ],
   "source": [
    "import matplotlib.pyplot as plt\n",
    "import seaborn as sns\n",
    "plt.figure(figsize = (7,7))\n",
    "\n",
    "sorted_counts = df['sentiment'].value_counts()\n",
    "plt.pie(sorted_counts, labels = sorted_counts.index, startangle = 90, counterclock = False, wedgeprops = {'width' : 0.6},\n",
    "       autopct='%1.1f%%', pctdistance = 0.7, textprops = {'color': 'black', 'fontsize' : 15}, shadow = True,\n",
    "        colors = sns.color_palette(\"Paired\")[7:])\n",
    "plt.text(x = -0.35, y = 0, s = 'Total Tweets: {}'.format(df.shape[0]))\n",
    "plt.title('Distribution of Tweets in the Dataset', fontsize = 16)\n",
    "sorted_counts"
   ]
  },
  {
   "cell_type": "markdown",
   "metadata": {
    "id": "xvB1h2iq7571"
   },
   "source": [
    "### Are the classes balanced?"
   ]
  },
  {
   "cell_type": "code",
   "execution_count": null,
   "metadata": {
    "execution": {
     "iopub.execute_input": "2022-03-15T11:06:45.570493Z",
     "iopub.status.busy": "2022-03-15T11:06:45.570171Z",
     "iopub.status.idle": "2022-03-15T11:06:45.584722Z",
     "shell.execute_reply": "2022-03-15T11:06:45.584060Z",
     "shell.execute_reply.started": "2022-03-15T11:06:45.570457Z"
    },
    "id": "c82luV2N5QsN",
    "outputId": "5b926ea0-59ec-46e9-97fe-08f72237a419"
   },
   "outputs": [
    {
     "data": {
      "text/plain": [
       "religion               7997\n",
       "age                    7990\n",
       "ethnicity              7959\n",
       "gender                 7945\n",
       "not_cyberbullying      7937\n",
       "other_cyberbullying    7821\n",
       "Name: sentiment, dtype: int64"
      ]
     },
     "execution_count": 13,
     "metadata": {},
     "output_type": "execute_result"
    }
   ],
   "source": [
    "df.sentiment.value_counts()"
   ]
  },
  {
   "cell_type": "markdown",
   "metadata": {
    "id": "mzaMtAbf7571"
   },
   "source": [
    "The classes look balanced."
   ]
  },
  {
   "cell_type": "markdown",
   "metadata": {
    "execution": {
     "iopub.execute_input": "2022-01-19T09:34:52.112295Z",
     "iopub.status.busy": "2022-01-19T09:34:52.112005Z",
     "iopub.status.idle": "2022-01-19T09:34:53.14386Z",
     "shell.execute_reply": "2022-01-19T09:34:53.142913Z",
     "shell.execute_reply.started": "2022-01-19T09:34:52.112262Z"
    },
    "id": "DGmYrF4d5QsP"
   },
   "source": [
    "# Tweets text deep cleaning"
   ]
  },
  {
   "cell_type": "markdown",
   "metadata": {
    "id": "RqlNZ1py7571"
   },
   "source": [
    "Next, we will define custom functions to clean the texts of the tweets."
   ]
  },
  {
   "cell_type": "code",
   "execution_count": null,
   "metadata": {
    "execution": {
     "iopub.execute_input": "2022-03-15T11:06:45.586740Z",
     "iopub.status.busy": "2022-03-15T11:06:45.586233Z",
     "iopub.status.idle": "2022-03-15T11:06:45.604592Z",
     "shell.execute_reply": "2022-03-15T11:06:45.603771Z",
     "shell.execute_reply.started": "2022-03-15T11:06:45.586703Z"
    },
    "id": "E5E1UwMc5QsQ"
   },
   "outputs": [],
   "source": [
    "##CUSTOM DEFINED FUNCTIONS TO CLEAN THE TWEETS\n",
    "\n",
    "#Clean emojis from text\n",
    "def strip_emoji(text):\n",
    "    return re.sub(emoji.get_emoji_regexp(), r\"\", text) #remove emoji\n",
    "\n",
    "#Remove punctuations, links, stopwords, mentions and \\r\\n new line characters\n",
    "def strip_all_entities(text): \n",
    "    text = text.replace('\\r', '').replace('\\n', ' ').lower() #remove \\n and \\r and lowercase\n",
    "    text = re.sub(r\"(?:\\@|https?\\://)\\S+\", \"\", text) #remove links and mentions\n",
    "    text = re.sub(r'[^\\x00-\\x7f]',r'', text) #remove non utf8/ascii characters such as '\\x9a\\x91\\x97\\x9a\\x97'\n",
    "    banned_list= string.punctuation\n",
    "    table = str.maketrans('', '', banned_list)\n",
    "    text = text.translate(table)\n",
    "    text = [word for word in text.split() if word not in stop_words]\n",
    "    text = ' '.join(text)\n",
    "    text =' '.join(word for word in text.split() if len(word) < 14) # remove words longer than 14 characters\n",
    "    return text\n",
    "\n",
    "#remove contractions\n",
    "def decontract(text):\n",
    "    text = re.sub(r\"can\\'t\", \"can not\", text)\n",
    "    text = re.sub(r\"n\\'t\", \" not\", text)\n",
    "    text = re.sub(r\"\\'re\", \" are\", text)\n",
    "    text = re.sub(r\"\\'s\", \" is\", text)\n",
    "    text = re.sub(r\"\\'d\", \" would\", text)\n",
    "    text = re.sub(r\"\\'ll\", \" will\", text)\n",
    "    text = re.sub(r\"\\'t\", \" not\", text)\n",
    "    text = re.sub(r\"\\'ve\", \" have\", text)\n",
    "    text = re.sub(r\"\\'m\", \" am\", text)\n",
    "    return text\n",
    "\n",
    "#clean hashtags at the end of the sentence, and keep those in the middle of the sentence by removing just the \"#\" symbol\n",
    "def clean_hashtags(tweet):\n",
    "    new_tweet = \" \".join(word.strip() for word in re.split('#(?!(?:hashtag)\\b)[\\w-]+(?=(?:\\s+#[\\w-]+)*\\s*$)', tweet)) #remove last hashtags\n",
    "    new_tweet2 = \" \".join(word.strip() for word in re.split('#|_', new_tweet)) #remove hashtags symbol from words in the middle of the sentence\n",
    "    return new_tweet2\n",
    "\n",
    "#Filter special characters such as \"&\" and \"$\" present in some words\n",
    "def filter_chars(a):\n",
    "    sent = []\n",
    "    for word in a.split(' '):\n",
    "        if ('$' in word) | ('&' in word):\n",
    "            sent.append('')\n",
    "        else:\n",
    "            sent.append(word)\n",
    "    return ' '.join(sent)\n",
    "\n",
    "#Remove multiple sequential spaces\n",
    "def remove_mult_spaces(text):\n",
    "    return re.sub(\"\\s\\s+\" , \" \", text)\n",
    "\n",
    "#Stemming\n",
    "def stemmer(text):\n",
    "    tokenized = nltk.word_tokenize(text)\n",
    "    ps = PorterStemmer()\n",
    "    return ' '.join([ps.stem(words) for words in tokenized])\n",
    "\n",
    "#Lemmatization \n",
    "#NOTE:Stemming seems to work better for this dataset\n",
    "def lemmatize(text):\n",
    "    tokenized = nltk.word_tokenize(text)\n",
    "    lm = WordNetLemmatizer()\n",
    "    return ' '.join([lm.lemmatize(words) for words in tokenized])\n",
    "\n",
    "#Then we apply all the defined functions in the following order\n",
    "def deep_clean(text):\n",
    "    text = strip_emoji(text)\n",
    "    text = decontract(text)\n",
    "    text = strip_all_entities(text)\n",
    "    text = clean_hashtags(text)\n",
    "    text = filter_chars(text)\n",
    "    text = remove_mult_spaces(text)\n",
    "    text = stemmer(text)\n",
    "    return text"
   ]
  },
  {
   "cell_type": "code",
   "execution_count": null,
   "metadata": {
    "execution": {
     "iopub.execute_input": "2022-03-15T11:06:45.609192Z",
     "iopub.status.busy": "2022-03-15T11:06:45.608811Z",
     "iopub.status.idle": "2022-03-15T11:07:56.524297Z",
     "shell.execute_reply": "2022-03-15T11:07:56.523492Z",
     "shell.execute_reply.started": "2022-03-15T11:06:45.609158Z"
    },
    "id": "Lx-xXilI5QsT",
    "outputId": "9468cd76-c652-4124-b002-3195a672d528"
   },
   "outputs": [
    {
     "name": "stderr",
     "output_type": "stream",
     "text": [
      "<ipython-input-14-1ee7ef266735>:5: DeprecationWarning: 'emoji.get_emoji_regexp()' is deprecated and will be removed in version 2.0.0. If you want to remove emoji from a string, consider the method emoji.replace_emoji(str, replace='').\n",
      "To hide this warning, pin/downgrade the package to 'emoji~=1.6.3'\n",
      "  return re.sub(emoji.get_emoji_regexp(), r\"\", text) #remove emoji\n"
     ]
    }
   ],
   "source": [
    "texts_new = []\n",
    "for t in df.text:\n",
    "    texts_new.append(deep_clean(t))"
   ]
  },
  {
   "cell_type": "code",
   "execution_count": null,
   "metadata": {
    "execution": {
     "iopub.execute_input": "2022-03-15T11:07:56.525860Z",
     "iopub.status.busy": "2022-03-15T11:07:56.525598Z",
     "iopub.status.idle": "2022-03-15T11:07:56.538252Z",
     "shell.execute_reply": "2022-03-15T11:07:56.537531Z",
     "shell.execute_reply.started": "2022-03-15T11:07:56.525826Z"
    },
    "id": "Ah-xjjhv5QsT"
   },
   "outputs": [],
   "source": [
    "df['text_clean'] = texts_new"
   ]
  },
  {
   "cell_type": "code",
   "execution_count": null,
   "metadata": {
    "execution": {
     "iopub.execute_input": "2022-03-15T11:07:56.540848Z",
     "iopub.status.busy": "2022-03-15T11:07:56.540277Z",
     "iopub.status.idle": "2022-03-15T11:07:56.554150Z",
     "shell.execute_reply": "2022-03-15T11:07:56.553406Z",
     "shell.execute_reply.started": "2022-03-15T11:07:56.540810Z"
    },
    "id": "fnjOU6zA7572",
    "outputId": "e20729b0-3dea-40ca-c5d2-8d530129ad32"
   },
   "outputs": [
    {
     "data": {
      "text/html": [
       "<div>\n",
       "<style scoped>\n",
       "    .dataframe tbody tr th:only-of-type {\n",
       "        vertical-align: middle;\n",
       "    }\n",
       "\n",
       "    .dataframe tbody tr th {\n",
       "        vertical-align: top;\n",
       "    }\n",
       "\n",
       "    .dataframe thead th {\n",
       "        text-align: right;\n",
       "    }\n",
       "</style>\n",
       "<table border=\"1\" class=\"dataframe\">\n",
       "  <thead>\n",
       "    <tr style=\"text-align: right;\">\n",
       "      <th></th>\n",
       "      <th>text</th>\n",
       "      <th>sentiment</th>\n",
       "      <th>text_clean</th>\n",
       "    </tr>\n",
       "  </thead>\n",
       "  <tbody>\n",
       "    <tr>\n",
       "      <th>0</th>\n",
       "      <td>In other words #katandandre, your food was cra...</td>\n",
       "      <td>not_cyberbullying</td>\n",
       "      <td>word katandandr food crapilici mkr</td>\n",
       "    </tr>\n",
       "    <tr>\n",
       "      <th>1</th>\n",
       "      <td>Why is #aussietv so white? #MKR #theblock #ImA...</td>\n",
       "      <td>not_cyberbullying</td>\n",
       "      <td>aussietv white mkr theblock today sunris studi...</td>\n",
       "    </tr>\n",
       "    <tr>\n",
       "      <th>2</th>\n",
       "      <td>@XochitlSuckkks a classy whore? Or more red ve...</td>\n",
       "      <td>not_cyberbullying</td>\n",
       "      <td>classi whore red velvet cupcak</td>\n",
       "    </tr>\n",
       "    <tr>\n",
       "      <th>3</th>\n",
       "      <td>@Jason_Gio meh. :P  thanks for the heads up, b...</td>\n",
       "      <td>not_cyberbullying</td>\n",
       "      <td>meh p thank head concern anoth angri dude twitter</td>\n",
       "    </tr>\n",
       "    <tr>\n",
       "      <th>4</th>\n",
       "      <td>@RudhoeEnglish This is an ISIS account pretend...</td>\n",
       "      <td>not_cyberbullying</td>\n",
       "      <td>isi account pretend kurdish account like islam...</td>\n",
       "    </tr>\n",
       "  </tbody>\n",
       "</table>\n",
       "</div>"
      ],
      "text/plain": [
       "                                                text          sentiment  \\\n",
       "0  In other words #katandandre, your food was cra...  not_cyberbullying   \n",
       "1  Why is #aussietv so white? #MKR #theblock #ImA...  not_cyberbullying   \n",
       "2  @XochitlSuckkks a classy whore? Or more red ve...  not_cyberbullying   \n",
       "3  @Jason_Gio meh. :P  thanks for the heads up, b...  not_cyberbullying   \n",
       "4  @RudhoeEnglish This is an ISIS account pretend...  not_cyberbullying   \n",
       "\n",
       "                                          text_clean  \n",
       "0                 word katandandr food crapilici mkr  \n",
       "1  aussietv white mkr theblock today sunris studi...  \n",
       "2                     classi whore red velvet cupcak  \n",
       "3  meh p thank head concern anoth angri dude twitter  \n",
       "4  isi account pretend kurdish account like islam...  "
      ]
     },
     "execution_count": 17,
     "metadata": {},
     "output_type": "execute_result"
    }
   ],
   "source": [
    "df.head()"
   ]
  },
  {
   "cell_type": "markdown",
   "metadata": {
    "id": "cCdvYWT07572"
   },
   "source": [
    "### Are there duplicate tweets after the cleaning?"
   ]
  },
  {
   "cell_type": "code",
   "execution_count": null,
   "metadata": {
    "execution": {
     "iopub.execute_input": "2022-03-15T11:07:56.556447Z",
     "iopub.status.busy": "2022-03-15T11:07:56.555757Z",
     "iopub.status.idle": "2022-03-15T11:07:56.563752Z",
     "shell.execute_reply": "2022-03-15T11:07:56.562980Z",
     "shell.execute_reply.started": "2022-03-15T11:07:56.556408Z"
    },
    "id": "hhgyrUQrdICU",
    "outputId": "c2965ed8-d227-4309-fe40-a06624826619"
   },
   "outputs": [
    {
     "data": {
      "text/plain": [
       "(47649, 3)"
      ]
     },
     "execution_count": 18,
     "metadata": {},
     "output_type": "execute_result"
    }
   ],
   "source": [
    "df.shape"
   ]
  },
  {
   "cell_type": "code",
   "execution_count": null,
   "metadata": {
    "execution": {
     "iopub.execute_input": "2022-03-15T11:07:56.565443Z",
     "iopub.status.busy": "2022-03-15T11:07:56.565192Z",
     "iopub.status.idle": "2022-03-15T11:07:56.581683Z",
     "shell.execute_reply": "2022-03-15T11:07:56.581026Z",
     "shell.execute_reply.started": "2022-03-15T11:07:56.565411Z"
    },
    "id": "r5DHDI7QdCfu",
    "outputId": "488961b1-b91f-4258-d65e-8ed26874c754"
   },
   "outputs": [
    {
     "data": {
      "text/plain": [
       "3061"
      ]
     },
     "execution_count": 19,
     "metadata": {},
     "output_type": "execute_result"
    }
   ],
   "source": [
    "df[\"text_clean\"].duplicated().sum()"
   ]
  },
  {
   "cell_type": "markdown",
   "metadata": {
    "id": "HCpcnv_Z7573"
   },
   "source": [
    "There are around 3000 duplicated tweets, we will remove them."
   ]
  },
  {
   "cell_type": "code",
   "execution_count": null,
   "metadata": {
    "execution": {
     "iopub.execute_input": "2022-03-15T11:07:56.584183Z",
     "iopub.status.busy": "2022-03-15T11:07:56.582713Z",
     "iopub.status.idle": "2022-03-15T11:07:56.611123Z",
     "shell.execute_reply": "2022-03-15T11:07:56.610444Z",
     "shell.execute_reply.started": "2022-03-15T11:07:56.584146Z"
    },
    "id": "J0gIq_f97573"
   },
   "outputs": [],
   "source": [
    "df.drop_duplicates(\"text_clean\", inplace=True)"
   ]
  },
  {
   "cell_type": "code",
   "execution_count": null,
   "metadata": {
    "execution": {
     "iopub.execute_input": "2022-03-15T11:07:56.612913Z",
     "iopub.status.busy": "2022-03-15T11:07:56.612410Z",
     "iopub.status.idle": "2022-03-15T11:07:56.618206Z",
     "shell.execute_reply": "2022-03-15T11:07:56.617451Z",
     "shell.execute_reply.started": "2022-03-15T11:07:56.612877Z"
    },
    "id": "tdCDSt1PdpXG",
    "outputId": "43d52d4a-fbd3-4890-85ff-c39eba2ce122"
   },
   "outputs": [
    {
     "data": {
      "text/plain": [
       "(44588, 3)"
      ]
     },
     "execution_count": 21,
     "metadata": {},
     "output_type": "execute_result"
    }
   ],
   "source": [
    "df.shape"
   ]
  },
  {
   "cell_type": "markdown",
   "metadata": {
    "id": "9HfOLhVz7573"
   },
   "source": [
    "We removed the duplicated cleaned tweets. How is the class balance after the cleaning?"
   ]
  },
  {
   "cell_type": "code",
   "execution_count": null,
   "metadata": {
    "execution": {
     "iopub.execute_input": "2022-03-15T11:07:56.620088Z",
     "iopub.status.busy": "2022-03-15T11:07:56.619600Z",
     "iopub.status.idle": "2022-03-15T11:07:56.635857Z",
     "shell.execute_reply": "2022-03-15T11:07:56.635215Z",
     "shell.execute_reply.started": "2022-03-15T11:07:56.620031Z"
    },
    "id": "BiDKQD9o7573",
    "outputId": "4c04fe33-b7f9-4ace-81fa-759c08cd21cc"
   },
   "outputs": [
    {
     "data": {
      "text/plain": [
       "religion               7945\n",
       "age                    7881\n",
       "ethnicity              7743\n",
       "not_cyberbullying      7637\n",
       "gender                 7604\n",
       "other_cyberbullying    5778\n",
       "Name: sentiment, dtype: int64"
      ]
     },
     "execution_count": 22,
     "metadata": {},
     "output_type": "execute_result"
    }
   ],
   "source": [
    "df.sentiment.value_counts()"
   ]
  },
  {
   "cell_type": "markdown",
   "metadata": {
    "id": "K9JKpZKK7574"
   },
   "source": [
    "We can see that lots of tweets of the class \"other_cyberbullying\" have been removed. Since the class is very unbalanced compared to the other classes and looks too \"generic\", we decide to remove the tweets labeled belonging to this class.<br>\n",
    "EDIT: by performing some tests, the f1 score for predicting the \"other_cyberbullying\" resulted to be around 60%, a value far lower compared to the othter f1 scores (around 95% using LSTM model). This supports the decision of removing this generic class."
   ]
  },
  {
   "cell_type": "code",
   "execution_count": null,
   "metadata": {
    "execution": {
     "iopub.execute_input": "2022-03-15T11:07:56.638186Z",
     "iopub.status.busy": "2022-03-15T11:07:56.636786Z",
     "iopub.status.idle": "2022-03-15T11:07:56.651611Z",
     "shell.execute_reply": "2022-03-15T11:07:56.650917Z",
     "shell.execute_reply.started": "2022-03-15T11:07:56.638146Z"
    },
    "id": "Agzrz4cD7574"
   },
   "outputs": [],
   "source": [
    "df = df[df[\"sentiment\"]!=\"other_cyberbullying\"]"
   ]
  },
  {
   "cell_type": "markdown",
   "metadata": {
    "id": "ZJUtkcuE7574"
   },
   "source": [
    "Then we also define a list of the classes names, which will be useful for the future plots."
   ]
  },
  {
   "cell_type": "code",
   "execution_count": null,
   "metadata": {
    "execution": {
     "iopub.execute_input": "2022-03-15T11:07:56.653528Z",
     "iopub.status.busy": "2022-03-15T11:07:56.653218Z",
     "iopub.status.idle": "2022-03-15T11:07:56.658619Z",
     "shell.execute_reply": "2022-03-15T11:07:56.657623Z",
     "shell.execute_reply.started": "2022-03-15T11:07:56.653491Z"
    },
    "id": "qwuYfM3n7574"
   },
   "outputs": [],
   "source": [
    "sentiments = [\"religion\",\"age\",\"ethnicity\",\"gender\",\"not bullying\"]"
   ]
  },
  {
   "cell_type": "markdown",
   "metadata": {
    "id": "RoD1K-v67574"
   },
   "source": [
    "# Tweets length analysis"
   ]
  },
  {
   "cell_type": "markdown",
   "metadata": {
    "id": "jDWVgRQL7574"
   },
   "source": [
    "Now we will define a new dataframe column containing the length of the cleaned tweets in terms of number of words."
   ]
  },
  {
   "cell_type": "code",
   "execution_count": null,
   "metadata": {
    "execution": {
     "iopub.execute_input": "2022-03-15T11:07:56.660678Z",
     "iopub.status.busy": "2022-03-15T11:07:56.660135Z",
     "iopub.status.idle": "2022-03-15T11:07:56.712752Z",
     "shell.execute_reply": "2022-03-15T11:07:56.712143Z",
     "shell.execute_reply.started": "2022-03-15T11:07:56.660632Z"
    },
    "id": "vQsHVXTA5QsV"
   },
   "outputs": [],
   "source": [
    "text_len = []\n",
    "for text in df.text_clean:\n",
    "    tweet_len = len(text.split())\n",
    "    text_len.append(tweet_len)"
   ]
  },
  {
   "cell_type": "code",
   "execution_count": null,
   "metadata": {
    "execution": {
     "iopub.execute_input": "2022-03-15T11:07:56.714376Z",
     "iopub.status.busy": "2022-03-15T11:07:56.713907Z",
     "iopub.status.idle": "2022-03-15T11:07:56.745434Z",
     "shell.execute_reply": "2022-03-15T11:07:56.744809Z",
     "shell.execute_reply.started": "2022-03-15T11:07:56.714340Z"
    },
    "id": "op665CKx5QsV"
   },
   "outputs": [],
   "source": [
    "df['text_len'] = text_len"
   ]
  },
  {
   "cell_type": "code",
   "execution_count": null,
   "metadata": {
    "_kg_hide-input": true,
    "execution": {
     "iopub.execute_input": "2022-03-15T11:07:56.746702Z",
     "iopub.status.busy": "2022-03-15T11:07:56.746480Z",
     "iopub.status.idle": "2022-03-15T11:07:57.078482Z",
     "shell.execute_reply": "2022-03-15T11:07:57.077753Z",
     "shell.execute_reply.started": "2022-03-15T11:07:56.746669Z"
    },
    "id": "HZcu8uGh5QsW",
    "outputId": "a43cd050-b496-4e23-9512-85ba09b18686"
   },
   "outputs": [
    {
     "ename": "AttributeError",
     "evalue": "'AxesSubplot' object has no attribute 'bar_label'",
     "output_type": "error",
     "traceback": [
      "\u001b[1;31m---------------------------------------------------------------------------\u001b[0m",
      "\u001b[1;31mAttributeError\u001b[0m                            Traceback (most recent call last)",
      "\u001b[1;32m<ipython-input-27-1c28dcd112f5>\u001b[0m in \u001b[0;36m<module>\u001b[1;34m\u001b[0m\n\u001b[0;32m      3\u001b[0m \u001b[0mplt\u001b[0m\u001b[1;33m.\u001b[0m\u001b[0mtitle\u001b[0m\u001b[1;33m(\u001b[0m\u001b[1;34m'Count of tweets with less than 10 words'\u001b[0m\u001b[1;33m,\u001b[0m \u001b[0mfontsize\u001b[0m\u001b[1;33m=\u001b[0m\u001b[1;36m20\u001b[0m\u001b[1;33m)\u001b[0m\u001b[1;33m\u001b[0m\u001b[1;33m\u001b[0m\u001b[0m\n\u001b[0;32m      4\u001b[0m \u001b[0mplt\u001b[0m\u001b[1;33m.\u001b[0m\u001b[0myticks\u001b[0m\u001b[1;33m(\u001b[0m\u001b[1;33m[\u001b[0m\u001b[1;33m]\u001b[0m\u001b[1;33m)\u001b[0m\u001b[1;33m\u001b[0m\u001b[1;33m\u001b[0m\u001b[0m\n\u001b[1;32m----> 5\u001b[1;33m \u001b[0max\u001b[0m\u001b[1;33m.\u001b[0m\u001b[0mbar_label\u001b[0m\u001b[1;33m(\u001b[0m\u001b[0max\u001b[0m\u001b[1;33m.\u001b[0m\u001b[0mcontainers\u001b[0m\u001b[1;33m[\u001b[0m\u001b[1;36m0\u001b[0m\u001b[1;33m]\u001b[0m\u001b[1;33m)\u001b[0m\u001b[1;33m\u001b[0m\u001b[1;33m\u001b[0m\u001b[0m\n\u001b[0m\u001b[0;32m      6\u001b[0m \u001b[0mplt\u001b[0m\u001b[1;33m.\u001b[0m\u001b[0mylabel\u001b[0m\u001b[1;33m(\u001b[0m\u001b[1;34m'count'\u001b[0m\u001b[1;33m)\u001b[0m\u001b[1;33m\u001b[0m\u001b[1;33m\u001b[0m\u001b[0m\n\u001b[0;32m      7\u001b[0m \u001b[0mplt\u001b[0m\u001b[1;33m.\u001b[0m\u001b[0mxlabel\u001b[0m\u001b[1;33m(\u001b[0m\u001b[1;34m''\u001b[0m\u001b[1;33m)\u001b[0m\u001b[1;33m\u001b[0m\u001b[1;33m\u001b[0m\u001b[0m\n",
      "\u001b[1;31mAttributeError\u001b[0m: 'AxesSubplot' object has no attribute 'bar_label'"
     ]
    },
    {
     "data": {
      "image/png": "[encoded data removed]",
      "text/plain": [
       "<Figure size 504x360 with 1 Axes>"
      ]
     },
     "metadata": {},
     "output_type": "display_data"
    }
   ],
   "source": [
    "plt.figure(figsize=(7,5))\n",
    "ax = sns.countplot(x='text_len', data=df[df['text_len']<10], palette='mako')\n",
    "plt.title('Count of tweets with less than 10 words', fontsize=20)\n",
    "plt.yticks([])\n",
    "ax.bar_label(ax.containers[0])\n",
    "plt.ylabel('count')\n",
    "plt.xlabel('')\n",
    "plt.show()"
   ]
  },
  {
   "cell_type": "markdown",
   "metadata": {
    "id": "WczQDtSF7575"
   },
   "source": [
    "We will remove tweets that are too short (less than 4 words)."
   ]
  },
  {
   "cell_type": "code",
   "execution_count": null,
   "metadata": {
    "execution": {
     "iopub.execute_input": "2022-03-15T11:07:57.083518Z",
     "iopub.status.busy": "2022-03-15T11:07:57.082883Z",
     "iopub.status.idle": "2022-03-15T11:07:57.099007Z",
     "shell.execute_reply": "2022-03-15T11:07:57.098259Z",
     "shell.execute_reply.started": "2022-03-15T11:07:57.083474Z"
    },
    "id": "6rEvtAXE5QsX"
   },
   "outputs": [],
   "source": [
    "df = df[df['text_len'] > 3]"
   ]
  },
  {
   "cell_type": "markdown",
   "metadata": {
    "id": "fmN9566u5QsX"
   },
   "source": [
    "### What about long tweets?"
   ]
  },
  {
   "cell_type": "code",
   "execution_count": null,
   "metadata": {
    "execution": {
     "iopub.execute_input": "2022-03-15T11:07:57.100672Z",
     "iopub.status.busy": "2022-03-15T11:07:57.100314Z",
     "iopub.status.idle": "2022-03-15T11:07:57.123723Z",
     "shell.execute_reply": "2022-03-15T11:07:57.123015Z",
     "shell.execute_reply.started": "2022-03-15T11:07:57.100638Z"
    },
    "id": "2Dv2aZRv5QsY",
    "outputId": "e856bcba-79ac-46ce-c217-2a1eb0e874e2"
   },
   "outputs": [
    {
     "data": {
      "text/html": [
       "<div>\n",
       "<style scoped>\n",
       "    .dataframe tbody tr th:only-of-type {\n",
       "        vertical-align: middle;\n",
       "    }\n",
       "\n",
       "    .dataframe tbody tr th {\n",
       "        vertical-align: top;\n",
       "    }\n",
       "\n",
       "    .dataframe thead th {\n",
       "        text-align: right;\n",
       "    }\n",
       "</style>\n",
       "<table border=\"1\" class=\"dataframe\">\n",
       "  <thead>\n",
       "    <tr style=\"text-align: right;\">\n",
       "      <th></th>\n",
       "      <th>text</th>\n",
       "      <th>sentiment</th>\n",
       "      <th>text_clean</th>\n",
       "      <th>text_len</th>\n",
       "    </tr>\n",
       "  </thead>\n",
       "  <tbody>\n",
       "    <tr>\n",
       "      <th>44035</th>\n",
       "      <td>You so black and white trying to live like a n...</td>\n",
       "      <td>ethnicity</td>\n",
       "      <td>black white tri live like nigger pahahahaha co...</td>\n",
       "      <td>187</td>\n",
       "    </tr>\n",
       "    <tr>\n",
       "      <th>45165</th>\n",
       "      <td>@hermdiggz: “@tayyoung_: FUCK OBAMA, dumb ass ...</td>\n",
       "      <td>ethnicity</td>\n",
       "      <td>fuck obama dumb ass nigger bitch ltthi whore s...</td>\n",
       "      <td>162</td>\n",
       "    </tr>\n",
       "    <tr>\n",
       "      <th>1317</th>\n",
       "      <td>@EurekAlertAAAS: Researchers push to import to...</td>\n",
       "      <td>not_cyberbullying</td>\n",
       "      <td>research push import top antibulli program us ...</td>\n",
       "      <td>137</td>\n",
       "    </tr>\n",
       "    <tr>\n",
       "      <th>33724</th>\n",
       "      <td>... I don't feel guilty for killing him, I jus...</td>\n",
       "      <td>age</td>\n",
       "      <td>feel guilti kill feel guilti enjoy torment sin...</td>\n",
       "      <td>137</td>\n",
       "    </tr>\n",
       "    <tr>\n",
       "      <th>47037</th>\n",
       "      <td>@Purely_Ambition: Sooo mad. RT @TracePeterson ...</td>\n",
       "      <td>ethnicity</td>\n",
       "      <td>sooo mad rt fuck obama dumb nigger go switzerl...</td>\n",
       "      <td>125</td>\n",
       "    </tr>\n",
       "    <tr>\n",
       "      <th>...</th>\n",
       "      <td>...</td>\n",
       "      <td>...</td>\n",
       "      <td>...</td>\n",
       "      <td>...</td>\n",
       "    </tr>\n",
       "    <tr>\n",
       "      <th>6311</th>\n",
       "      <td>@SteveStreza but you might ask @cperciva - i'm...</td>\n",
       "      <td>not_cyberbullying</td>\n",
       "      <td>might ask pretti sure</td>\n",
       "      <td>4</td>\n",
       "    </tr>\n",
       "    <tr>\n",
       "      <th>6308</th>\n",
       "      <td>RT @ashleylynch: No remark necessary for this ...</td>\n",
       "      <td>not_cyberbullying</td>\n",
       "      <td>rt remark necessari one</td>\n",
       "      <td>4</td>\n",
       "    </tr>\n",
       "    <tr>\n",
       "      <th>6263</th>\n",
       "      <td>@tarah @girlziplocked @hypatiadotca @justkelly...</td>\n",
       "      <td>not_cyberbullying</td>\n",
       "      <td>well support lost mine</td>\n",
       "      <td>4</td>\n",
       "    </tr>\n",
       "    <tr>\n",
       "      <th>6254</th>\n",
       "      <td>@nicollezinha1 @Anniiinhah_ a nicol sofreu bul...</td>\n",
       "      <td>not_cyberbullying</td>\n",
       "      <td>nicol sofreu bulli kkkkkkkkkk</td>\n",
       "      <td>4</td>\n",
       "    </tr>\n",
       "    <tr>\n",
       "      <th>7364</th>\n",
       "      <td>@Vandaliser @sajid_fairooz @IsraeliRegime Here...</td>\n",
       "      <td>not_cyberbullying</td>\n",
       "      <td>exampl process sentenc sharia</td>\n",
       "      <td>4</td>\n",
       "    </tr>\n",
       "  </tbody>\n",
       "</table>\n",
       "<p>37113 rows × 4 columns</p>\n",
       "</div>"
      ],
      "text/plain": [
       "                                                    text          sentiment  \\\n",
       "44035  You so black and white trying to live like a n...          ethnicity   \n",
       "45165  @hermdiggz: “@tayyoung_: FUCK OBAMA, dumb ass ...          ethnicity   \n",
       "1317   @EurekAlertAAAS: Researchers push to import to...  not_cyberbullying   \n",
       "33724  ... I don't feel guilty for killing him, I jus...                age   \n",
       "47037  @Purely_Ambition: Sooo mad. RT @TracePeterson ...          ethnicity   \n",
       "...                                                  ...                ...   \n",
       "6311   @SteveStreza but you might ask @cperciva - i'm...  not_cyberbullying   \n",
       "6308   RT @ashleylynch: No remark necessary for this ...  not_cyberbullying   \n",
       "6263   @tarah @girlziplocked @hypatiadotca @justkelly...  not_cyberbullying   \n",
       "6254   @nicollezinha1 @Anniiinhah_ a nicol sofreu bul...  not_cyberbullying   \n",
       "7364   @Vandaliser @sajid_fairooz @IsraeliRegime Here...  not_cyberbullying   \n",
       "\n",
       "                                              text_clean  text_len  \n",
       "44035  black white tri live like nigger pahahahaha co...       187  \n",
       "45165  fuck obama dumb ass nigger bitch ltthi whore s...       162  \n",
       "1317   research push import top antibulli program us ...       137  \n",
       "33724  feel guilti kill feel guilti enjoy torment sin...       137  \n",
       "47037  sooo mad rt fuck obama dumb nigger go switzerl...       125  \n",
       "...                                                  ...       ...  \n",
       "6311                               might ask pretti sure         4  \n",
       "6308                             rt remark necessari one         4  \n",
       "6263                              well support lost mine         4  \n",
       "6254                       nicol sofreu bulli kkkkkkkkkk         4  \n",
       "7364                       exampl process sentenc sharia         4  \n",
       "\n",
       "[37113 rows x 4 columns]"
      ]
     },
     "execution_count": 29,
     "metadata": {},
     "output_type": "execute_result"
    }
   ],
   "source": [
    "df.sort_values(by=['text_len'], ascending=False)"
   ]
  },
  {
   "cell_type": "code",
   "execution_count": null,
   "metadata": {
    "_kg_hide-input": true,
    "execution": {
     "iopub.execute_input": "2022-03-15T11:07:57.125314Z",
     "iopub.status.busy": "2022-03-15T11:07:57.125028Z",
     "iopub.status.idle": "2022-03-15T11:07:58.182193Z",
     "shell.execute_reply": "2022-03-15T11:07:58.181466Z",
     "shell.execute_reply.started": "2022-03-15T11:07:57.125278Z"
    },
    "id": "Zt9YFv935QsY",
    "outputId": "1aa5c793-4f13-4c37-e095-385ba9b93510"
   },
   "outputs": [
    {
     "ename": "AttributeError",
     "evalue": "'AxesSubplot' object has no attribute 'bar_label'",
     "output_type": "error",
     "traceback": [
      "\u001b[1;31m---------------------------------------------------------------------------\u001b[0m",
      "\u001b[1;31mAttributeError\u001b[0m                            Traceback (most recent call last)",
      "\u001b[1;32m<ipython-input-30-c8466336e1b1>\u001b[0m in \u001b[0;36m<module>\u001b[1;34m\u001b[0m\n\u001b[0;32m      3\u001b[0m \u001b[0mplt\u001b[0m\u001b[1;33m.\u001b[0m\u001b[0mtitle\u001b[0m\u001b[1;33m(\u001b[0m\u001b[1;34m'Count of tweets with high number of words'\u001b[0m\u001b[1;33m,\u001b[0m \u001b[0mfontsize\u001b[0m\u001b[1;33m=\u001b[0m\u001b[1;36m25\u001b[0m\u001b[1;33m)\u001b[0m\u001b[1;33m\u001b[0m\u001b[1;33m\u001b[0m\u001b[0m\n\u001b[0;32m      4\u001b[0m \u001b[0mplt\u001b[0m\u001b[1;33m.\u001b[0m\u001b[0myticks\u001b[0m\u001b[1;33m(\u001b[0m\u001b[1;33m[\u001b[0m\u001b[1;33m]\u001b[0m\u001b[1;33m)\u001b[0m\u001b[1;33m\u001b[0m\u001b[1;33m\u001b[0m\u001b[0m\n\u001b[1;32m----> 5\u001b[1;33m \u001b[0max\u001b[0m\u001b[1;33m.\u001b[0m\u001b[0mbar_label\u001b[0m\u001b[1;33m(\u001b[0m\u001b[0max\u001b[0m\u001b[1;33m.\u001b[0m\u001b[0mcontainers\u001b[0m\u001b[1;33m[\u001b[0m\u001b[1;36m0\u001b[0m\u001b[1;33m]\u001b[0m\u001b[1;33m)\u001b[0m\u001b[1;33m\u001b[0m\u001b[1;33m\u001b[0m\u001b[0m\n\u001b[0m\u001b[0;32m      6\u001b[0m \u001b[0mplt\u001b[0m\u001b[1;33m.\u001b[0m\u001b[0mylabel\u001b[0m\u001b[1;33m(\u001b[0m\u001b[1;34m'count'\u001b[0m\u001b[1;33m)\u001b[0m\u001b[1;33m\u001b[0m\u001b[1;33m\u001b[0m\u001b[0m\n\u001b[0;32m      7\u001b[0m \u001b[0mplt\u001b[0m\u001b[1;33m.\u001b[0m\u001b[0mxlabel\u001b[0m\u001b[1;33m(\u001b[0m\u001b[1;34m''\u001b[0m\u001b[1;33m)\u001b[0m\u001b[1;33m\u001b[0m\u001b[1;33m\u001b[0m\u001b[0m\n",
      "\u001b[1;31mAttributeError\u001b[0m: 'AxesSubplot' object has no attribute 'bar_label'"
     ]
    },
    {
     "data": {
      "image/png": "[encoded data removed]",
      "text/plain": [
       "<Figure size 1152x360 with 1 Axes>"
      ]
     },
     "metadata": {},
     "output_type": "display_data"
    }
   ],
   "source": [
    "plt.figure(figsize=(16,5))\n",
    "ax = sns.countplot(x='text_len', data=df[(df['text_len']<=1000) & (df['text_len']>10)], palette='Blues_r')\n",
    "plt.title('Count of tweets with high number of words', fontsize=25)\n",
    "plt.yticks([])\n",
    "ax.bar_label(ax.containers[0])\n",
    "plt.ylabel('count')\n",
    "plt.xlabel('')\n",
    "plt.show()"
   ]
  },
  {
   "cell_type": "markdown",
   "metadata": {
    "id": "JzY9dDnF5QsY"
   },
   "source": [
    "We also will remove tweets that are too long (with more than 100 words)."
   ]
  },
  {
   "cell_type": "code",
   "execution_count": null,
   "metadata": {
    "execution": {
     "iopub.execute_input": "2022-03-15T11:07:58.186418Z",
     "iopub.status.busy": "2022-03-15T11:07:58.185864Z",
     "iopub.status.idle": "2022-03-15T11:07:58.197824Z",
     "shell.execute_reply": "2022-03-15T11:07:58.196919Z",
     "shell.execute_reply.started": "2022-03-15T11:07:58.186377Z"
    },
    "id": "teb7a02F5QsY"
   },
   "outputs": [],
   "source": [
    "df = df[df['text_len'] < 100]"
   ]
  },
  {
   "cell_type": "markdown",
   "metadata": {
    "id": "6yyufFQw7575"
   },
   "source": [
    "Then we also get the length of the longest tweet since it will be useful later."
   ]
  },
  {
   "cell_type": "code",
   "execution_count": null,
   "metadata": {
    "execution": {
     "iopub.execute_input": "2022-03-15T11:07:58.200176Z",
     "iopub.status.busy": "2022-03-15T11:07:58.199618Z",
     "iopub.status.idle": "2022-03-15T11:07:58.207530Z",
     "shell.execute_reply": "2022-03-15T11:07:58.206712Z",
     "shell.execute_reply.started": "2022-03-15T11:07:58.200138Z"
    },
    "id": "HyQak-0QI9Mk",
    "outputId": "3b02dbe1-c218-482b-9cac-e492265cda3c"
   },
   "outputs": [
    {
     "data": {
      "text/plain": [
       "79"
      ]
     },
     "execution_count": 32,
     "metadata": {},
     "output_type": "execute_result"
    }
   ],
   "source": [
    "max_len = np.max(df['text_len'])\n",
    "max_len "
   ]
  },
  {
   "cell_type": "code",
   "execution_count": null,
   "metadata": {
    "execution": {
     "iopub.execute_input": "2022-03-15T11:07:58.210135Z",
     "iopub.status.busy": "2022-03-15T11:07:58.209289Z",
     "iopub.status.idle": "2022-03-15T11:07:58.238019Z",
     "shell.execute_reply": "2022-03-15T11:07:58.237122Z",
     "shell.execute_reply.started": "2022-03-15T11:07:58.210040Z"
    },
    "id": "NZD-8GJd5Qsa",
    "outputId": "ded71a92-9493-4b03-f38e-3313f05a43e8"
   },
   "outputs": [
    {
     "data": {
      "text/html": [
       "<div>\n",
       "<style scoped>\n",
       "    .dataframe tbody tr th:only-of-type {\n",
       "        vertical-align: middle;\n",
       "    }\n",
       "\n",
       "    .dataframe tbody tr th {\n",
       "        vertical-align: top;\n",
       "    }\n",
       "\n",
       "    .dataframe thead th {\n",
       "        text-align: right;\n",
       "    }\n",
       "</style>\n",
       "<table border=\"1\" class=\"dataframe\">\n",
       "  <thead>\n",
       "    <tr style=\"text-align: right;\">\n",
       "      <th></th>\n",
       "      <th>text</th>\n",
       "      <th>sentiment</th>\n",
       "      <th>text_clean</th>\n",
       "      <th>text_len</th>\n",
       "    </tr>\n",
       "  </thead>\n",
       "  <tbody>\n",
       "    <tr>\n",
       "      <th>4846</th>\n",
       "      <td>@andrea_gcav: @viviaanajim recuerdas como noso...</td>\n",
       "      <td>not_cyberbullying</td>\n",
       "      <td>recuerda como nosotra tambin eramo victima del...</td>\n",
       "      <td>79</td>\n",
       "    </tr>\n",
       "    <tr>\n",
       "      <th>44294</th>\n",
       "      <td>@JasmineLovvee If He Dont Want You Well Fuck H...</td>\n",
       "      <td>ethnicity</td>\n",
       "      <td>dont want well fuck aint worth tear never swea...</td>\n",
       "      <td>73</td>\n",
       "    </tr>\n",
       "    <tr>\n",
       "      <th>45930</th>\n",
       "      <td>Get off ur ego trip, take off ur rose colored ...</td>\n",
       "      <td>ethnicity</td>\n",
       "      <td>get ur ego trip take ur rose color glass amp g...</td>\n",
       "      <td>45</td>\n",
       "    </tr>\n",
       "    <tr>\n",
       "      <th>41749</th>\n",
       "      <td>@seijohgorl hoy mami keito AAAA okay so um ika...</td>\n",
       "      <td>ethnicity</td>\n",
       "      <td>hoy mami keito aaaa okay um ikaw talaga one fi...</td>\n",
       "      <td>43</td>\n",
       "    </tr>\n",
       "    <tr>\n",
       "      <th>21241</th>\n",
       "      <td>And yet God was able to meet their needs using...</td>\n",
       "      <td>religion</td>\n",
       "      <td>yet god abl meet need use radic everyday gener...</td>\n",
       "      <td>43</td>\n",
       "    </tr>\n",
       "    <tr>\n",
       "      <th>...</th>\n",
       "      <td>...</td>\n",
       "      <td>...</td>\n",
       "      <td>...</td>\n",
       "      <td>...</td>\n",
       "    </tr>\n",
       "    <tr>\n",
       "      <th>40899</th>\n",
       "      <td>@SkillzFrom86 YOU DUMB FUCK U ARE A NIGGER</td>\n",
       "      <td>ethnicity</td>\n",
       "      <td>dumb fuck u nigger</td>\n",
       "      <td>4</td>\n",
       "    </tr>\n",
       "    <tr>\n",
       "      <th>4931</th>\n",
       "      <td>@SofapakaCoach will you sign Tom Bayeye? Lol!</td>\n",
       "      <td>not_cyberbullying</td>\n",
       "      <td>sign tom bayey lol</td>\n",
       "      <td>4</td>\n",
       "    </tr>\n",
       "    <tr>\n",
       "      <th>42644</th>\n",
       "      <td>@sharellmariee Why the fuck would he do it the...</td>\n",
       "      <td>ethnicity</td>\n",
       "      <td>fuck would dumb nigger</td>\n",
       "      <td>4</td>\n",
       "    </tr>\n",
       "    <tr>\n",
       "      <th>13986</th>\n",
       "      <td>Men \"have a discussion.\" Women \"argue.\"</td>\n",
       "      <td>gender</td>\n",
       "      <td>men discuss women argu</td>\n",
       "      <td>4</td>\n",
       "    </tr>\n",
       "    <tr>\n",
       "      <th>10222</th>\n",
       "      <td>Can you call a Male- a bitch? Or is only for f...</td>\n",
       "      <td>gender</td>\n",
       "      <td>call male bitch femal</td>\n",
       "      <td>4</td>\n",
       "    </tr>\n",
       "  </tbody>\n",
       "</table>\n",
       "<p>37104 rows × 4 columns</p>\n",
       "</div>"
      ],
      "text/plain": [
       "                                                    text          sentiment  \\\n",
       "4846   @andrea_gcav: @viviaanajim recuerdas como noso...  not_cyberbullying   \n",
       "44294  @JasmineLovvee If He Dont Want You Well Fuck H...          ethnicity   \n",
       "45930  Get off ur ego trip, take off ur rose colored ...          ethnicity   \n",
       "41749  @seijohgorl hoy mami keito AAAA okay so um ika...          ethnicity   \n",
       "21241  And yet God was able to meet their needs using...           religion   \n",
       "...                                                  ...                ...   \n",
       "40899         @SkillzFrom86 YOU DUMB FUCK U ARE A NIGGER          ethnicity   \n",
       "4931       @SofapakaCoach will you sign Tom Bayeye? Lol!  not_cyberbullying   \n",
       "42644  @sharellmariee Why the fuck would he do it the...          ethnicity   \n",
       "13986            Men \"have a discussion.\" Women \"argue.\"             gender   \n",
       "10222  Can you call a Male- a bitch? Or is only for f...             gender   \n",
       "\n",
       "                                              text_clean  text_len  \n",
       "4846   recuerda como nosotra tambin eramo victima del...        79  \n",
       "44294  dont want well fuck aint worth tear never swea...        73  \n",
       "45930  get ur ego trip take ur rose color glass amp g...        45  \n",
       "41749  hoy mami keito aaaa okay um ikaw talaga one fi...        43  \n",
       "21241  yet god abl meet need use radic everyday gener...        43  \n",
       "...                                                  ...       ...  \n",
       "40899                                 dumb fuck u nigger         4  \n",
       "4931                                  sign tom bayey lol         4  \n",
       "42644                             fuck would dumb nigger         4  \n",
       "13986                             men discuss women argu         4  \n",
       "10222                              call male bitch femal         4  \n",
       "\n",
       "[37104 rows x 4 columns]"
      ]
     },
     "execution_count": 33,
     "metadata": {},
     "output_type": "execute_result"
    }
   ],
   "source": [
    "df.sort_values(by=[\"text_len\"], ascending=False)"
   ]
  },
  {
   "cell_type": "markdown",
   "metadata": {
    "id": "ZywJngVH7576"
   },
   "source": [
    "## Sentiment column encoding"
   ]
  },
  {
   "cell_type": "markdown",
   "metadata": {
    "id": "VqV_PVta7576"
   },
   "source": [
    "The target column will be encoded by ordinal encoding"
   ]
  },
  {
   "cell_type": "code",
   "execution_count": null,
   "metadata": {
    "execution": {
     "iopub.execute_input": "2022-03-15T11:07:58.242675Z",
     "iopub.status.busy": "2022-03-15T11:07:58.242134Z",
     "iopub.status.idle": "2022-03-15T11:07:58.293084Z",
     "shell.execute_reply": "2022-03-15T11:07:58.292476Z",
     "shell.execute_reply.started": "2022-03-15T11:07:58.242627Z"
    },
    "id": "NIS_nyXBG416"
   },
   "outputs": [],
   "source": [
    "df['sentiment'] = df['sentiment'].replace({'religion':0,'age':1,'ethnicity':2,'gender':3,'not_cyberbullying':4})"
   ]
  },
  {
   "cell_type": "code",
   "execution_count": null,
   "metadata": {
    "id": "xK2kP0vL7576"
   },
   "outputs": [],
   "source": []
  },
  {
   "cell_type": "code",
   "execution_count": null,
   "metadata": {
    "id": "mI_xpe7c7576"
   },
   "outputs": [],
   "source": []
  },
  {
   "cell_type": "code",
   "execution_count": null,
   "metadata": {
    "id": "GbU_xL7G7576",
    "outputId": "b7b62785-41aa-4793-a60c-c0691def4f12"
   },
   "outputs": [
    {
     "data": {
      "text/plain": [
       "0        4\n",
       "1        4\n",
       "2        4\n",
       "3        4\n",
       "4        4\n",
       "        ..\n",
       "47687    2\n",
       "47688    2\n",
       "47689    2\n",
       "47690    2\n",
       "47691    2\n",
       "Name: sentiment, Length: 37104, dtype: int64"
      ]
     },
     "execution_count": 35,
     "metadata": {},
     "output_type": "execute_result"
    }
   ],
   "source": [
    "df['sentiment']"
   ]
  },
  {
   "cell_type": "code",
   "execution_count": null,
   "metadata": {
    "id": "ASsLChGy7576"
   },
   "outputs": [],
   "source": []
  },
  {
   "cell_type": "markdown",
   "metadata": {
    "id": "ELMGaiE-F7yn"
   },
   "source": [
    "## Train - Test split"
   ]
  },
  {
   "cell_type": "markdown",
   "metadata": {
    "id": "jrLwRbummpEq"
   },
   "source": [
    "Now we need to split the dataset into a train and test sets."
   ]
  },
  {
   "cell_type": "code",
   "execution_count": null,
   "metadata": {
    "execution": {
     "iopub.execute_input": "2022-03-15T11:07:58.294480Z",
     "iopub.status.busy": "2022-03-15T11:07:58.294120Z",
     "iopub.status.idle": "2022-03-15T11:07:58.298913Z",
     "shell.execute_reply": "2022-03-15T11:07:58.298124Z",
     "shell.execute_reply.started": "2022-03-15T11:07:58.294447Z"
    },
    "id": "BF01CgBtBONZ"
   },
   "outputs": [],
   "source": [
    "X = df['text_clean']\n",
    "y = df['sentiment']"
   ]
  },
  {
   "cell_type": "code",
   "execution_count": null,
   "metadata": {
    "execution": {
     "iopub.execute_input": "2022-03-15T11:07:58.300839Z",
     "iopub.status.busy": "2022-03-15T11:07:58.300572Z",
     "iopub.status.idle": "2022-03-15T11:07:58.345104Z",
     "shell.execute_reply": "2022-03-15T11:07:58.344434Z",
     "shell.execute_reply.started": "2022-03-15T11:07:58.300806Z"
    },
    "id": "fvQexohPGAZf"
   },
   "outputs": [],
   "source": [
    "X_train, X_test, y_train, y_test = train_test_split(X, y, test_size=0.2, stratify=y, random_state=seed_value)"
   ]
  },
  {
   "cell_type": "markdown",
   "metadata": {
    "id": "A0d0lSX0GbNS"
   },
   "source": [
    "## Train - Validation split"
   ]
  },
  {
   "cell_type": "markdown",
   "metadata": {
    "id": "0OsrkfnCmtk0"
   },
   "source": [
    "Moreover, we will further split the training set to extract a validation set, which will be used to monior the accuracy and loss to avoid overfitting during the model training."
   ]
  },
  {
   "cell_type": "code",
   "execution_count": null,
   "metadata": {
    "execution": {
     "iopub.execute_input": "2022-03-15T11:07:58.349926Z",
     "iopub.status.busy": "2022-03-15T11:07:58.345999Z",
     "iopub.status.idle": "2022-03-15T11:07:58.385220Z",
     "shell.execute_reply": "2022-03-15T11:07:58.384567Z",
     "shell.execute_reply.started": "2022-03-15T11:07:58.349890Z"
    },
    "id": "1KyTh6H5GbR4"
   },
   "outputs": [],
   "source": [
    "X_train, X_valid, y_train, y_valid = train_test_split(X_train, y_train, test_size=0.1, stratify=y_train, random_state=seed_value)"
   ]
  },
  {
   "cell_type": "code",
   "execution_count": null,
   "metadata": {
    "execution": {
     "iopub.execute_input": "2022-03-15T11:07:58.387038Z",
     "iopub.status.busy": "2022-03-15T11:07:58.386848Z",
     "iopub.status.idle": "2022-03-15T11:07:58.393696Z",
     "shell.execute_reply": "2022-03-15T11:07:58.392977Z",
     "shell.execute_reply.started": "2022-03-15T11:07:58.387014Z"
    },
    "id": "N-mC3qyuBONc",
    "outputId": "f2951106-29bf-4611-e420-84b7d19c4fc9"
   },
   "outputs": [
    {
     "data": {
      "text/plain": [
       "array([[   0, 5682],\n",
       "       [   1, 5635],\n",
       "       [   2, 5549],\n",
       "       [   3, 5261],\n",
       "       [   4, 4587]], dtype=int64)"
      ]
     },
     "execution_count": 75,
     "metadata": {},
     "output_type": "execute_result"
    }
   ],
   "source": [
    "(unique, counts) = np.unique(y_train, return_counts=True)\n",
    "np.asarray((unique, counts)).T"
   ]
  },
  {
   "cell_type": "markdown",
   "metadata": {
    "id": "45AGAxHSnCXW"
   },
   "source": [
    "The classes are unbalanced, so it could be a good idea to oversample the training set such that all classes have the same count as the most populated one."
   ]
  },
  {
   "cell_type": "markdown",
   "metadata": {
    "id": "Geqa3e3zGUNL"
   },
   "source": [
    "# Oversampling of training set"
   ]
  },
  {
   "cell_type": "code",
   "execution_count": null,
   "metadata": {
    "execution": {
     "iopub.execute_input": "2022-03-15T11:07:58.395835Z",
     "iopub.status.busy": "2022-03-15T11:07:58.394978Z",
     "iopub.status.idle": "2022-03-15T11:07:58.452354Z",
     "shell.execute_reply": "2022-03-15T11:07:58.451750Z",
     "shell.execute_reply.started": "2022-03-15T11:07:58.395800Z"
    },
    "id": "JN5OCli8BONe"
   },
   "outputs": [],
   "source": [
    "ros = RandomOverSampler()\n",
    "X_train, y_train = ros.fit_resample(np.array(X_train).reshape(-1, 1), np.array(y_train).reshape(-1, 1));\n",
    "train_os = pd.DataFrame(list(zip([x[0] for x in X_train], y_train)), columns = ['text_clean', 'sentiment']);"
   ]
  },
  {
   "cell_type": "code",
   "execution_count": null,
   "metadata": {
    "execution": {
     "iopub.execute_input": "2022-03-15T11:07:58.453810Z",
     "iopub.status.busy": "2022-03-15T11:07:58.453423Z",
     "iopub.status.idle": "2022-03-15T11:07:58.458737Z",
     "shell.execute_reply": "2022-03-15T11:07:58.458027Z",
     "shell.execute_reply.started": "2022-03-15T11:07:58.453773Z"
    },
    "id": "qAwnlrGoBONe"
   },
   "outputs": [],
   "source": [
    "X_train = train_os['text_clean'].values\n",
    "y_train = train_os['sentiment'].values"
   ]
  },
  {
   "cell_type": "code",
   "execution_count": null,
   "metadata": {
    "execution": {
     "iopub.execute_input": "2022-03-15T11:07:58.460557Z",
     "iopub.status.busy": "2022-03-15T11:07:58.459844Z",
     "iopub.status.idle": "2022-03-15T11:07:58.470074Z",
     "shell.execute_reply": "2022-03-15T11:07:58.469327Z",
     "shell.execute_reply.started": "2022-03-15T11:07:58.460518Z"
    },
    "id": "zNopbN4gBONe",
    "outputId": "77ac78ff-a8ce-48f8-923c-57f5b8dc066f"
   },
   "outputs": [
    {
     "data": {
      "text/plain": [
       "array([[   0, 5682],\n",
       "       [   1, 5682],\n",
       "       [   2, 5682],\n",
       "       [   3, 5682],\n",
       "       [   4, 5682]], dtype=int64)"
      ]
     },
     "execution_count": 78,
     "metadata": {},
     "output_type": "execute_result"
    }
   ],
   "source": [
    "(unique, counts) = np.unique(y_train, return_counts=True)\n",
    "np.asarray((unique, counts)).T"
   ]
  },
  {
   "cell_type": "code",
   "execution_count": null,
   "metadata": {
    "id": "OrkS7H3e7578",
    "outputId": "410c5fe2-62c6-4a7d-ede5-9093c8a6d7e2"
   },
   "outputs": [
    {
     "data": {
      "text/plain": [
       "'littl brother destroy summer school bulli fortnit 1v1 via'"
      ]
     },
     "execution_count": 132,
     "metadata": {},
     "output_type": "execute_result"
    }
   ],
   "source": [
    "X_train[0]"
   ]
  },
  {
   "cell_type": "code",
   "execution_count": null,
   "metadata": {
    "id": "YMSoK_c47578",
    "outputId": "99e69a79-43fd-4260-e308-971e712da1cd"
   },
   "outputs": [
    {
     "data": {
      "text/plain": [
       "array([1, 2, 4, ..., 4, 4, 4], dtype=int64)"
      ]
     },
     "execution_count": 130,
     "metadata": {},
     "output_type": "execute_result"
    }
   ],
   "source": [
    "y_train"
   ]
  },
  {
   "cell_type": "markdown",
   "metadata": {
    "id": "FoajOPGl7578"
   },
   "source": [
    "# Naive Bayes baseline model"
   ]
  },
  {
   "cell_type": "markdown",
   "metadata": {
    "id": "DkxnngAp7578"
   },
   "source": [
    "The first algorithm we will implement is Naive Bayes, which will be used as a simple baseline model. In order to use this algorithm, we need first need to preprocess the text data. <br>\n",
    "First, we will create a bag of words using CountVectorizer."
   ]
  },
  {
   "cell_type": "code",
   "execution_count": null,
   "metadata": {
    "execution": {
     "iopub.execute_input": "2022-03-15T11:07:58.477077Z",
     "iopub.status.busy": "2022-03-15T11:07:58.476872Z",
     "iopub.status.idle": "2022-03-15T11:07:59.175229Z",
     "shell.execute_reply": "2022-03-15T11:07:59.174469Z",
     "shell.execute_reply.started": "2022-03-15T11:07:58.477034Z"
    },
    "id": "lRCIXRz5BONe"
   },
   "outputs": [],
   "source": [
    "clf = CountVectorizer()\n"
   ]
  },
  {
   "cell_type": "code",
   "execution_count": null,
   "metadata": {
    "id": "6Bv2ujQc7579",
    "outputId": "2c8b060e-de9b-4024-f559-8748ff782276"
   },
   "outputs": [
    {
     "data": {
      "text/plain": [
       "28410"
      ]
     },
     "execution_count": 135,
     "metadata": {},
     "output_type": "execute_result"
    }
   ],
   "source": [
    "len(X_train)"
   ]
  },
  {
   "cell_type": "code",
   "execution_count": null,
   "metadata": {
    "id": "3WQD4D1f7579"
   },
   "outputs": [],
   "source": [
    "X_train_cv =  clf.fit_transform(X_train)"
   ]
  },
  {
   "cell_type": "code",
   "execution_count": null,
   "metadata": {
    "id": "QKienD5t7579",
    "outputId": "04934d52-3bf3-4088-c8a4-75c6903f6565"
   },
   "outputs": [
    {
     "data": {
      "text/plain": [
       "<28410x27090 sparse matrix of type '<class 'numpy.int64'>'\n",
       "\twith 379193 stored elements in Compressed Sparse Row format>"
      ]
     },
     "execution_count": 137,
     "metadata": {},
     "output_type": "execute_result"
    }
   ],
   "source": [
    "X_train_cv"
   ]
  },
  {
   "cell_type": "code",
   "execution_count": null,
   "metadata": {
    "id": "MqvXlKOK7579",
    "outputId": "be4a6173-67d8-4a80-c3be-666a64dd0b3f"
   },
   "outputs": [
    {
     "data": {
      "text/plain": [
       "matrix([[0, 0, 0, ..., 0, 0, 0],\n",
       "        [0, 0, 0, ..., 0, 0, 0],\n",
       "        [0, 0, 0, ..., 0, 0, 0],\n",
       "        ...,\n",
       "        [0, 0, 0, ..., 0, 0, 0],\n",
       "        [0, 0, 0, ..., 0, 0, 0],\n",
       "        [0, 0, 0, ..., 0, 0, 0]], dtype=int64)"
      ]
     },
     "execution_count": 138,
     "metadata": {},
     "output_type": "execute_result"
    }
   ],
   "source": [
    "X_train_cv.todense()"
   ]
  },
  {
   "cell_type": "code",
   "execution_count": null,
   "metadata": {
    "id": "Rh9BqMub7579",
    "outputId": "a48a0067-d5af-4057-a9ed-21fd7b537104"
   },
   "outputs": [
    {
     "name": "stderr",
     "output_type": "stream",
     "text": [
      "C:\\Users\\chira\\anaconda3\\lib\\site-packages\\sklearn\\utils\\deprecation.py:87: FutureWarning: Function get_feature_names is deprecated; get_feature_names is deprecated in 1.0 and will be removed in 1.2. Please use get_feature_names_out instead.\n",
      "  warnings.warn(msg, category=FutureWarning)\n"
     ]
    },
    {
     "data": {
      "text/plain": [
       "['00',\n",
       " '000',\n",
       " '0006',\n",
       " '00you',\n",
       " '010',\n",
       " '01867',\n",
       " '0255',\n",
       " '05',\n",
       " '0505',\n",
       " '05mn',\n",
       " '06',\n",
       " '07',\n",
       " '0853am',\n",
       " '0911',\n",
       " '0f',\n",
       " '0lace',\n",
       " '0o',\n",
       " '0rang',\n",
       " '10',\n",
       " '100',\n",
       " '1000',\n",
       " '10000',\n",
       " '100000',\n",
       " '100000000',\n",
       " '10000000chill',\n",
       " '100010',\n",
       " '100b',\n",
       " '100bc',\n",
       " '100k',\n",
       " '100lb',\n",
       " '100th',\n",
       " '100year',\n",
       " '101',\n",
       " '1010',\n",
       " '1013',\n",
       " '1015',\n",
       " '1018',\n",
       " '102',\n",
       " '102000',\n",
       " '102216',\n",
       " '1030',\n",
       " '10324830m',\n",
       " '104',\n",
       " '1040',\n",
       " '105',\n",
       " '105b',\n",
       " '106',\n",
       " '1063',\n",
       " '1095',\n",
       " '10inch',\n",
       " '10k',\n",
       " '10m',\n",
       " '10mil',\n",
       " '10mkr',\n",
       " '10pm',\n",
       " '10reserv',\n",
       " '10right',\n",
       " '10th',\n",
       " '10th11th12th',\n",
       " '10to1',\n",
       " '10x',\n",
       " '10yearold',\n",
       " '10yearsof1d',\n",
       " '10yr',\n",
       " '11',\n",
       " '110',\n",
       " '1100',\n",
       " '1100am',\n",
       " '110830tran',\n",
       " '110th',\n",
       " '1112',\n",
       " '1114',\n",
       " '1116',\n",
       " '11415',\n",
       " '115',\n",
       " '115th',\n",
       " '11pm',\n",
       " '11th',\n",
       " '11year',\n",
       " '11yr',\n",
       " '12',\n",
       " '120',\n",
       " '1200',\n",
       " '1202021',\n",
       " '1213in',\n",
       " '1214',\n",
       " '1223',\n",
       " '123',\n",
       " '1233',\n",
       " '125',\n",
       " '1250',\n",
       " '125th',\n",
       " '128',\n",
       " '128517',\n",
       " '128524',\n",
       " '128525',\n",
       " '128529',\n",
       " '128530',\n",
       " '128563128586',\n",
       " '128564128075',\n",
       " '128584',\n",
       " '1285918221',\n",
       " '12am',\n",
       " '12ep',\n",
       " '12ish',\n",
       " '12k',\n",
       " '12th',\n",
       " '12wk',\n",
       " '12x2',\n",
       " '12year',\n",
       " '12yearold',\n",
       " '12yr',\n",
       " '12yrold',\n",
       " '12yrsago',\n",
       " '13',\n",
       " '130',\n",
       " '1300',\n",
       " '130000',\n",
       " '131515',\n",
       " '132540',\n",
       " '1330',\n",
       " '135',\n",
       " '138',\n",
       " '13and',\n",
       " '13m',\n",
       " '13rd',\n",
       " '13reasonswhi',\n",
       " '13thi',\n",
       " '13year',\n",
       " '13yearold',\n",
       " '13yo',\n",
       " '13yrold',\n",
       " '14',\n",
       " '140',\n",
       " '1400',\n",
       " '140000',\n",
       " '1417',\n",
       " '144p',\n",
       " '1452',\n",
       " '1453',\n",
       " '1460',\n",
       " '146811',\n",
       " '148',\n",
       " '149lb',\n",
       " '14th',\n",
       " '14x4bone',\n",
       " '14yearold',\n",
       " '14yr',\n",
       " '15',\n",
       " '150',\n",
       " '1500',\n",
       " '15000',\n",
       " '150000',\n",
       " '15001800',\n",
       " '1500s1700',\n",
       " '150cm',\n",
       " '150k',\n",
       " '1516',\n",
       " '1519',\n",
       " '1520',\n",
       " '155',\n",
       " '157',\n",
       " '15836',\n",
       " '159',\n",
       " '15th',\n",
       " '15yo',\n",
       " '15yr',\n",
       " '16',\n",
       " '160',\n",
       " '1600',\n",
       " '1611',\n",
       " '16127568',\n",
       " '1617',\n",
       " '1619',\n",
       " '162',\n",
       " '167485432',\n",
       " '168',\n",
       " '1689',\n",
       " '16yearold',\n",
       " '16yo',\n",
       " '16yoish',\n",
       " '16yr',\n",
       " '17',\n",
       " '1700',\n",
       " '170402',\n",
       " '170403',\n",
       " '1732',\n",
       " '175',\n",
       " '1792',\n",
       " '17n',\n",
       " '17th',\n",
       " '17year',\n",
       " '18',\n",
       " '180',\n",
       " '1800',\n",
       " '1814',\n",
       " '1819',\n",
       " '1820',\n",
       " '184',\n",
       " '1840',\n",
       " '1850',\n",
       " '1857',\n",
       " '1860',\n",
       " '1863',\n",
       " '187',\n",
       " '1890',\n",
       " '18billion',\n",
       " '18c',\n",
       " '18th',\n",
       " '18yo',\n",
       " '19',\n",
       " '190',\n",
       " '1900',\n",
       " '19000',\n",
       " '1904',\n",
       " '191',\n",
       " '1910',\n",
       " '1914',\n",
       " '1916',\n",
       " '1917',\n",
       " '1920',\n",
       " '1925so',\n",
       " '1926',\n",
       " '1930',\n",
       " '19312015',\n",
       " '1934',\n",
       " '1935what',\n",
       " '1940',\n",
       " '1945',\n",
       " '1947',\n",
       " '1948',\n",
       " '1949',\n",
       " '1950',\n",
       " '1954',\n",
       " '1956',\n",
       " '1958',\n",
       " '1960',\n",
       " '1962',\n",
       " '1963',\n",
       " '1965',\n",
       " '1966',\n",
       " '1967',\n",
       " '1970',\n",
       " '1971',\n",
       " '19711999',\n",
       " '1971cheesi',\n",
       " '1973',\n",
       " '1974',\n",
       " '1975',\n",
       " '1976',\n",
       " '1977',\n",
       " '1980',\n",
       " '1981',\n",
       " '1983',\n",
       " '1984',\n",
       " '1985',\n",
       " '1986',\n",
       " '1988',\n",
       " '1989',\n",
       " '1990',\n",
       " '1991',\n",
       " '1992',\n",
       " '1993',\n",
       " '1993jaipur',\n",
       " '19951996',\n",
       " '199599',\n",
       " '1997',\n",
       " '1998',\n",
       " '1999',\n",
       " '19m',\n",
       " '19th',\n",
       " '19wk',\n",
       " '19yearold',\n",
       " '1a',\n",
       " '1am',\n",
       " '1amp2',\n",
       " '1b',\n",
       " '1d',\n",
       " '1dfact',\n",
       " '1dimension',\n",
       " '1er',\n",
       " '1first',\n",
       " '1go',\n",
       " '1h',\n",
       " '1how',\n",
       " '1hr',\n",
       " '1im',\n",
       " '1in1million',\n",
       " '1joke',\n",
       " '1k',\n",
       " '1km',\n",
       " '1m',\n",
       " '1mil',\n",
       " '1n',\n",
       " '1nice',\n",
       " '1of2',\n",
       " '1on1',\n",
       " '1religion',\n",
       " '1rtb',\n",
       " '1sdo',\n",
       " '1self',\n",
       " '1similarli',\n",
       " '1slam',\n",
       " '1sr',\n",
       " '1ssay',\n",
       " '1st',\n",
       " '1stamp',\n",
       " '1stbefor',\n",
       " '1stli',\n",
       " '1the',\n",
       " '1there',\n",
       " '1v1',\n",
       " '1vic',\n",
       " '1what',\n",
       " '1ya',\n",
       " '20',\n",
       " '200',\n",
       " '2000',\n",
       " '20000',\n",
       " '2001',\n",
       " '2002',\n",
       " '2003',\n",
       " '2004',\n",
       " '20042010',\n",
       " '2005',\n",
       " '2006',\n",
       " '2007',\n",
       " '2008',\n",
       " '20082016',\n",
       " '20082611',\n",
       " '2009',\n",
       " '200million',\n",
       " '200some',\n",
       " '2010',\n",
       " '2011',\n",
       " '2012',\n",
       " '2012gop',\n",
       " '2012it',\n",
       " '2013',\n",
       " '201314',\n",
       " '2013writeoff',\n",
       " '2014',\n",
       " '2015',\n",
       " '2016',\n",
       " '201617',\n",
       " '2017',\n",
       " '2018',\n",
       " '201819',\n",
       " '2019',\n",
       " '2020',\n",
       " '202021',\n",
       " '2022',\n",
       " '2022255744',\n",
       " '2024',\n",
       " '2027279099',\n",
       " '2029',\n",
       " '2048',\n",
       " '207',\n",
       " '20day',\n",
       " '20pack',\n",
       " '20someth',\n",
       " '20th',\n",
       " '20x',\n",
       " '20yr',\n",
       " '21',\n",
       " '210',\n",
       " '21000',\n",
       " '21012015',\n",
       " '210lb',\n",
       " '2111',\n",
       " '212',\n",
       " '2191193',\n",
       " '21k',\n",
       " '21st',\n",
       " '22',\n",
       " '2200',\n",
       " '22000',\n",
       " '220million',\n",
       " '223',\n",
       " '2256',\n",
       " '2282',\n",
       " '22yr',\n",
       " '23',\n",
       " '230',\n",
       " '2301',\n",
       " '237',\n",
       " '238',\n",
       " '24',\n",
       " '241',\n",
       " '2435',\n",
       " '247',\n",
       " '247he',\n",
       " '24915022020f',\n",
       " '2499',\n",
       " '24hr',\n",
       " '24k',\n",
       " '25',\n",
       " '250',\n",
       " '2500',\n",
       " '25000',\n",
       " '250k',\n",
       " '2516000',\n",
       " '255000',\n",
       " '258',\n",
       " '25month',\n",
       " '26',\n",
       " '2611',\n",
       " '2611and',\n",
       " '2611read',\n",
       " '262',\n",
       " '263',\n",
       " '27',\n",
       " '270',\n",
       " '274',\n",
       " '28',\n",
       " '280',\n",
       " '285',\n",
       " '287',\n",
       " '28th',\n",
       " '29',\n",
       " '2913the',\n",
       " '2916367',\n",
       " '2916431',\n",
       " '2916811',\n",
       " '2916816',\n",
       " '2917256',\n",
       " '2917394',\n",
       " '2917460',\n",
       " '2917793',\n",
       " '2917887',\n",
       " '2918212',\n",
       " '2918468',\n",
       " '2918497',\n",
       " '2918559',\n",
       " '2918616',\n",
       " '2919160',\n",
       " '2919196',\n",
       " '2919234',\n",
       " '2919245',\n",
       " '2919622',\n",
       " '2919886',\n",
       " '292',\n",
       " '2921450',\n",
       " '2922004',\n",
       " '2922295',\n",
       " '2922531',\n",
       " '2929923',\n",
       " '2a',\n",
       " '2am',\n",
       " '2b',\n",
       " '2be',\n",
       " '2black',\n",
       " '2bsee',\n",
       " '2but',\n",
       " '2d',\n",
       " '2day',\n",
       " '2fa',\n",
       " '2face',\n",
       " '2g',\n",
       " '2gather',\n",
       " '2geda',\n",
       " '2gedaincludin',\n",
       " '2get',\n",
       " '2gether',\n",
       " '2getherd',\n",
       " '2have',\n",
       " '2hr',\n",
       " '2ice',\n",
       " '2ith',\n",
       " '2k',\n",
       " '2km',\n",
       " '2know',\n",
       " '2make',\n",
       " '2me',\n",
       " '2million',\n",
       " '2month',\n",
       " '2mrw',\n",
       " '2much',\n",
       " '2nd',\n",
       " '2nite',\n",
       " '2nyt',\n",
       " '2pac',\n",
       " '2parti',\n",
       " '2rentif',\n",
       " '2show',\n",
       " '2shut',\n",
       " '2state',\n",
       " '2stop',\n",
       " '2term',\n",
       " '2termssssss',\n",
       " '2termsssssss',\n",
       " '2termz',\n",
       " '2that',\n",
       " '2the',\n",
       " '2they',\n",
       " '2to',\n",
       " '2v1',\n",
       " '2v2',\n",
       " '2vic',\n",
       " '2wht',\n",
       " '2x',\n",
       " '2x4learn',\n",
       " '2yearsampmi',\n",
       " '2yr',\n",
       " '30',\n",
       " '300',\n",
       " '3000',\n",
       " '30000',\n",
       " '300000',\n",
       " '30000000000',\n",
       " '3023',\n",
       " '305',\n",
       " '309',\n",
       " '3090',\n",
       " '30day',\n",
       " '30he',\n",
       " '30k',\n",
       " '30mum',\n",
       " '30th',\n",
       " '30yr',\n",
       " '3108',\n",
       " '312',\n",
       " '31221',\n",
       " '315',\n",
       " '3151',\n",
       " '31st',\n",
       " '32',\n",
       " '320',\n",
       " '321',\n",
       " '325',\n",
       " '33',\n",
       " '330',\n",
       " '3315',\n",
       " '333',\n",
       " '3333',\n",
       " '34',\n",
       " '34th',\n",
       " '35',\n",
       " '350',\n",
       " '35000',\n",
       " '36',\n",
       " '360',\n",
       " '37',\n",
       " '370',\n",
       " '3700',\n",
       " '3749693',\n",
       " '375',\n",
       " '38',\n",
       " '387',\n",
       " '38million',\n",
       " '39',\n",
       " '3940',\n",
       " '399',\n",
       " '3am',\n",
       " '3aw',\n",
       " '3b',\n",
       " '3cb',\n",
       " '3chainz',\n",
       " '3d',\n",
       " '3dear',\n",
       " '3ft',\n",
       " '3h',\n",
       " '3i',\n",
       " '3just',\n",
       " '3k',\n",
       " '3leeekom',\n",
       " '3mlm',\n",
       " '3mn',\n",
       " '3nil',\n",
       " '3rd',\n",
       " '3rdli',\n",
       " '3some',\n",
       " '3stugi',\n",
       " '3tahhir',\n",
       " '3the',\n",
       " '3v3',\n",
       " '3word',\n",
       " '3x',\n",
       " '40',\n",
       " '400',\n",
       " '40000',\n",
       " '400000',\n",
       " '40000000',\n",
       " '400lb',\n",
       " '400m',\n",
       " '40just',\n",
       " '40k',\n",
       " '40th',\n",
       " '40yearold',\n",
       " '40yr',\n",
       " '41',\n",
       " '411',\n",
       " '411pain',\n",
       " '42',\n",
       " '4201770',\n",
       " '422',\n",
       " '4271770',\n",
       " '434',\n",
       " '437hr',\n",
       " '43yr',\n",
       " '44',\n",
       " '440m',\n",
       " '45',\n",
       " '45km',\n",
       " '45min',\n",
       " '46',\n",
       " '46th',\n",
       " '47',\n",
       " '4700',\n",
       " '473',\n",
       " '474',\n",
       " '47traitor',\n",
       " '48',\n",
       " '49',\n",
       " '4942',\n",
       " '4949',\n",
       " '4958239689587',\n",
       " '498aorg',\n",
       " '49r',\n",
       " '4am',\n",
       " '4at',\n",
       " '4chan',\n",
       " '4ever',\n",
       " '4exactli',\n",
       " '4feet',\n",
       " '4g',\n",
       " '4get',\n",
       " '4hide',\n",
       " '4inhand',\n",
       " '4k',\n",
       " '4l',\n",
       " '4loko',\n",
       " '4m',\n",
       " '4moreyear',\n",
       " '4pm',\n",
       " '4rm',\n",
       " '4th',\n",
       " '4th6th',\n",
       " '4thcolleg',\n",
       " '4them',\n",
       " '4thofjuli',\n",
       " '4thofjuly2020',\n",
       " '4wild',\n",
       " '4wtc',\n",
       " '4x',\n",
       " '50',\n",
       " '500',\n",
       " '5000',\n",
       " '50000',\n",
       " '500ad',\n",
       " '500k',\n",
       " '501',\n",
       " '50100',\n",
       " '5050',\n",
       " '50color',\n",
       " '50s60',\n",
       " '50year',\n",
       " '50yrold',\n",
       " '51',\n",
       " '510',\n",
       " '517',\n",
       " '518',\n",
       " '52',\n",
       " '52224',\n",
       " '5270',\n",
       " '52837th',\n",
       " '53',\n",
       " '532',\n",
       " '535',\n",
       " '545',\n",
       " '55',\n",
       " '553',\n",
       " '55min',\n",
       " '55year',\n",
       " '56',\n",
       " '57',\n",
       " '57countri',\n",
       " '58',\n",
       " '580',\n",
       " '5811',\n",
       " '58381her',\n",
       " '59',\n",
       " '5am',\n",
       " '5b',\n",
       " '5dayss',\n",
       " '5g',\n",
       " '5h',\n",
       " '5k',\n",
       " '5low',\n",
       " '5s',\n",
       " '5so',\n",
       " '5th',\n",
       " '5yearold',\n",
       " '5yo',\n",
       " '60',\n",
       " '600',\n",
       " '600000',\n",
       " '600pm',\n",
       " '6070',\n",
       " '60k',\n",
       " '60s70',\n",
       " '60yearold',\n",
       " '60yo',\n",
       " '61',\n",
       " '614',\n",
       " '6159',\n",
       " '62',\n",
       " '63',\n",
       " '64',\n",
       " '648',\n",
       " '65',\n",
       " '65000',\n",
       " '66',\n",
       " '662',\n",
       " '666',\n",
       " '6673',\n",
       " '67',\n",
       " '670000',\n",
       " '68',\n",
       " '69',\n",
       " '690',\n",
       " '6am',\n",
       " '6ft',\n",
       " '6ix9in',\n",
       " '6pm',\n",
       " '6s',\n",
       " '6th',\n",
       " '6the',\n",
       " '6week',\n",
       " '6wordstori',\n",
       " '6x',\n",
       " '6year',\n",
       " '70',\n",
       " '700',\n",
       " '7000',\n",
       " '70000',\n",
       " '70k',\n",
       " '70searli',\n",
       " '70so',\n",
       " '71',\n",
       " '711',\n",
       " '712',\n",
       " '71mecheck',\n",
       " '72',\n",
       " '73',\n",
       " '730',\n",
       " '730pm',\n",
       " '74',\n",
       " '75',\n",
       " '750',\n",
       " '754',\n",
       " '7604091649',\n",
       " '761230m',\n",
       " '763',\n",
       " '77',\n",
       " '771',\n",
       " '772',\n",
       " '776',\n",
       " '777',\n",
       " '78',\n",
       " '79',\n",
       " '7am',\n",
       " '7clrd',\n",
       " '7if',\n",
       " '7ish',\n",
       " '7k',\n",
       " '7n',\n",
       " '7s',\n",
       " '7th',\n",
       " '7x',\n",
       " '80',\n",
       " '800',\n",
       " '8000',\n",
       " '80000',\n",
       " '800000',\n",
       " '80smovi',\n",
       " '80today',\n",
       " '81',\n",
       " '810',\n",
       " '812',\n",
       " '815',\n",
       " '8161',\n",
       " '81st',\n",
       " '8220',\n",
       " '826',\n",
       " '83',\n",
       " '832057238k',\n",
       " '8325',\n",
       " '844',\n",
       " '84th',\n",
       " '85',\n",
       " '86',\n",
       " '87',\n",
       " '88',\n",
       " '89',\n",
       " '8910',\n",
       " '899',\n",
       " '89er',\n",
       " '8am',\n",
       " '8chan',\n",
       " '8christian',\n",
       " '8d',\n",
       " '8mile',\n",
       " '8s',\n",
       " '8th',\n",
       " '8thgrade',\n",
       " '8x04',\n",
       " '8x6',\n",
       " '8year',\n",
       " '8yearold',\n",
       " '8yo',\n",
       " '90',\n",
       " '900',\n",
       " '9000',\n",
       " '90dayfianc',\n",
       " '91',\n",
       " '910',\n",
       " '910it',\n",
       " '911',\n",
       " '911but',\n",
       " '911read',\n",
       " '912',\n",
       " '913',\n",
       " '92',\n",
       " '9295',\n",
       " '94',\n",
       " '947olymp',\n",
       " '95',\n",
       " '96',\n",
       " '96000',\n",
       " '97',\n",
       " '98',\n",
       " '99',\n",
       " '992',\n",
       " '999',\n",
       " '9999',\n",
       " '9am',\n",
       " '9ja',\n",
       " '9jessicamajor',\n",
       " '9pm',\n",
       " '9s',\n",
       " '9th',\n",
       " '9th12th',\n",
       " '9thgrade',\n",
       " '9x10',\n",
       " '9x9',\n",
       " '9yearold',\n",
       " '9yr',\n",
       " 'a10',\n",
       " 'a17',\n",
       " 'a2sign',\n",
       " 'a4',\n",
       " 'a4mkr',\n",
       " 'aa',\n",
       " 'aaa',\n",
       " 'aaaa',\n",
       " 'aaaaaaaaaah',\n",
       " 'aaaag',\n",
       " 'aaaah',\n",
       " 'aaaand',\n",
       " 'aaah',\n",
       " 'aaand',\n",
       " 'aaannndd',\n",
       " 'aadat',\n",
       " 'aadhar',\n",
       " 'aah',\n",
       " 'aaj',\n",
       " 'aajaatay',\n",
       " 'aajakia',\n",
       " 'aak',\n",
       " 'aaka',\n",
       " 'aamerrahman',\n",
       " 'aamp',\n",
       " 'aampf',\n",
       " 'aander',\n",
       " 'aap',\n",
       " 'aaradhna',\n",
       " 'aaron',\n",
       " 'aaronandaaron',\n",
       " 'aaround',\n",
       " 'aasmanikitaab',\n",
       " 'aau',\n",
       " 'aaua',\n",
       " 'aav',\n",
       " 'aaya',\n",
       " 'aayi',\n",
       " 'ab',\n",
       " 'abandon',\n",
       " 'abandona',\n",
       " 'abass',\n",
       " 'abb',\n",
       " 'abbi',\n",
       " 'abbot',\n",
       " 'abbu',\n",
       " 'abc',\n",
       " 'abc2020',\n",
       " 'abcthey',\n",
       " 'abdi',\n",
       " 'abduct',\n",
       " 'abdul',\n",
       " 'abdulla',\n",
       " 'abdullah',\n",
       " 'abdullahi',\n",
       " 'abe',\n",
       " 'abedi',\n",
       " 'abeg',\n",
       " 'abercrombi',\n",
       " 'aberr',\n",
       " 'abey',\n",
       " 'abh',\n",
       " 'abhi',\n",
       " 'abhinavdilbar',\n",
       " 'abhor',\n",
       " 'abhorr',\n",
       " 'abi',\n",
       " 'abid',\n",
       " 'abil',\n",
       " 'abillti',\n",
       " 'abiut',\n",
       " 'abl',\n",
       " 'ablaz',\n",
       " 'ableg',\n",
       " 'ableism',\n",
       " 'ableist',\n",
       " 'abo',\n",
       " 'abolish',\n",
       " 'abolishic',\n",
       " 'abolit',\n",
       " 'abolition',\n",
       " 'abomin',\n",
       " 'aboot',\n",
       " 'aborigin',\n",
       " 'abort',\n",
       " 'abortionist',\n",
       " 'abortionsbut',\n",
       " 'abotu',\n",
       " 'aboutfuck',\n",
       " 'aboutislam',\n",
       " 'aboutsay',\n",
       " 'aboutta',\n",
       " 'abpoli',\n",
       " 'abra',\n",
       " 'abraham',\n",
       " 'abram',\n",
       " 'abridg',\n",
       " 'abrirem',\n",
       " 'abroad',\n",
       " 'abroadfre',\n",
       " 'abrog',\n",
       " 'abrogst',\n",
       " 'abruptli',\n",
       " 'absenc',\n",
       " 'absent',\n",
       " 'abslut',\n",
       " 'absolut',\n",
       " 'absolutley',\n",
       " 'absolv',\n",
       " 'absorb',\n",
       " 'abstain',\n",
       " 'abstin',\n",
       " 'abstract',\n",
       " 'absurd',\n",
       " 'absurdist',\n",
       " 'absurdli',\n",
       " 'absurdo',\n",
       " 'abt',\n",
       " 'abu',\n",
       " 'abubakar',\n",
       " 'abubakr',\n",
       " 'abuja',\n",
       " 'abund',\n",
       " 'abus',\n",
       " 'abusebulli',\n",
       " 'abusedbulli',\n",
       " 'abusedonc',\n",
       " 'abusesexu',\n",
       " 'abusewhol',\n",
       " 'abut',\n",
       " 'abyad',\n",
       " 'abyss',\n",
       " 'ac',\n",
       " 'aca',\n",
       " 'acab',\n",
       " 'acabada',\n",
       " 'acaban',\n",
       " 'acabar',\n",
       " 'acabei',\n",
       " 'academ',\n",
       " 'academi',\n",
       " 'acai',\n",
       " 'acc',\n",
       " 'accdmid',\n",
       " 'acced',\n",
       " 'acceler',\n",
       " 'accent',\n",
       " 'accepet',\n",
       " 'accept',\n",
       " 'acceptableit',\n",
       " 'acceso',\n",
       " 'access',\n",
       " ...]"
      ]
     },
     "execution_count": 140,
     "metadata": {},
     "output_type": "execute_result"
    }
   ],
   "source": [
    "clf.get_feature_names() # TODO : clean the numbers as well"
   ]
  },
  {
   "cell_type": "code",
   "execution_count": null,
   "metadata": {
    "id": "ra9i-YjR7579"
   },
   "outputs": [],
   "source": [
    "\n",
    "X_test_cv = clf.transform(X_test)"
   ]
  },
  {
   "cell_type": "code",
   "execution_count": null,
   "metadata": {
    "id": "j9j_Rfat7579",
    "outputId": "adde8c9c-eb65-47da-b01c-faedf999c115"
   },
   "outputs": [
    {
     "data": {
      "text/plain": [
       "matrix([[0, 0, 0, ..., 0, 0, 0]], dtype=int64)"
      ]
     },
     "execution_count": 155,
     "metadata": {},
     "output_type": "execute_result"
    }
   ],
   "source": [
    "X_train_cv.todense()[0]\n",
    "\n"
   ]
  },
  {
   "cell_type": "code",
   "execution_count": null,
   "metadata": {
    "id": "nI4Zc1UH7579",
    "outputId": "0597f284-be6e-4ff3-808e-feadfdef820f"
   },
   "outputs": [
    {
     "data": {
      "text/plain": [
       "['00',\n",
       " '000',\n",
       " '0006',\n",
       " '00you',\n",
       " '010',\n",
       " '01867',\n",
       " '0255',\n",
       " '05',\n",
       " '0505',\n",
       " '05mn',\n",
       " '06',\n",
       " '07',\n",
       " '0853am',\n",
       " '0911',\n",
       " '0f',\n",
       " '0lace',\n",
       " '0o',\n",
       " '0rang',\n",
       " '10',\n",
       " '100',\n",
       " '1000',\n",
       " '10000',\n",
       " '100000',\n",
       " '100000000',\n",
       " '10000000chill',\n",
       " '100010',\n",
       " '100b',\n",
       " '100bc',\n",
       " '100k',\n",
       " '100lb',\n",
       " '100th',\n",
       " '100year',\n",
       " '101',\n",
       " '1010',\n",
       " '1013',\n",
       " '1015',\n",
       " '1018',\n",
       " '102',\n",
       " '102000',\n",
       " '102216',\n",
       " '1030',\n",
       " '10324830m',\n",
       " '104',\n",
       " '1040',\n",
       " '105',\n",
       " '105b',\n",
       " '106',\n",
       " '1063',\n",
       " '1095',\n",
       " '10inch',\n",
       " '10k',\n",
       " '10m',\n",
       " '10mil',\n",
       " '10mkr',\n",
       " '10pm',\n",
       " '10reserv',\n",
       " '10right',\n",
       " '10th',\n",
       " '10th11th12th',\n",
       " '10to1',\n",
       " '10x',\n",
       " '10yearold',\n",
       " '10yearsof1d',\n",
       " '10yr',\n",
       " '11',\n",
       " '110',\n",
       " '1100',\n",
       " '1100am',\n",
       " '110830tran',\n",
       " '110th',\n",
       " '1112',\n",
       " '1114',\n",
       " '1116',\n",
       " '11415',\n",
       " '115',\n",
       " '115th',\n",
       " '11pm',\n",
       " '11th',\n",
       " '11year',\n",
       " '11yr',\n",
       " '12',\n",
       " '120',\n",
       " '1200',\n",
       " '1202021',\n",
       " '1213in',\n",
       " '1214',\n",
       " '1223',\n",
       " '123',\n",
       " '1233',\n",
       " '125',\n",
       " '1250',\n",
       " '125th',\n",
       " '128',\n",
       " '128517',\n",
       " '128524',\n",
       " '128525',\n",
       " '128529',\n",
       " '128530',\n",
       " '128563128586',\n",
       " '128564128075',\n",
       " '128584',\n",
       " '1285918221',\n",
       " '12am',\n",
       " '12ep',\n",
       " '12ish',\n",
       " '12k',\n",
       " '12th',\n",
       " '12wk',\n",
       " '12x2',\n",
       " '12year',\n",
       " '12yearold',\n",
       " '12yr',\n",
       " '12yrold',\n",
       " '12yrsago',\n",
       " '13',\n",
       " '130',\n",
       " '1300',\n",
       " '130000',\n",
       " '131515',\n",
       " '132540',\n",
       " '1330',\n",
       " '135',\n",
       " '138',\n",
       " '13and',\n",
       " '13m',\n",
       " '13rd',\n",
       " '13reasonswhi',\n",
       " '13thi',\n",
       " '13year',\n",
       " '13yearold',\n",
       " '13yo',\n",
       " '13yrold',\n",
       " '14',\n",
       " '140',\n",
       " '1400',\n",
       " '140000',\n",
       " '1417',\n",
       " '144p',\n",
       " '1452',\n",
       " '1453',\n",
       " '1460',\n",
       " '146811',\n",
       " '148',\n",
       " '149lb',\n",
       " '14th',\n",
       " '14x4bone',\n",
       " '14yearold',\n",
       " '14yr',\n",
       " '15',\n",
       " '150',\n",
       " '1500',\n",
       " '15000',\n",
       " '150000',\n",
       " '15001800',\n",
       " '1500s1700',\n",
       " '150cm',\n",
       " '150k',\n",
       " '1516',\n",
       " '1519',\n",
       " '1520',\n",
       " '155',\n",
       " '157',\n",
       " '15836',\n",
       " '159',\n",
       " '15th',\n",
       " '15yo',\n",
       " '15yr',\n",
       " '16',\n",
       " '160',\n",
       " '1600',\n",
       " '1611',\n",
       " '16127568',\n",
       " '1617',\n",
       " '1619',\n",
       " '162',\n",
       " '167485432',\n",
       " '168',\n",
       " '1689',\n",
       " '16yearold',\n",
       " '16yo',\n",
       " '16yoish',\n",
       " '16yr',\n",
       " '17',\n",
       " '1700',\n",
       " '170402',\n",
       " '170403',\n",
       " '1732',\n",
       " '175',\n",
       " '1792',\n",
       " '17n',\n",
       " '17th',\n",
       " '17year',\n",
       " '18',\n",
       " '180',\n",
       " '1800',\n",
       " '1814',\n",
       " '1819',\n",
       " '1820',\n",
       " '184',\n",
       " '1840',\n",
       " '1850',\n",
       " '1857',\n",
       " '1860',\n",
       " '1863',\n",
       " '187',\n",
       " '1890',\n",
       " '18billion',\n",
       " '18c',\n",
       " '18th',\n",
       " '18yo',\n",
       " '19',\n",
       " '190',\n",
       " '1900',\n",
       " '19000',\n",
       " '1904',\n",
       " '191',\n",
       " '1910',\n",
       " '1914',\n",
       " '1916',\n",
       " '1917',\n",
       " '1920',\n",
       " '1925so',\n",
       " '1926',\n",
       " '1930',\n",
       " '19312015',\n",
       " '1934',\n",
       " '1935what',\n",
       " '1940',\n",
       " '1945',\n",
       " '1947',\n",
       " '1948',\n",
       " '1949',\n",
       " '1950',\n",
       " '1954',\n",
       " '1956',\n",
       " '1958',\n",
       " '1960',\n",
       " '1962',\n",
       " '1963',\n",
       " '1965',\n",
       " '1966',\n",
       " '1967',\n",
       " '1970',\n",
       " '1971',\n",
       " '19711999',\n",
       " '1971cheesi',\n",
       " '1973',\n",
       " '1974',\n",
       " '1975',\n",
       " '1976',\n",
       " '1977',\n",
       " '1980',\n",
       " '1981',\n",
       " '1983',\n",
       " '1984',\n",
       " '1985',\n",
       " '1986',\n",
       " '1988',\n",
       " '1989',\n",
       " '1990',\n",
       " '1991',\n",
       " '1992',\n",
       " '1993',\n",
       " '1993jaipur',\n",
       " '19951996',\n",
       " '199599',\n",
       " '1997',\n",
       " '1998',\n",
       " '1999',\n",
       " '19m',\n",
       " '19th',\n",
       " '19wk',\n",
       " '19yearold',\n",
       " '1a',\n",
       " '1am',\n",
       " '1amp2',\n",
       " '1b',\n",
       " '1d',\n",
       " '1dfact',\n",
       " '1dimension',\n",
       " '1er',\n",
       " '1first',\n",
       " '1go',\n",
       " '1h',\n",
       " '1how',\n",
       " '1hr',\n",
       " '1im',\n",
       " '1in1million',\n",
       " '1joke',\n",
       " '1k',\n",
       " '1km',\n",
       " '1m',\n",
       " '1mil',\n",
       " '1n',\n",
       " '1nice',\n",
       " '1of2',\n",
       " '1on1',\n",
       " '1religion',\n",
       " '1rtb',\n",
       " '1sdo',\n",
       " '1self',\n",
       " '1similarli',\n",
       " '1slam',\n",
       " '1sr',\n",
       " '1ssay',\n",
       " '1st',\n",
       " '1stamp',\n",
       " '1stbefor',\n",
       " '1stli',\n",
       " '1the',\n",
       " '1there',\n",
       " '1v1',\n",
       " '1vic',\n",
       " '1what',\n",
       " '1ya',\n",
       " '20',\n",
       " '200',\n",
       " '2000',\n",
       " '20000',\n",
       " '2001',\n",
       " '2002',\n",
       " '2003',\n",
       " '2004',\n",
       " '20042010',\n",
       " '2005',\n",
       " '2006',\n",
       " '2007',\n",
       " '2008',\n",
       " '20082016',\n",
       " '20082611',\n",
       " '2009',\n",
       " '200million',\n",
       " '200some',\n",
       " '2010',\n",
       " '2011',\n",
       " '2012',\n",
       " '2012gop',\n",
       " '2012it',\n",
       " '2013',\n",
       " '201314',\n",
       " '2013writeoff',\n",
       " '2014',\n",
       " '2015',\n",
       " '2016',\n",
       " '201617',\n",
       " '2017',\n",
       " '2018',\n",
       " '201819',\n",
       " '2019',\n",
       " '2020',\n",
       " '202021',\n",
       " '2022',\n",
       " '2022255744',\n",
       " '2024',\n",
       " '2027279099',\n",
       " '2029',\n",
       " '2048',\n",
       " '207',\n",
       " '20day',\n",
       " '20pack',\n",
       " '20someth',\n",
       " '20th',\n",
       " '20x',\n",
       " '20yr',\n",
       " '21',\n",
       " '210',\n",
       " '21000',\n",
       " '21012015',\n",
       " '210lb',\n",
       " '2111',\n",
       " '212',\n",
       " '2191193',\n",
       " '21k',\n",
       " '21st',\n",
       " '22',\n",
       " '2200',\n",
       " '22000',\n",
       " '220million',\n",
       " '223',\n",
       " '2256',\n",
       " '2282',\n",
       " '22yr',\n",
       " '23',\n",
       " '230',\n",
       " '2301',\n",
       " '237',\n",
       " '238',\n",
       " '24',\n",
       " '241',\n",
       " '2435',\n",
       " '247',\n",
       " '247he',\n",
       " '24915022020f',\n",
       " '2499',\n",
       " '24hr',\n",
       " '24k',\n",
       " '25',\n",
       " '250',\n",
       " '2500',\n",
       " '25000',\n",
       " '250k',\n",
       " '2516000',\n",
       " '255000',\n",
       " '258',\n",
       " '25month',\n",
       " '26',\n",
       " '2611',\n",
       " '2611and',\n",
       " '2611read',\n",
       " '262',\n",
       " '263',\n",
       " '27',\n",
       " '270',\n",
       " '274',\n",
       " '28',\n",
       " '280',\n",
       " '285',\n",
       " '287',\n",
       " '28th',\n",
       " '29',\n",
       " '2913the',\n",
       " '2916367',\n",
       " '2916431',\n",
       " '2916811',\n",
       " '2916816',\n",
       " '2917256',\n",
       " '2917394',\n",
       " '2917460',\n",
       " '2917793',\n",
       " '2917887',\n",
       " '2918212',\n",
       " '2918468',\n",
       " '2918497',\n",
       " '2918559',\n",
       " '2918616',\n",
       " '2919160',\n",
       " '2919196',\n",
       " '2919234',\n",
       " '2919245',\n",
       " '2919622',\n",
       " '2919886',\n",
       " '292',\n",
       " '2921450',\n",
       " '2922004',\n",
       " '2922295',\n",
       " '2922531',\n",
       " '2929923',\n",
       " '2a',\n",
       " '2am',\n",
       " '2b',\n",
       " '2be',\n",
       " '2black',\n",
       " '2bsee',\n",
       " '2but',\n",
       " '2d',\n",
       " '2day',\n",
       " '2fa',\n",
       " '2face',\n",
       " '2g',\n",
       " '2gather',\n",
       " '2geda',\n",
       " '2gedaincludin',\n",
       " '2get',\n",
       " '2gether',\n",
       " '2getherd',\n",
       " '2have',\n",
       " '2hr',\n",
       " '2ice',\n",
       " '2ith',\n",
       " '2k',\n",
       " '2km',\n",
       " '2know',\n",
       " '2make',\n",
       " '2me',\n",
       " '2million',\n",
       " '2month',\n",
       " '2mrw',\n",
       " '2much',\n",
       " '2nd',\n",
       " '2nite',\n",
       " '2nyt',\n",
       " '2pac',\n",
       " '2parti',\n",
       " '2rentif',\n",
       " '2show',\n",
       " '2shut',\n",
       " '2state',\n",
       " '2stop',\n",
       " '2term',\n",
       " '2termssssss',\n",
       " '2termsssssss',\n",
       " '2termz',\n",
       " '2that',\n",
       " '2the',\n",
       " '2they',\n",
       " '2to',\n",
       " '2v1',\n",
       " '2v2',\n",
       " '2vic',\n",
       " '2wht',\n",
       " '2x',\n",
       " '2x4learn',\n",
       " '2yearsampmi',\n",
       " '2yr',\n",
       " '30',\n",
       " '300',\n",
       " '3000',\n",
       " '30000',\n",
       " '300000',\n",
       " '30000000000',\n",
       " '3023',\n",
       " '305',\n",
       " '309',\n",
       " '3090',\n",
       " '30day',\n",
       " '30he',\n",
       " '30k',\n",
       " '30mum',\n",
       " '30th',\n",
       " '30yr',\n",
       " '3108',\n",
       " '312',\n",
       " '31221',\n",
       " '315',\n",
       " '3151',\n",
       " '31st',\n",
       " '32',\n",
       " '320',\n",
       " '321',\n",
       " '325',\n",
       " '33',\n",
       " '330',\n",
       " '3315',\n",
       " '333',\n",
       " '3333',\n",
       " '34',\n",
       " '34th',\n",
       " '35',\n",
       " '350',\n",
       " '35000',\n",
       " '36',\n",
       " '360',\n",
       " '37',\n",
       " '370',\n",
       " '3700',\n",
       " '3749693',\n",
       " '375',\n",
       " '38',\n",
       " '387',\n",
       " '38million',\n",
       " '39',\n",
       " '3940',\n",
       " '399',\n",
       " '3am',\n",
       " '3aw',\n",
       " '3b',\n",
       " '3cb',\n",
       " '3chainz',\n",
       " '3d',\n",
       " '3dear',\n",
       " '3ft',\n",
       " '3h',\n",
       " '3i',\n",
       " '3just',\n",
       " '3k',\n",
       " '3leeekom',\n",
       " '3mlm',\n",
       " '3mn',\n",
       " '3nil',\n",
       " '3rd',\n",
       " '3rdli',\n",
       " '3some',\n",
       " '3stugi',\n",
       " '3tahhir',\n",
       " '3the',\n",
       " '3v3',\n",
       " '3word',\n",
       " '3x',\n",
       " '40',\n",
       " '400',\n",
       " '40000',\n",
       " '400000',\n",
       " '40000000',\n",
       " '400lb',\n",
       " '400m',\n",
       " '40just',\n",
       " '40k',\n",
       " '40th',\n",
       " '40yearold',\n",
       " '40yr',\n",
       " '41',\n",
       " '411',\n",
       " '411pain',\n",
       " '42',\n",
       " '4201770',\n",
       " '422',\n",
       " '4271770',\n",
       " '434',\n",
       " '437hr',\n",
       " '43yr',\n",
       " '44',\n",
       " '440m',\n",
       " '45',\n",
       " '45km',\n",
       " '45min',\n",
       " '46',\n",
       " '46th',\n",
       " '47',\n",
       " '4700',\n",
       " '473',\n",
       " '474',\n",
       " '47traitor',\n",
       " '48',\n",
       " '49',\n",
       " '4942',\n",
       " '4949',\n",
       " '4958239689587',\n",
       " '498aorg',\n",
       " '49r',\n",
       " '4am',\n",
       " '4at',\n",
       " '4chan',\n",
       " '4ever',\n",
       " '4exactli',\n",
       " '4feet',\n",
       " '4g',\n",
       " '4get',\n",
       " '4hide',\n",
       " '4inhand',\n",
       " '4k',\n",
       " '4l',\n",
       " '4loko',\n",
       " '4m',\n",
       " '4moreyear',\n",
       " '4pm',\n",
       " '4rm',\n",
       " '4th',\n",
       " '4th6th',\n",
       " '4thcolleg',\n",
       " '4them',\n",
       " '4thofjuli',\n",
       " '4thofjuly2020',\n",
       " '4wild',\n",
       " '4wtc',\n",
       " '4x',\n",
       " '50',\n",
       " '500',\n",
       " '5000',\n",
       " '50000',\n",
       " '500ad',\n",
       " '500k',\n",
       " '501',\n",
       " '50100',\n",
       " '5050',\n",
       " '50color',\n",
       " '50s60',\n",
       " '50year',\n",
       " '50yrold',\n",
       " '51',\n",
       " '510',\n",
       " '517',\n",
       " '518',\n",
       " '52',\n",
       " '52224',\n",
       " '5270',\n",
       " '52837th',\n",
       " '53',\n",
       " '532',\n",
       " '535',\n",
       " '545',\n",
       " '55',\n",
       " '553',\n",
       " '55min',\n",
       " '55year',\n",
       " '56',\n",
       " '57',\n",
       " '57countri',\n",
       " '58',\n",
       " '580',\n",
       " '5811',\n",
       " '58381her',\n",
       " '59',\n",
       " '5am',\n",
       " '5b',\n",
       " '5dayss',\n",
       " '5g',\n",
       " '5h',\n",
       " '5k',\n",
       " '5low',\n",
       " '5s',\n",
       " '5so',\n",
       " '5th',\n",
       " '5yearold',\n",
       " '5yo',\n",
       " '60',\n",
       " '600',\n",
       " '600000',\n",
       " '600pm',\n",
       " '6070',\n",
       " '60k',\n",
       " '60s70',\n",
       " '60yearold',\n",
       " '60yo',\n",
       " '61',\n",
       " '614',\n",
       " '6159',\n",
       " '62',\n",
       " '63',\n",
       " '64',\n",
       " '648',\n",
       " '65',\n",
       " '65000',\n",
       " '66',\n",
       " '662',\n",
       " '666',\n",
       " '6673',\n",
       " '67',\n",
       " '670000',\n",
       " '68',\n",
       " '69',\n",
       " '690',\n",
       " '6am',\n",
       " '6ft',\n",
       " '6ix9in',\n",
       " '6pm',\n",
       " '6s',\n",
       " '6th',\n",
       " '6the',\n",
       " '6week',\n",
       " '6wordstori',\n",
       " '6x',\n",
       " '6year',\n",
       " '70',\n",
       " '700',\n",
       " '7000',\n",
       " '70000',\n",
       " '70k',\n",
       " '70searli',\n",
       " '70so',\n",
       " '71',\n",
       " '711',\n",
       " '712',\n",
       " '71mecheck',\n",
       " '72',\n",
       " '73',\n",
       " '730',\n",
       " '730pm',\n",
       " '74',\n",
       " '75',\n",
       " '750',\n",
       " '754',\n",
       " '7604091649',\n",
       " '761230m',\n",
       " '763',\n",
       " '77',\n",
       " '771',\n",
       " '772',\n",
       " '776',\n",
       " '777',\n",
       " '78',\n",
       " '79',\n",
       " '7am',\n",
       " '7clrd',\n",
       " '7if',\n",
       " '7ish',\n",
       " '7k',\n",
       " '7n',\n",
       " '7s',\n",
       " '7th',\n",
       " '7x',\n",
       " '80',\n",
       " '800',\n",
       " '8000',\n",
       " '80000',\n",
       " '800000',\n",
       " '80smovi',\n",
       " '80today',\n",
       " '81',\n",
       " '810',\n",
       " '812',\n",
       " '815',\n",
       " '8161',\n",
       " '81st',\n",
       " '8220',\n",
       " '826',\n",
       " '83',\n",
       " '832057238k',\n",
       " '8325',\n",
       " '844',\n",
       " '84th',\n",
       " '85',\n",
       " '86',\n",
       " '87',\n",
       " '88',\n",
       " '89',\n",
       " '8910',\n",
       " '899',\n",
       " '89er',\n",
       " '8am',\n",
       " '8chan',\n",
       " '8christian',\n",
       " '8d',\n",
       " '8mile',\n",
       " '8s',\n",
       " '8th',\n",
       " '8thgrade',\n",
       " '8x04',\n",
       " '8x6',\n",
       " '8year',\n",
       " '8yearold',\n",
       " '8yo',\n",
       " '90',\n",
       " '900',\n",
       " '9000',\n",
       " '90dayfianc',\n",
       " '91',\n",
       " '910',\n",
       " '910it',\n",
       " '911',\n",
       " '911but',\n",
       " '911read',\n",
       " '912',\n",
       " '913',\n",
       " '92',\n",
       " '9295',\n",
       " '94',\n",
       " '947olymp',\n",
       " '95',\n",
       " '96',\n",
       " '96000',\n",
       " '97',\n",
       " '98',\n",
       " '99',\n",
       " '992',\n",
       " '999',\n",
       " '9999',\n",
       " '9am',\n",
       " '9ja',\n",
       " '9jessicamajor',\n",
       " '9pm',\n",
       " '9s',\n",
       " '9th',\n",
       " '9th12th',\n",
       " '9thgrade',\n",
       " '9x10',\n",
       " '9x9',\n",
       " '9yearold',\n",
       " '9yr',\n",
       " 'a10',\n",
       " 'a17',\n",
       " 'a2sign',\n",
       " 'a4',\n",
       " 'a4mkr',\n",
       " 'aa',\n",
       " 'aaa',\n",
       " 'aaaa',\n",
       " 'aaaaaaaaaah',\n",
       " 'aaaag',\n",
       " 'aaaah',\n",
       " 'aaaand',\n",
       " 'aaah',\n",
       " 'aaand',\n",
       " 'aaannndd',\n",
       " 'aadat',\n",
       " 'aadhar',\n",
       " 'aah',\n",
       " 'aaj',\n",
       " 'aajaatay',\n",
       " 'aajakia',\n",
       " 'aak',\n",
       " 'aaka',\n",
       " 'aamerrahman',\n",
       " 'aamp',\n",
       " 'aampf',\n",
       " 'aander',\n",
       " 'aap',\n",
       " 'aaradhna',\n",
       " 'aaron',\n",
       " 'aaronandaaron',\n",
       " 'aaround',\n",
       " 'aasmanikitaab',\n",
       " 'aau',\n",
       " 'aaua',\n",
       " 'aav',\n",
       " 'aaya',\n",
       " 'aayi',\n",
       " 'ab',\n",
       " 'abandon',\n",
       " 'abandona',\n",
       " 'abass',\n",
       " 'abb',\n",
       " 'abbi',\n",
       " 'abbot',\n",
       " 'abbu',\n",
       " 'abc',\n",
       " 'abc2020',\n",
       " 'abcthey',\n",
       " 'abdi',\n",
       " 'abduct',\n",
       " 'abdul',\n",
       " 'abdulla',\n",
       " 'abdullah',\n",
       " 'abdullahi',\n",
       " 'abe',\n",
       " 'abedi',\n",
       " 'abeg',\n",
       " 'abercrombi',\n",
       " 'aberr',\n",
       " 'abey',\n",
       " 'abh',\n",
       " 'abhi',\n",
       " 'abhinavdilbar',\n",
       " 'abhor',\n",
       " 'abhorr',\n",
       " 'abi',\n",
       " 'abid',\n",
       " 'abil',\n",
       " 'abillti',\n",
       " 'abiut',\n",
       " 'abl',\n",
       " 'ablaz',\n",
       " 'ableg',\n",
       " 'ableism',\n",
       " 'ableist',\n",
       " 'abo',\n",
       " 'abolish',\n",
       " 'abolishic',\n",
       " 'abolit',\n",
       " 'abolition',\n",
       " 'abomin',\n",
       " 'aboot',\n",
       " 'aborigin',\n",
       " 'abort',\n",
       " 'abortionist',\n",
       " 'abortionsbut',\n",
       " 'abotu',\n",
       " 'aboutfuck',\n",
       " 'aboutislam',\n",
       " 'aboutsay',\n",
       " 'aboutta',\n",
       " 'abpoli',\n",
       " 'abra',\n",
       " 'abraham',\n",
       " 'abram',\n",
       " 'abridg',\n",
       " 'abrirem',\n",
       " 'abroad',\n",
       " 'abroadfre',\n",
       " 'abrog',\n",
       " 'abrogst',\n",
       " 'abruptli',\n",
       " 'absenc',\n",
       " 'absent',\n",
       " 'abslut',\n",
       " 'absolut',\n",
       " 'absolutley',\n",
       " 'absolv',\n",
       " 'absorb',\n",
       " 'abstain',\n",
       " 'abstin',\n",
       " 'abstract',\n",
       " 'absurd',\n",
       " 'absurdist',\n",
       " 'absurdli',\n",
       " 'absurdo',\n",
       " 'abt',\n",
       " 'abu',\n",
       " 'abubakar',\n",
       " 'abubakr',\n",
       " 'abuja',\n",
       " 'abund',\n",
       " 'abus',\n",
       " 'abusebulli',\n",
       " 'abusedbulli',\n",
       " 'abusedonc',\n",
       " 'abusesexu',\n",
       " 'abusewhol',\n",
       " 'abut',\n",
       " 'abyad',\n",
       " 'abyss',\n",
       " 'ac',\n",
       " 'aca',\n",
       " 'acab',\n",
       " 'acabada',\n",
       " 'acaban',\n",
       " 'acabar',\n",
       " 'acabei',\n",
       " 'academ',\n",
       " 'academi',\n",
       " 'acai',\n",
       " 'acc',\n",
       " 'accdmid',\n",
       " 'acced',\n",
       " 'acceler',\n",
       " 'accent',\n",
       " 'accepet',\n",
       " 'accept',\n",
       " 'acceptableit',\n",
       " 'acceso',\n",
       " 'access',\n",
       " ...]"
      ]
     },
     "execution_count": 143,
     "metadata": {},
     "output_type": "execute_result"
    }
   ],
   "source": [
    "clf.get_feature_names()"
   ]
  },
  {
   "cell_type": "code",
   "execution_count": null,
   "metadata": {
    "id": "FeRPP387757-",
    "outputId": "72a8651f-605e-47e9-b390-2e0ff6668f3a"
   },
   "outputs": [
    {
     "name": "stdout",
     "output_type": "stream",
     "text": [
      "  (0, 311)\t1\n",
      "  (0, 3995)\t1\n",
      "  (0, 4119)\t1\n",
      "  (0, 6771)\t1\n",
      "  (0, 9179)\t1\n",
      "  (0, 14278)\t1\n",
      "  (0, 21127)\t1\n",
      "  (0, 23096)\t1\n",
      "  (0, 25547)\t1\n",
      "  (1, 3396)\t1\n",
      "  (1, 6156)\t1\n",
      "  (1, 6875)\t1\n",
      "  (1, 7505)\t1\n",
      "  (1, 9383)\t1\n",
      "  (1, 10085)\t1\n",
      "  (1, 10859)\t1\n",
      "  (1, 11234)\t1\n",
      "  (1, 15931)\t1\n",
      "  (1, 16750)\t1\n",
      "  (1, 18858)\t1\n",
      "  (1, 20250)\t1\n",
      "  (1, 20384)\t1\n",
      "  (1, 20965)\t1\n",
      "  (1, 26724)\t1\n",
      "  (2, 2505)\t1\n",
      "  :\t:\n",
      "  (28405, 26836)\t1\n",
      "  (28406, 5830)\t1\n",
      "  (28406, 6403)\t1\n",
      "  (28406, 10013)\t1\n",
      "  (28406, 24502)\t1\n",
      "  (28406, 26362)\t1\n",
      "  (28407, 5338)\t1\n",
      "  (28407, 11426)\t1\n",
      "  (28407, 13470)\t1\n",
      "  (28407, 15729)\t1\n",
      "  (28407, 25878)\t1\n",
      "  (28408, 2627)\t1\n",
      "  (28408, 14978)\t1\n",
      "  (28408, 15729)\t1\n",
      "  (28408, 26969)\t1\n",
      "  (28409, 5209)\t1\n",
      "  (28409, 6870)\t1\n",
      "  (28409, 12329)\t1\n",
      "  (28409, 13115)\t1\n",
      "  (28409, 13201)\t1\n",
      "  (28409, 15364)\t1\n",
      "  (28409, 21336)\t1\n",
      "  (28409, 21438)\t1\n",
      "  (28409, 23643)\t1\n",
      "  (28409, 26737)\t1\n"
     ]
    }
   ],
   "source": [
    "print(X_train_cv)"
   ]
  },
  {
   "cell_type": "markdown",
   "metadata": {
    "id": "Zs2bvwkh757-"
   },
   "source": [
    "Then we apply TF-IFD transformation to associate weigths to the different words based on their frequency (rarer words will be given more importance)."
   ]
  },
  {
   "cell_type": "code",
   "execution_count": null,
   "metadata": {
    "execution": {
     "iopub.execute_input": "2022-03-15T11:07:59.176944Z",
     "iopub.status.busy": "2022-03-15T11:07:59.176681Z",
     "iopub.status.idle": "2022-03-15T11:07:59.210494Z",
     "shell.execute_reply": "2022-03-15T11:07:59.209819Z",
     "shell.execute_reply.started": "2022-03-15T11:07:59.176910Z"
    },
    "id": "B_FoQa2cBONf"
   },
   "outputs": [],
   "source": [
    "tf_transformer = TfidfTransformer(use_idf=True).fit(X_train_cv)\n",
    "X_train_tf = tf_transformer.transform(X_train_cv)\n",
    "X_test_tf = tf_transformer.transform(X_test_cv)"
   ]
  },
  {
   "cell_type": "code",
   "execution_count": null,
   "metadata": {
    "id": "dyKWJ_t7757-"
   },
   "outputs": [],
   "source": []
  },
  {
   "cell_type": "code",
   "execution_count": null,
   "metadata": {
    "id": "3yB0TPdm757-",
    "outputId": "8a0fbef2-2341-4c47-9880-46bb49cebdbe"
   },
   "outputs": [
    {
     "name": "stdout",
     "output_type": "stream",
     "text": [
      "  (0, 25547)\t0.3142511254632415\n",
      "  (0, 23096)\t0.40234597783143233\n",
      "  (0, 21127)\t0.12660612432866838\n",
      "  (0, 14278)\t0.2648961631589337\n",
      "  (0, 9179)\t0.45349042253771604\n",
      "  (0, 6771)\t0.3115331239646863\n",
      "  (0, 4119)\t0.12110900242514251\n",
      "  (0, 3995)\t0.30165411237106077\n",
      "  (0, 311)\t0.4947684424603952\n",
      "  (1, 26724)\t0.2110681814411331\n",
      "  (1, 20965)\t0.404286061230861\n",
      "  (1, 20384)\t0.404286061230861\n",
      "  (1, 20250)\t0.2649443886069926\n",
      "  (1, 18858)\t0.3474917757627587\n",
      "  (1, 16750)\t0.12449129742496684\n",
      "  (1, 15931)\t0.2906974902946564\n",
      "  (1, 11234)\t0.24698977784524914\n",
      "  (1, 10859)\t0.2321796137910464\n",
      "  (1, 10085)\t0.18768589280467549\n",
      "  (1, 9383)\t0.11765246812924114\n",
      "  (1, 7505)\t0.12596850785067645\n",
      "  (1, 6875)\t0.25043453005360816\n",
      "  (1, 6156)\t0.2639327713576244\n",
      "  (1, 3396)\t0.15931465485618412\n",
      "  (2, 25862)\t0.277715530447157\n",
      "  :\t:\n",
      "  (28405, 3694)\t0.7132821810314308\n",
      "  (28406, 26362)\t0.4194387941795684\n",
      "  (28406, 24502)\t0.706772674143136\n",
      "  (28406, 10013)\t0.2773009920121937\n",
      "  (28406, 6403)\t0.3371733279035092\n",
      "  (28406, 5830)\t0.3660079122113015\n",
      "  (28407, 25878)\t0.518684133863203\n",
      "  (28407, 15729)\t0.20360068280882365\n",
      "  (28407, 13470)\t0.39934204496747927\n",
      "  (28407, 11426)\t0.48140876320226045\n",
      "  (28407, 5338)\t0.5461547995501103\n",
      "  (28408, 26969)\t0.5744247348098092\n",
      "  (28408, 15729)\t0.23703119916822327\n",
      "  (28408, 14978)\t0.5827847327715113\n",
      "  (28408, 2627)\t0.5236548385224686\n",
      "  (28409, 26737)\t0.2858838735438447\n",
      "  (28409, 23643)\t0.3185373973016\n",
      "  (28409, 21438)\t0.30047352723623555\n",
      "  (28409, 21336)\t0.3278235033924872\n",
      "  (28409, 15364)\t0.3278235033924872\n",
      "  (28409, 13201)\t0.3278235033924872\n",
      "  (28409, 13115)\t0.3185373973016\n",
      "  (28409, 12329)\t0.3278235033924872\n",
      "  (28409, 6870)\t0.29616325976698593\n",
      "  (28409, 5209)\t0.3278235033924872\n"
     ]
    }
   ],
   "source": [
    "print(X_train_tf)"
   ]
  },
  {
   "cell_type": "markdown",
   "metadata": {
    "id": "x3uby7oc757-"
   },
   "source": [
    "# SVM"
   ]
  },
  {
   "cell_type": "code",
   "execution_count": null,
   "metadata": {
    "id": "HpynnWiY757-"
   },
   "outputs": [],
   "source": [
    "from sklearn import svm"
   ]
  },
  {
   "cell_type": "code",
   "execution_count": null,
   "metadata": {
    "id": "5Ir1NQyK757-",
    "outputId": "a03ef03f-0671-4163-ffe0-dc3b7c0db188"
   },
   "outputs": [
    {
     "data": {
      "text/plain": [
       "SVC(kernel='linear')"
      ]
     },
     "execution_count": 88,
     "metadata": {},
     "output_type": "execute_result"
    }
   ],
   "source": [
    "clf = svm.SVC(kernel = 'linear')\n",
    "clf.fit(X_train_tf, y_train)"
   ]
  },
  {
   "cell_type": "code",
   "execution_count": null,
   "metadata": {
    "id": "f_oGNBfy757-",
    "outputId": "f5e1e56c-cbbf-4bad-c1cf-c7a5da98bcb8"
   },
   "outputs": [
    {
     "data": {
      "text/plain": [
       "0.9322193774423932"
      ]
     },
     "execution_count": 89,
     "metadata": {},
     "output_type": "execute_result"
    }
   ],
   "source": [
    "clf.score(X_test_tf, y_test)"
   ]
  },
  {
   "cell_type": "code",
   "execution_count": null,
   "metadata": {
    "id": "mAuDEruk757_"
   },
   "outputs": [],
   "source": [
    "svm_pred = clf.predict(X_test_tf)"
   ]
  },
  {
   "cell_type": "code",
   "execution_count": null,
   "metadata": {
    "id": "W8kg9aYg757_",
    "outputId": "cb879ef6-ea82-479c-dd40-3535cd8bca43"
   },
   "outputs": [
    {
     "name": "stdout",
     "output_type": "stream",
     "text": [
      "Classification Report for SVM:\n",
      "               precision    recall  f1-score   support\n",
      "\n",
      "    religion       0.96      0.94      0.95      1579\n",
      "         age       0.94      0.98      0.96      1566\n",
      "   ethnicity       0.98      0.99      0.98      1541\n",
      "      gender       0.95      0.89      0.92      1461\n",
      "not bullying       0.81      0.84      0.83      1274\n",
      "\n",
      "    accuracy                           0.93      7421\n",
      "   macro avg       0.93      0.93      0.93      7421\n",
      "weighted avg       0.93      0.93      0.93      7421\n",
      "\n"
     ]
    }
   ],
   "source": [
    "print('Classification Report for SVM:\\n',classification_report(y_test, svm_pred, target_names=sentiments))"
   ]
  },
  {
   "cell_type": "code",
   "execution_count": null,
   "metadata": {
    "id": "yPykV-gp757_",
    "outputId": "0aee04e5-6f86-41ba-e8db-687f8a32a712"
   },
   "outputs": [
    {
     "data": {
      "image/png": "[encoded data removed]",
      "text/plain": [
       "<Figure size 540x540 with 1 Axes>"
      ]
     },
     "metadata": {},
     "output_type": "display_data"
    }
   ],
   "source": [
    "conf_matrix(y_test,svm_pred,'SVM Sentiment Analysis\\nConfusion Matrix', sentiments)"
   ]
  },
  {
   "cell_type": "markdown",
   "metadata": {
    "id": "oQn568OT757_"
   },
   "source": [
    "# KNN"
   ]
  },
  {
   "cell_type": "code",
   "execution_count": null,
   "metadata": {
    "id": "w4rLp1T3757_"
   },
   "outputs": [],
   "source": [
    "from sklearn.neighbors import KNeighborsClassifier"
   ]
  },
  {
   "cell_type": "code",
   "execution_count": null,
   "metadata": {
    "id": "S0J9uFD6757_",
    "outputId": "adc96551-1502-435a-8935-780a22b8f2c6"
   },
   "outputs": [
    {
     "data": {
      "text/plain": [
       "KNeighborsClassifier(weights='distance')"
      ]
     },
     "execution_count": 98,
     "metadata": {},
     "output_type": "execute_result"
    }
   ],
   "source": [
    "knn_clf = KNeighborsClassifier(weights = 'distance')\n",
    "knn_clf.fit(X_train_tf, y_train)"
   ]
  },
  {
   "cell_type": "code",
   "execution_count": null,
   "metadata": {
    "id": "BA2cRTN9757_",
    "outputId": "54459acb-22b4-4a7c-afc6-c38eb1ee6da5"
   },
   "outputs": [
    {
     "data": {
      "text/plain": [
       "0.8126937070475677"
      ]
     },
     "execution_count": 99,
     "metadata": {},
     "output_type": "execute_result"
    }
   ],
   "source": [
    "knn_clf.score(X_test_tf, y_test)"
   ]
  },
  {
   "cell_type": "code",
   "execution_count": null,
   "metadata": {
    "id": "LD36ankm757_"
   },
   "outputs": [],
   "source": [
    "knn_pred = knn_clf.predict(X_test_tf)"
   ]
  },
  {
   "cell_type": "code",
   "execution_count": null,
   "metadata": {
    "id": "sfo2Lf6u758A",
    "outputId": "460e0042-c337-4deb-a0f9-59249027b0bd"
   },
   "outputs": [
    {
     "name": "stdout",
     "output_type": "stream",
     "text": [
      "Classification Report for KNN:\n",
      "               precision    recall  f1-score   support\n",
      "\n",
      "    religion       0.89      0.81      0.85      1579\n",
      "         age       0.84      0.87      0.85      1566\n",
      "   ethnicity       0.83      0.91      0.87      1541\n",
      "      gender       0.81      0.83      0.82      1461\n",
      "not bullying       0.66      0.60      0.63      1274\n",
      "\n",
      "    accuracy                           0.81      7421\n",
      "   macro avg       0.81      0.81      0.80      7421\n",
      "weighted avg       0.81      0.81      0.81      7421\n",
      "\n"
     ]
    }
   ],
   "source": [
    "print('Classification Report for KNN:\\n',classification_report(y_test, knn_pred, target_names=sentiments))"
   ]
  },
  {
   "cell_type": "code",
   "execution_count": null,
   "metadata": {
    "id": "FUcPOWQ-758A",
    "outputId": "70b659b9-c44f-4e56-e27e-a16f5123012f"
   },
   "outputs": [
    {
     "data": {
      "image/png": "[encoded data removed]",
      "text/plain": [
       "<Figure size 540x540 with 1 Axes>"
      ]
     },
     "metadata": {},
     "output_type": "display_data"
    }
   ],
   "source": [
    "conf_matrix(y_test,knn_pred,'KNN Sentiment Analysis\\nConfusion Matrix', sentiments)"
   ]
  },
  {
   "cell_type": "markdown",
   "metadata": {
    "id": "tr8KyQaF758A"
   },
   "source": [
    "# Decision trees"
   ]
  },
  {
   "cell_type": "code",
   "execution_count": null,
   "metadata": {
    "id": "uO-_DIum758A"
   },
   "outputs": [],
   "source": [
    "from sklearn.tree import DecisionTreeClassifier\n",
    "from sklearn.tree import export_graphviz"
   ]
  },
  {
   "cell_type": "code",
   "execution_count": null,
   "metadata": {
    "id": "MYlWZNIE758A",
    "outputId": "cd966a8c-2c32-4c55-d0f7-7554a3f9ee5b"
   },
   "outputs": [
    {
     "data": {
      "text/plain": [
       "DecisionTreeClassifier()"
      ]
     },
     "execution_count": 101,
     "metadata": {},
     "output_type": "execute_result"
    }
   ],
   "source": [
    "dt_clf = DecisionTreeClassifier()\n",
    "dt_clf.fit(X_train_tf, y_train)"
   ]
  },
  {
   "cell_type": "code",
   "execution_count": null,
   "metadata": {
    "id": "h3e9wD_c758A",
    "outputId": "7ff605b1-834d-4181-c456-5ea6ac1eb2bb"
   },
   "outputs": [
    {
     "data": {
      "text/plain": [
       "0.9196873736693169"
      ]
     },
     "execution_count": 110,
     "metadata": {},
     "output_type": "execute_result"
    }
   ],
   "source": [
    "dt_clf.score(X_test_tf, y_test)"
   ]
  },
  {
   "cell_type": "code",
   "execution_count": null,
   "metadata": {
    "id": "htOI5FkI758A"
   },
   "outputs": [],
   "source": [
    "dt_pred = dt_clf.predict(X_test_tf)"
   ]
  },
  {
   "cell_type": "code",
   "execution_count": null,
   "metadata": {
    "id": "O8qNqMrH758A",
    "outputId": "5874279d-62fe-49e4-a125-e05608157d5f"
   },
   "outputs": [
    {
     "name": "stdout",
     "output_type": "stream",
     "text": [
      "Classification Report for Decision Trees:\n",
      "               precision    recall  f1-score   support\n",
      "\n",
      "    religion       0.95      0.93      0.94      1579\n",
      "         age       0.97      0.97      0.97      1566\n",
      "   ethnicity       0.98      0.98      0.98      1541\n",
      "      gender       0.89      0.89      0.89      1461\n",
      "not bullying       0.79      0.81      0.80      1274\n",
      "\n",
      "    accuracy                           0.92      7421\n",
      "   macro avg       0.92      0.92      0.92      7421\n",
      "weighted avg       0.92      0.92      0.92      7421\n",
      "\n"
     ]
    }
   ],
   "source": [
    "print('Classification Report for Decision Trees:\\n',classification_report(y_test, dt_pred, target_names=sentiments))"
   ]
  },
  {
   "cell_type": "code",
   "execution_count": null,
   "metadata": {
    "id": "XcjFZuZl758B",
    "outputId": "a624204a-a0f8-407c-d927-5b1ef3c18b66"
   },
   "outputs": [
    {
     "data": {
      "image/png": "[encoded data removed]",
      "text/plain": [
       "<Figure size 540x540 with 1 Axes>"
      ]
     },
     "metadata": {},
     "output_type": "display_data"
    }
   ],
   "source": [
    "conf_matrix(y_test,dt_pred,'Decision Trees Sentiment Analysis\\nConfusion Matrix', sentiments)"
   ]
  },
  {
   "cell_type": "markdown",
   "metadata": {
    "id": "RYZe-lGE758B"
   },
   "source": [
    "# Logistic Regression"
   ]
  },
  {
   "cell_type": "code",
   "execution_count": null,
   "metadata": {
    "id": "Rr8tY5If758B"
   },
   "outputs": [],
   "source": [
    "from sklearn.linear_model import LogisticRegression"
   ]
  },
  {
   "cell_type": "code",
   "execution_count": null,
   "metadata": {
    "id": "Oc9WK43V758B",
    "outputId": "874679e2-50fe-4059-bbd9-160c95cde801"
   },
   "outputs": [
    {
     "name": "stderr",
     "output_type": "stream",
     "text": [
      "C:\\Users\\chira\\anaconda3\\lib\\site-packages\\sklearn\\linear_model\\_logistic.py:814: ConvergenceWarning: lbfgs failed to converge (status=1):\n",
      "STOP: TOTAL NO. of ITERATIONS REACHED LIMIT.\n",
      "\n",
      "Increase the number of iterations (max_iter) or scale the data as shown in:\n",
      "    https://scikit-learn.org/stable/modules/preprocessing.html\n",
      "Please also refer to the documentation for alternative solver options:\n",
      "    https://scikit-learn.org/stable/modules/linear_model.html#logistic-regression\n",
      "  n_iter_i = _check_optimize_result(\n"
     ]
    },
    {
     "data": {
      "text/plain": [
       "LogisticRegression()"
      ]
     },
     "execution_count": 115,
     "metadata": {},
     "output_type": "execute_result"
    }
   ],
   "source": [
    "lr_clf= LogisticRegression()\n",
    "lr_clf.fit(X_train_tf, y_train)"
   ]
  },
  {
   "cell_type": "code",
   "execution_count": null,
   "metadata": {
    "id": "zw2WSPLi758B",
    "outputId": "ebd0c190-24de-4b30-8b1c-cbbd4bc8b04e"
   },
   "outputs": [
    {
     "data": {
      "text/plain": [
       "0.9307370974262229"
      ]
     },
     "execution_count": 116,
     "metadata": {},
     "output_type": "execute_result"
    }
   ],
   "source": [
    "lr_clf.score(X_test_tf, y_test)"
   ]
  },
  {
   "cell_type": "code",
   "execution_count": null,
   "metadata": {
    "id": "F2swEU8A758B"
   },
   "outputs": [],
   "source": [
    "lr_pred = lr_clf.predict(X_test_tf)"
   ]
  },
  {
   "cell_type": "code",
   "execution_count": null,
   "metadata": {
    "id": "29iYRcS9758B",
    "outputId": "0e64e740-f6b9-4430-fabf-83cc5a6afd45"
   },
   "outputs": [
    {
     "name": "stdout",
     "output_type": "stream",
     "text": [
      "Classification Report for Logistic Regression:\n",
      "               precision    recall  f1-score   support\n",
      "\n",
      "    religion       0.96      0.94      0.95      1579\n",
      "         age       0.95      0.97      0.96      1566\n",
      "   ethnicity       0.98      0.98      0.98      1541\n",
      "      gender       0.95      0.89      0.92      1461\n",
      "not bullying       0.80      0.86      0.82      1274\n",
      "\n",
      "    accuracy                           0.93      7421\n",
      "   macro avg       0.93      0.93      0.93      7421\n",
      "weighted avg       0.93      0.93      0.93      7421\n",
      "\n"
     ]
    }
   ],
   "source": [
    "print('Classification Report for Logistic Regression:\\n',classification_report(y_test, lr_pred, target_names=sentiments))"
   ]
  },
  {
   "cell_type": "code",
   "execution_count": null,
   "metadata": {
    "id": "RLj2aodb758B",
    "outputId": "34b7791c-391d-46b2-abf3-6395b4f9c5bc"
   },
   "outputs": [
    {
     "data": {
      "image/png": "[encoded data removed]",
      "text/plain": [
       "<Figure size 540x540 with 1 Axes>"
      ]
     },
     "metadata": {},
     "output_type": "display_data"
    }
   ],
   "source": [
    "conf_matrix(y_test,lr_pred,'Logistic Regression Sentiment Analysis\\nConfusion Matrix', sentiments)"
   ]
  },
  {
   "cell_type": "markdown",
   "metadata": {
    "id": "0yiOx_Wz758B"
   },
   "source": [
    "# Naive Bayes"
   ]
  },
  {
   "cell_type": "markdown",
   "metadata": {
    "id": "stKd4HjE758C"
   },
   "source": [
    "Finally we can instantiate the Naive Bayes model."
   ]
  },
  {
   "cell_type": "code",
   "execution_count": null,
   "metadata": {
    "execution": {
     "iopub.execute_input": "2022-03-15T11:07:59.212133Z",
     "iopub.status.busy": "2022-03-15T11:07:59.211832Z",
     "iopub.status.idle": "2022-03-15T11:07:59.215880Z",
     "shell.execute_reply": "2022-03-15T11:07:59.215132Z",
     "shell.execute_reply.started": "2022-03-15T11:07:59.212097Z"
    },
    "id": "ecHNDL60BONf"
   },
   "outputs": [],
   "source": [
    "nb_clf = MultinomialNB()"
   ]
  },
  {
   "cell_type": "code",
   "execution_count": null,
   "metadata": {
    "execution": {
     "iopub.execute_input": "2022-03-15T11:07:59.217563Z",
     "iopub.status.busy": "2022-03-15T11:07:59.217152Z",
     "iopub.status.idle": "2022-03-15T11:07:59.239617Z",
     "shell.execute_reply": "2022-03-15T11:07:59.238944Z",
     "shell.execute_reply.started": "2022-03-15T11:07:59.217525Z"
    },
    "id": "gj-9CqO9BONf",
    "outputId": "1a3c7f27-abe4-42e8-eca7-42e543dbc4af"
   },
   "outputs": [
    {
     "data": {
      "text/plain": [
       "MultinomialNB()"
      ]
     },
     "execution_count": 43,
     "metadata": {},
     "output_type": "execute_result"
    }
   ],
   "source": [
    "nb_clf.fit(X_train_tf, y_train)"
   ]
  },
  {
   "cell_type": "code",
   "execution_count": null,
   "metadata": {
    "execution": {
     "iopub.execute_input": "2022-03-15T11:07:59.240967Z",
     "iopub.status.busy": "2022-03-15T11:07:59.240705Z",
     "iopub.status.idle": "2022-03-15T11:07:59.247992Z",
     "shell.execute_reply": "2022-03-15T11:07:59.247196Z",
     "shell.execute_reply.started": "2022-03-15T11:07:59.240930Z"
    },
    "id": "Evr5z6nhBONf"
   },
   "outputs": [],
   "source": [
    "nb_pred = nb_clf.predict(X_test_tf)"
   ]
  },
  {
   "cell_type": "code",
   "execution_count": null,
   "metadata": {
    "_kg_hide-input": true,
    "execution": {
     "iopub.execute_input": "2022-03-15T11:07:59.249936Z",
     "iopub.status.busy": "2022-03-15T11:07:59.249429Z",
     "iopub.status.idle": "2022-03-15T11:07:59.271304Z",
     "shell.execute_reply": "2022-03-15T11:07:59.270643Z",
     "shell.execute_reply.started": "2022-03-15T11:07:59.249899Z"
    },
    "id": "4pUzmmo6BONf",
    "outputId": "e557178d-7856-430a-8eb3-88616f0ba217"
   },
   "outputs": [
    {
     "name": "stdout",
     "output_type": "stream",
     "text": [
      "Classification Report for Naive Bayes:\n",
      "               precision    recall  f1-score   support\n",
      "\n",
      "    religion       0.85      0.97      0.91      1579\n",
      "         age       0.80      0.98      0.88      1566\n",
      "   ethnicity       0.90      0.92      0.91      1542\n",
      "      gender       0.89      0.85      0.87      1462\n",
      "not bullying       0.84      0.47      0.60      1274\n",
      "\n",
      "    accuracy                           0.85      7423\n",
      "   macro avg       0.86      0.84      0.84      7423\n",
      "weighted avg       0.86      0.85      0.84      7423\n",
      "\n"
     ]
    }
   ],
   "source": [
    "print('Classification Report for Naive Bayes:\\n',classification_report(y_test, nb_pred, target_names=sentiments))"
   ]
  },
  {
   "cell_type": "code",
   "execution_count": null,
   "metadata": {
    "_kg_hide-input": true,
    "execution": {
     "iopub.execute_input": "2022-03-15T11:07:59.273094Z",
     "iopub.status.busy": "2022-03-15T11:07:59.272606Z",
     "iopub.status.idle": "2022-03-15T11:07:59.569002Z",
     "shell.execute_reply": "2022-03-15T11:07:59.568330Z",
     "shell.execute_reply.started": "2022-03-15T11:07:59.273042Z"
    },
    "id": "6sMNU_5h758C",
    "outputId": "be9a5634-8e84-4f36-f49f-1ff3a8c42fa8"
   },
   "outputs": [
    {
     "data": {
      "image/png": "[encoded data removed]",
      "text/plain": [
       "<Figure size 540x540 with 1 Axes>"
      ]
     },
     "metadata": {},
     "output_type": "display_data"
    }
   ],
   "source": [
    "conf_matrix(y_test,nb_pred,'Naive Bayes Sentiment Analysis\\nConfusion Matrix', sentiments)"
   ]
  },
  {
   "cell_type": "markdown",
   "metadata": {
    "id": "m8wQ-Ys6758C"
   },
   "source": [
    "**The performance scores of the algorithm is very good, with an overall accurcy of 85%.<br>\n",
    "We can observe how the predictions for the more populated classes have very high F1 scores (over 85%), while for the class \"non-cyberbullying\" the score is much lower.**"
   ]
  },
  {
   "cell_type": "markdown",
   "metadata": {
    "id": "7HOyqOay758C"
   },
   "source": [
    "*Next we will implement a more complex algorithm to perform the classification, aiming to achieve higher accurcy than the baseline Naive Bayes model.*"
   ]
  },
  {
   "cell_type": "markdown",
   "metadata": {
    "id": "LTJV96yr758D"
   },
   "source": [
    "# PyTorch Bi-LSTM RNN"
   ]
  },
  {
   "cell_type": "markdown",
   "metadata": {
    "id": "g4_SO36C758D"
   },
   "source": [
    "In this section, we will define a custom Bidirectional LSTM using PyTorch in order to perform the Sentiment Analysis on the tweets."
   ]
  },
  {
   "cell_type": "markdown",
   "metadata": {
    "id": "QZpta6PbBONf"
   },
   "source": [
    "# Data preprocessing for LSTM"
   ]
  },
  {
   "cell_type": "markdown",
   "metadata": {
    "id": "APbssOm2758D"
   },
   "source": [
    "Similarly to what we did with Naive Bayes, we need to preprocess the data: in particular we will tokenize the sentences with a custom defined function. <br>\n",
    "The sentences will be converted to lists of number with padding to the max number of words in a sentence."
   ]
  },
  {
   "cell_type": "code",
   "execution_count": null,
   "metadata": {
    "execution": {
     "iopub.execute_input": "2022-03-15T11:07:59.570212Z",
     "iopub.status.busy": "2022-03-15T11:07:59.569957Z",
     "iopub.status.idle": "2022-03-15T11:07:59.578722Z",
     "shell.execute_reply": "2022-03-15T11:07:59.578039Z",
     "shell.execute_reply.started": "2022-03-15T11:07:59.570178Z"
    },
    "id": "PAhPX58mpM0i"
   },
   "outputs": [],
   "source": [
    "def Tokenize(column, seq_len):\n",
    "    ##Create vocabulary of words from column\n",
    "    corpus = [word for text in column for word in text.split()]\n",
    "    count_words = Counter(corpus)\n",
    "    sorted_words = count_words.most_common()\n",
    "    vocab_to_int = {w:i+1 for i, (w,c) in enumerate(sorted_words)}\n",
    "\n",
    "    ##Tokenize the columns text using the vocabulary\n",
    "    text_int = []\n",
    "    for text in column:\n",
    "        r = [vocab_to_int[word] for word in text.split()]\n",
    "        text_int.append(r)\n",
    "    ##Add padding to tokens\n",
    "    features = np.zeros((len(text_int), seq_len), dtype = int)\n",
    "    for i, review in enumerate(text_int):\n",
    "        if len(review) <= seq_len:\n",
    "            zeros = list(np.zeros(seq_len - len(review)))\n",
    "            new = zeros + review\n",
    "        else:\n",
    "            new = review[: seq_len]\n",
    "        features[i, :] = np.array(new)\n",
    "\n",
    "    return sorted_words, features"
   ]
  },
  {
   "cell_type": "code",
   "execution_count": null,
   "metadata": {
    "execution": {
     "iopub.execute_input": "2022-03-15T11:07:59.580606Z",
     "iopub.status.busy": "2022-03-15T11:07:59.579831Z",
     "iopub.status.idle": "2022-03-15T11:08:02.467103Z",
     "shell.execute_reply": "2022-03-15T11:08:02.466369Z",
     "shell.execute_reply.started": "2022-03-15T11:07:59.580568Z"
    },
    "id": "Huovl-tkq9pr"
   },
   "outputs": [],
   "source": [
    "vocabulary, tokenized_column = Tokenize(df[\"text_clean\"], max_len)"
   ]
  },
  {
   "cell_type": "markdown",
   "metadata": {
    "id": "p_z7dWnM758D"
   },
   "source": [
    "We can check how each tweet has been tokenized with an example:"
   ]
  },
  {
   "cell_type": "code",
   "execution_count": null,
   "metadata": {
    "execution": {
     "iopub.execute_input": "2022-03-15T11:08:02.468838Z",
     "iopub.status.busy": "2022-03-15T11:08:02.468564Z",
     "iopub.status.idle": "2022-03-15T11:08:02.474539Z",
     "shell.execute_reply": "2022-03-15T11:08:02.473818Z",
     "shell.execute_reply.started": "2022-03-15T11:08:02.468802Z"
    },
    "id": "3GudR5r7758E",
    "outputId": "36ebe6d7-c277-476c-9150-9e4430a59757"
   },
   "outputs": [
    {
     "data": {
      "text/plain": [
       "'love best respons hotcak manag film noncommitt meh adolesc mkr'"
      ]
     },
     "execution_count": 49,
     "metadata": {},
     "output_type": "execute_result"
    }
   ],
   "source": [
    "df[\"text_clean\"].iloc[10]"
   ]
  },
  {
   "cell_type": "markdown",
   "metadata": {
    "id": "C3qJHAmS758E"
   },
   "source": [
    "This sentence is transformed to the vector:"
   ]
  },
  {
   "cell_type": "code",
   "execution_count": null,
   "metadata": {
    "execution": {
     "iopub.execute_input": "2022-03-15T11:08:02.476812Z",
     "iopub.status.busy": "2022-03-15T11:08:02.476195Z",
     "iopub.status.idle": "2022-03-15T11:08:02.486749Z",
     "shell.execute_reply": "2022-03-15T11:08:02.486005Z",
     "shell.execute_reply.started": "2022-03-15T11:08:02.476739Z"
    },
    "id": "0_rUnvEM758E",
    "outputId": "c6925bad-066e-4bd4-ad5e-002efbaf9368"
   },
   "outputs": [
    {
     "data": {
      "text/plain": [
       "array([    0,     0,     0,     0,     0,     0,     0,     0,     0,\n",
       "           0,     0,     0,     0,     0,     0,     0,     0,     0,\n",
       "           0,     0,     0,     0,     0,     0,     0,     0,     0,\n",
       "           0,     0,     0,     0,     0,     0,     0,     0,     0,\n",
       "           0,     0,     0,     0,     0,     0,     0,     0,     0,\n",
       "           0,     0,     0,     0,     0,     0,     0,     0,     0,\n",
       "           0,     0,     0,     0,     0,     0,     0,     0,     0,\n",
       "           0,     0,     0,     0,     0,     0,    66,   219,   503,\n",
       "        8001,  1300,  1142, 13587,  4686,  9804,    34])"
      ]
     },
     "execution_count": 50,
     "metadata": {},
     "output_type": "execute_result"
    }
   ],
   "source": [
    "tokenized_column[10]"
   ]
  },
  {
   "cell_type": "markdown",
   "metadata": {
    "id": "y82S-ryv758E"
   },
   "source": [
    "Moreover we can also check the TOP 20 most common words by extracting them from the vocabulary python dictionary we created with the tokenizer."
   ]
  },
  {
   "cell_type": "code",
   "execution_count": null,
   "metadata": {
    "execution": {
     "iopub.execute_input": "2022-03-15T11:08:02.488261Z",
     "iopub.status.busy": "2022-03-15T11:08:02.487939Z",
     "iopub.status.idle": "2022-03-15T11:08:02.493559Z",
     "shell.execute_reply": "2022-03-15T11:08:02.492636Z",
     "shell.execute_reply.started": "2022-03-15T11:08:02.488224Z"
    },
    "id": "3hM5RQeP758E"
   },
   "outputs": [],
   "source": [
    "keys = []\n",
    "values = []\n",
    "for key, value in vocabulary[:20]:\n",
    "    keys.append(key)\n",
    "    values.append(value)"
   ]
  },
  {
   "cell_type": "code",
   "execution_count": null,
   "metadata": {
    "_kg_hide-input": true,
    "execution": {
     "iopub.execute_input": "2022-03-15T11:08:02.495949Z",
     "iopub.status.busy": "2022-03-15T11:08:02.495207Z",
     "iopub.status.idle": "2022-03-15T11:08:03.004752Z",
     "shell.execute_reply": "2022-03-15T11:08:03.004092Z",
     "shell.execute_reply.started": "2022-03-15T11:08:02.495845Z"
    },
    "id": "zLVfvXmd758E",
    "outputId": "d4013c8f-2f2c-429f-b006-f6473d4cf898"
   },
   "outputs": [
    {
     "name": "stderr",
     "output_type": "stream",
     "text": [
      "/opt/conda/lib/python3.7/site-packages/seaborn/_decorators.py:43: FutureWarning: Pass the following variables as keyword args: x, y. From version 0.12, the only valid positional argument will be `data`, and passing other arguments without an explicit keyword will result in an error or misinterpretation.\n",
      "  FutureWarning\n"
     ]
    },
    {
     "data": {
      "image/png": "[encoded data removed]",
      "text/plain": [
       "<Figure size 1080x360 with 1 Axes>"
      ]
     },
     "metadata": {},
     "output_type": "display_data"
    }
   ],
   "source": [
    "plt.figure(figsize=(15, 5))\n",
    "ax = sns.barplot(keys, values, palette='mako')\n",
    "plt.title('Top 20 most common words', size=25)\n",
    "ax.bar_label(ax.containers[0])\n",
    "plt.ylabel(\"Words count\")\n",
    "plt.show()"
   ]
  },
  {
   "cell_type": "markdown",
   "metadata": {
    "id": "cbs0GoKu758E"
   },
   "source": [
    "# Word Embedding by Word2Vec"
   ]
  },
  {
   "cell_type": "markdown",
   "metadata": {
    "id": "_i0I0_g_758E"
   },
   "source": [
    "Next, we will create a word embedding matrix using the original text tweets and the pre trained model Word2vec.<br>\n",
    "First, we create a list of words from the X_train vector created before."
   ]
  },
  {
   "cell_type": "code",
   "execution_count": null,
   "metadata": {
    "execution": {
     "iopub.execute_input": "2022-03-15T11:08:03.006458Z",
     "iopub.status.busy": "2022-03-15T11:08:03.006208Z",
     "iopub.status.idle": "2022-03-15T11:08:03.247308Z",
     "shell.execute_reply": "2022-03-15T11:08:03.246532Z",
     "shell.execute_reply.started": "2022-03-15T11:08:03.006423Z"
    },
    "id": "ysCC_4dM758F"
   },
   "outputs": [],
   "source": [
    "Word2vec_train_data = list(map(lambda x: x.split(), X_train))"
   ]
  },
  {
   "cell_type": "markdown",
   "metadata": {
    "id": "a1wjW491758F"
   },
   "source": [
    "We set a dimension of the embedding words, which can be seen as the number of featurs of each transformed word."
   ]
  },
  {
   "cell_type": "code",
   "execution_count": null,
   "metadata": {
    "execution": {
     "iopub.execute_input": "2022-03-15T11:08:03.251564Z",
     "iopub.status.busy": "2022-03-15T11:08:03.251211Z",
     "iopub.status.idle": "2022-03-15T11:08:03.255622Z",
     "shell.execute_reply": "2022-03-15T11:08:03.254925Z",
     "shell.execute_reply.started": "2022-03-15T11:08:03.251534Z"
    },
    "id": "is5g3f5t758F"
   },
   "outputs": [],
   "source": [
    "EMBEDDING_DIM = 200"
   ]
  },
  {
   "cell_type": "markdown",
   "metadata": {
    "id": "4zEp2EG0758F"
   },
   "source": [
    "Then we can instaniate the Word2Vec model by passing the training words and chosen embedding dimension to the imported Word2vec object."
   ]
  },
  {
   "cell_type": "code",
   "execution_count": null,
   "metadata": {
    "execution": {
     "iopub.execute_input": "2022-03-15T11:08:03.257897Z",
     "iopub.status.busy": "2022-03-15T11:08:03.257094Z",
     "iopub.status.idle": "2022-03-15T11:08:07.647416Z",
     "shell.execute_reply": "2022-03-15T11:08:07.646679Z",
     "shell.execute_reply.started": "2022-03-15T11:08:03.257848Z"
    },
    "id": "6O9zYKp0758F"
   },
   "outputs": [],
   "source": [
    "word2vec_model = Word2Vec(Word2vec_train_data, vector_size=EMBEDDING_DIM)"
   ]
  },
  {
   "cell_type": "markdown",
   "metadata": {
    "id": "TdMxpsnh758F"
   },
   "source": [
    "Before defining the embedding matrix, we also need to choose the max number of words. We will extract the number of words from the vocabulary python dictionary we created before."
   ]
  },
  {
   "cell_type": "code",
   "execution_count": null,
   "metadata": {
    "execution": {
     "iopub.execute_input": "2022-03-15T11:08:07.648932Z",
     "iopub.status.busy": "2022-03-15T11:08:07.648690Z",
     "iopub.status.idle": "2022-03-15T11:08:07.655556Z",
     "shell.execute_reply": "2022-03-15T11:08:07.654725Z",
     "shell.execute_reply.started": "2022-03-15T11:08:07.648900Z"
    },
    "id": "WIw8DFM9758F",
    "outputId": "231bb0fb-e6ef-4818-f1b3-f8afa5cb23a3"
   },
   "outputs": [
    {
     "name": "stdout",
     "output_type": "stream",
     "text": [
      "Vocabulary size: 33009\n"
     ]
    }
   ],
   "source": [
    "print(f\"Vocabulary size: {len(vocabulary) + 1}\")"
   ]
  },
  {
   "cell_type": "code",
   "execution_count": null,
   "metadata": {
    "execution": {
     "iopub.execute_input": "2022-03-15T11:08:07.657827Z",
     "iopub.status.busy": "2022-03-15T11:08:07.657277Z",
     "iopub.status.idle": "2022-03-15T11:08:07.663898Z",
     "shell.execute_reply": "2022-03-15T11:08:07.663170Z",
     "shell.execute_reply.started": "2022-03-15T11:08:07.657785Z"
    },
    "id": "qsNt49_N758F"
   },
   "outputs": [],
   "source": [
    "VOCAB_SIZE = len(vocabulary) + 1 #+1 for the padding"
   ]
  },
  {
   "cell_type": "markdown",
   "metadata": {
    "id": "E1I6vZ-T758F"
   },
   "source": [
    "Finally we can define the embedding matrix."
   ]
  },
  {
   "cell_type": "code",
   "execution_count": null,
   "metadata": {
    "execution": {
     "iopub.execute_input": "2022-03-15T11:08:07.665847Z",
     "iopub.status.busy": "2022-03-15T11:08:07.665364Z",
     "iopub.status.idle": "2022-03-15T11:08:07.736147Z",
     "shell.execute_reply": "2022-03-15T11:08:07.735241Z",
     "shell.execute_reply.started": "2022-03-15T11:08:07.665809Z"
    },
    "id": "WSdKTRfa758G",
    "outputId": "1a0f0b94-0b3e-4b20-9d40-54308866fe71"
   },
   "outputs": [
    {
     "name": "stdout",
     "output_type": "stream",
     "text": [
      "Embedding Matrix Shape: (33009, 200)\n"
     ]
    }
   ],
   "source": [
    "#define empty embedding matrix\n",
    "embedding_matrix = np.zeros((VOCAB_SIZE, EMBEDDING_DIM))\n",
    "    \n",
    "#fill the embedding matrix with the pre trained values from word2vec\n",
    "#    corresponding to word (string), token (number associated to the word)\n",
    "for word, token in vocabulary:\n",
    "    if word2vec_model.wv.__contains__(word):\n",
    "        embedding_matrix[token] = word2vec_model.wv.__getitem__(word)\n",
    "\n",
    "print(\"Embedding Matrix Shape:\", embedding_matrix.shape)"
   ]
  },
  {
   "cell_type": "markdown",
   "metadata": {
    "id": "Alh0ObSe758G"
   },
   "source": [
    "## Train - Validation - Test split"
   ]
  },
  {
   "cell_type": "markdown",
   "metadata": {
    "id": "G3xyvwbZ758G"
   },
   "source": [
    "Now we will use the tokenized sentences to create a training, validation and test datasets."
   ]
  },
  {
   "cell_type": "code",
   "execution_count": null,
   "metadata": {
    "execution": {
     "iopub.execute_input": "2022-03-15T11:08:07.737824Z",
     "iopub.status.busy": "2022-03-15T11:08:07.737394Z",
     "iopub.status.idle": "2022-03-15T11:08:07.742222Z",
     "shell.execute_reply": "2022-03-15T11:08:07.741257Z",
     "shell.execute_reply.started": "2022-03-15T11:08:07.737777Z"
    },
    "id": "xPzbx9jFBONg"
   },
   "outputs": [],
   "source": [
    "X = tokenized_column\n",
    "y = df['sentiment'].values"
   ]
  },
  {
   "cell_type": "code",
   "execution_count": null,
   "metadata": {
    "execution": {
     "iopub.execute_input": "2022-03-15T11:08:07.744333Z",
     "iopub.status.busy": "2022-03-15T11:08:07.743925Z",
     "iopub.status.idle": "2022-03-15T11:08:07.792207Z",
     "shell.execute_reply": "2022-03-15T11:08:07.791428Z",
     "shell.execute_reply.started": "2022-03-15T11:08:07.744297Z"
    },
    "id": "HQJ-XSMzBONg"
   },
   "outputs": [],
   "source": [
    "X_train, X_test, y_train, y_test = train_test_split(X, y, test_size=0.2, stratify=y, random_state=seed_value)"
   ]
  },
  {
   "cell_type": "code",
   "execution_count": null,
   "metadata": {
    "execution": {
     "iopub.execute_input": "2022-03-15T11:08:07.794112Z",
     "iopub.status.busy": "2022-03-15T11:08:07.793596Z",
     "iopub.status.idle": "2022-03-15T11:08:07.826597Z",
     "shell.execute_reply": "2022-03-15T11:08:07.825822Z",
     "shell.execute_reply.started": "2022-03-15T11:08:07.794073Z"
    },
    "id": "aeca_zUVBONg"
   },
   "outputs": [],
   "source": [
    "X_train, X_valid, y_train, y_valid = train_test_split(X_train, y_train, test_size=0.1, stratify=y_train, random_state=seed_value)"
   ]
  },
  {
   "cell_type": "markdown",
   "metadata": {
    "id": "drDjnilm758G"
   },
   "source": [
    "We can check the balance of the target classes:"
   ]
  },
  {
   "cell_type": "code",
   "execution_count": null,
   "metadata": {
    "execution": {
     "iopub.execute_input": "2022-03-15T11:08:07.828572Z",
     "iopub.status.busy": "2022-03-15T11:08:07.828019Z",
     "iopub.status.idle": "2022-03-15T11:08:07.837767Z",
     "shell.execute_reply": "2022-03-15T11:08:07.836828Z",
     "shell.execute_reply.started": "2022-03-15T11:08:07.828532Z"
    },
    "id": "FX77tlMuBONg",
    "outputId": "cc16a7b1-1bfd-4ddf-91b9-168cc767d48d"
   },
   "outputs": [
    {
     "data": {
      "text/plain": [
       "array([[   0, 5683],\n",
       "       [   1, 5638],\n",
       "       [   2, 5549],\n",
       "       [   3, 5264],\n",
       "       [   4, 4587]])"
      ]
     },
     "execution_count": 62,
     "metadata": {},
     "output_type": "execute_result"
    }
   ],
   "source": [
    "(unique, counts) = np.unique(y_train, return_counts=True)\n",
    "np.asarray((unique, counts)).T"
   ]
  },
  {
   "cell_type": "markdown",
   "metadata": {
    "id": "J4y1YNgY758G"
   },
   "source": [
    "And then apply random oversampling on the training set."
   ]
  },
  {
   "cell_type": "code",
   "execution_count": null,
   "metadata": {
    "execution": {
     "iopub.execute_input": "2022-03-15T11:08:07.842178Z",
     "iopub.status.busy": "2022-03-15T11:08:07.838859Z",
     "iopub.status.idle": "2022-03-15T11:08:07.872313Z",
     "shell.execute_reply": "2022-03-15T11:08:07.871562Z",
     "shell.execute_reply.started": "2022-03-15T11:08:07.842149Z"
    },
    "id": "sFRMuSdrBONh"
   },
   "outputs": [],
   "source": [
    "ros = RandomOverSampler()\n",
    "X_train_os, y_train_os = ros.fit_resample(np.array(X_train),np.array(y_train));"
   ]
  },
  {
   "cell_type": "code",
   "execution_count": null,
   "metadata": {
    "execution": {
     "iopub.execute_input": "2022-03-15T11:08:07.874464Z",
     "iopub.status.busy": "2022-03-15T11:08:07.873688Z",
     "iopub.status.idle": "2022-03-15T11:08:07.883745Z",
     "shell.execute_reply": "2022-03-15T11:08:07.882989Z",
     "shell.execute_reply.started": "2022-03-15T11:08:07.874424Z"
    },
    "id": "OQl1UY2BUt-m",
    "outputId": "86bfb6eb-0116-4777-89b7-6e474c7467d0"
   },
   "outputs": [
    {
     "data": {
      "text/plain": [
       "array([[   0, 5683],\n",
       "       [   1, 5683],\n",
       "       [   2, 5683],\n",
       "       [   3, 5683],\n",
       "       [   4, 5683]])"
      ]
     },
     "execution_count": 64,
     "metadata": {},
     "output_type": "execute_result"
    }
   ],
   "source": [
    "(unique, counts) = np.unique(y_train_os, return_counts=True)\n",
    "np.asarray((unique, counts)).T"
   ]
  },
  {
   "cell_type": "markdown",
   "metadata": {
    "id": "hMBCBuSZ758H"
   },
   "source": [
    "## PyTorch datasets and dataloaders"
   ]
  },
  {
   "cell_type": "markdown",
   "metadata": {
    "id": "D9g6tz7n758H"
   },
   "source": [
    "The three sets will be transformed to tensor datasets and dataloaders so we can extract the data in batches for the LSTM training, validation and testing."
   ]
  },
  {
   "cell_type": "code",
   "execution_count": null,
   "metadata": {
    "execution": {
     "iopub.execute_input": "2022-03-15T11:08:07.885589Z",
     "iopub.status.busy": "2022-03-15T11:08:07.885213Z",
     "iopub.status.idle": "2022-03-15T11:08:07.890747Z",
     "shell.execute_reply": "2022-03-15T11:08:07.889819Z",
     "shell.execute_reply.started": "2022-03-15T11:08:07.885549Z"
    },
    "id": "O-e9FHZp5Qsc"
   },
   "outputs": [],
   "source": [
    "train_data = TensorDataset(torch.from_numpy(X_train_os), torch.from_numpy(y_train_os))\n",
    "test_data = TensorDataset(torch.from_numpy(X_test), torch.from_numpy(y_test))\n",
    "valid_data = TensorDataset(torch.from_numpy(X_valid), torch.from_numpy(y_valid))"
   ]
  },
  {
   "cell_type": "code",
   "execution_count": null,
   "metadata": {
    "execution": {
     "iopub.execute_input": "2022-03-15T11:08:07.892855Z",
     "iopub.status.busy": "2022-03-15T11:08:07.892259Z",
     "iopub.status.idle": "2022-03-15T11:08:07.899739Z",
     "shell.execute_reply": "2022-03-15T11:08:07.898995Z",
     "shell.execute_reply.started": "2022-03-15T11:08:07.892817Z"
    },
    "id": "RfzfdlUFX8al"
   },
   "outputs": [],
   "source": [
    "BATCH_SIZE = 32"
   ]
  },
  {
   "cell_type": "code",
   "execution_count": null,
   "metadata": {
    "execution": {
     "iopub.execute_input": "2022-03-15T11:08:07.901599Z",
     "iopub.status.busy": "2022-03-15T11:08:07.901100Z",
     "iopub.status.idle": "2022-03-15T11:08:07.908456Z",
     "shell.execute_reply": "2022-03-15T11:08:07.907631Z",
     "shell.execute_reply.started": "2022-03-15T11:08:07.901562Z"
    },
    "id": "S2TGQjB4X7UQ"
   },
   "outputs": [],
   "source": [
    "train_loader = DataLoader(train_data, shuffle=True, batch_size=BATCH_SIZE, drop_last=True) \n",
    "valid_loader = DataLoader(valid_data, shuffle=True, batch_size=BATCH_SIZE, drop_last=True)\n",
    "test_loader = DataLoader(test_data, shuffle=True, batch_size=BATCH_SIZE, drop_last=True)"
   ]
  },
  {
   "cell_type": "markdown",
   "metadata": {
    "id": "nGE4OwWk758H"
   },
   "source": [
    "# PyTorch LSTM modeling"
   ]
  },
  {
   "cell_type": "markdown",
   "metadata": {
    "id": "mAUzl_tb758H"
   },
   "source": [
    "Finally we can start the LSTM modeling. We start by setting some hyperparameters."
   ]
  },
  {
   "cell_type": "code",
   "execution_count": null,
   "metadata": {
    "execution": {
     "iopub.execute_input": "2022-03-15T11:08:07.910151Z",
     "iopub.status.busy": "2022-03-15T11:08:07.909762Z",
     "iopub.status.idle": "2022-03-15T11:08:07.940270Z",
     "shell.execute_reply": "2022-03-15T11:08:07.939553Z",
     "shell.execute_reply.started": "2022-03-15T11:08:07.910116Z"
    },
    "id": "dfLClXUs5Qsc"
   },
   "outputs": [],
   "source": [
    "NUM_CLASSES = 5 #We are dealing with a multiclass classification of 5 classes\n",
    "HIDDEN_DIM = 100 #number of neurons of the internal state (internal neural network in the LSTM)\n",
    "LSTM_LAYERS = 1 #Number of stacked LSTM layers\n",
    "\n",
    "LR = 3e-4 #Learning rate\n",
    "DROPOUT = 0.5 #LSTM Dropout\n",
    "BIDIRECTIONAL = True #Boolean value to choose if to use a bidirectional LSTM or not\n",
    "EPOCHS = 5 #Number of training epoch\n",
    "\n",
    "DEVICE = 'cuda' if torch.cuda.is_available() else 'cpu'"
   ]
  },
  {
   "cell_type": "code",
   "execution_count": null,
   "metadata": {
    "execution": {
     "iopub.execute_input": "2022-03-15T11:08:07.941965Z",
     "iopub.status.busy": "2022-03-15T11:08:07.941664Z",
     "iopub.status.idle": "2022-03-15T11:08:07.954826Z",
     "shell.execute_reply": "2022-03-15T11:08:07.954100Z",
     "shell.execute_reply.started": "2022-03-15T11:08:07.941928Z"
    },
    "id": "InaVLcNV5Qsc"
   },
   "outputs": [],
   "source": [
    "class BiLSTM_Sentiment_Classifier(nn.Module):\n",
    "\n",
    "    def __init__(self, vocab_size, embedding_dim, hidden_dim, num_classes, lstm_layers, bidirectional,batch_size, dropout):\n",
    "        super(BiLSTM_Sentiment_Classifier,self).__init__()\n",
    "        \n",
    "        self.lstm_layers = lstm_layers\n",
    "        self.num_directions = 2 if bidirectional else 1\n",
    "        self.hidden_dim = hidden_dim\n",
    "        self.num_classes = num_classes\n",
    "        self.batch_size = batch_size\n",
    "        \n",
    "\n",
    "        self.embedding = nn.Embedding(vocab_size, embedding_dim)\n",
    "        \n",
    "        self.lstm = nn.LSTM(embedding_dim,\n",
    "                            hidden_dim,\n",
    "                            num_layers=lstm_layers,\n",
    "                            dropout=dropout,\n",
    "                            bidirectional=bidirectional,\n",
    "                            batch_first=True)\n",
    "\n",
    "        self.fc = nn.Linear(hidden_dim*self.num_directions, num_classes)\n",
    "        self.softmax = nn.LogSoftmax(dim=1)\n",
    "        \n",
    "    def forward(self, x, hidden):\n",
    "        self.batch_size = x.size(0)\n",
    "        ##EMBEDDING LAYER\n",
    "        embedded = self.embedding(x)\n",
    "        #LSTM LAYERS\n",
    "        out, hidden = self.lstm(embedded, hidden)\n",
    "        #Extract only the hidden state from the last LSTM cell\n",
    "        out = out[:,-1,:]\n",
    "        #FULLY CONNECTED LAYERS\n",
    "        out = self.fc(out)\n",
    "        out = self.softmax(out)\n",
    "\n",
    "        return out, hidden\n",
    "\n",
    "    def init_hidden(self, batch_size):\n",
    "        #Initialization of the LSTM hidden and cell states\n",
    "        h0 = torch.zeros((self.lstm_layers*self.num_directions, batch_size, self.hidden_dim)).detach().to(DEVICE)\n",
    "        c0 = torch.zeros((self.lstm_layers*self.num_directions, batch_size, self.hidden_dim)).detach().to(DEVICE)\n",
    "        hidden = (h0, c0)\n",
    "        return hidden"
   ]
  },
  {
   "cell_type": "code",
   "execution_count": null,
   "metadata": {
    "execution": {
     "iopub.execute_input": "2022-03-15T11:08:07.959112Z",
     "iopub.status.busy": "2022-03-15T11:08:07.957483Z",
     "iopub.status.idle": "2022-03-15T11:08:10.622031Z",
     "shell.execute_reply": "2022-03-15T11:08:10.621136Z",
     "shell.execute_reply.started": "2022-03-15T11:08:07.959074Z"
    },
    "id": "n3Zs0lfW5Qsd",
    "outputId": "fe00c19a-c446-4a1d-9a33-9fc1e007e0e5"
   },
   "outputs": [
    {
     "name": "stderr",
     "output_type": "stream",
     "text": [
      "/opt/conda/lib/python3.7/site-packages/torch/nn/modules/rnn.py:65: UserWarning: dropout option adds dropout after all but last recurrent layer, so non-zero dropout expects num_layers greater than 1, but got dropout=0.5 and num_layers=1\n",
      "  \"num_layers={}\".format(dropout, num_layers))\n"
     ]
    },
    {
     "name": "stdout",
     "output_type": "stream",
     "text": [
      "BiLSTM_Sentiment_Classifier(\n",
      "  (embedding): Embedding(33009, 200)\n",
      "  (lstm): LSTM(200, 100, batch_first=True, dropout=0.5, bidirectional=True)\n",
      "  (fc): Linear(in_features=200, out_features=5, bias=True)\n",
      "  (softmax): LogSoftmax(dim=1)\n",
      ")\n"
     ]
    }
   ],
   "source": [
    "model = BiLSTM_Sentiment_Classifier(VOCAB_SIZE, EMBEDDING_DIM, HIDDEN_DIM,NUM_CLASSES, LSTM_LAYERS,BIDIRECTIONAL, BATCH_SIZE, DROPOUT)\n",
    "model = model.to(DEVICE)\n",
    "\n",
    "#Initialize embedding with the previously defined embedding matrix\n",
    "model.embedding.weight.data.copy_(torch.from_numpy(embedding_matrix))\n",
    "#Allow the embedding matrix to be fined tuned to better adapt to out dataset and get higher accuracy\n",
    "model.embedding.weight.requires_grad=True\n",
    "\n",
    "print(model)"
   ]
  },
  {
   "cell_type": "code",
   "execution_count": null,
   "metadata": {
    "execution": {
     "iopub.execute_input": "2022-03-15T11:08:10.623898Z",
     "iopub.status.busy": "2022-03-15T11:08:10.623472Z",
     "iopub.status.idle": "2022-03-15T11:08:10.629241Z",
     "shell.execute_reply": "2022-03-15T11:08:10.628467Z",
     "shell.execute_reply.started": "2022-03-15T11:08:10.623858Z"
    },
    "id": "ftkcRBFCY-Zp"
   },
   "outputs": [],
   "source": [
    "criterion = nn.NLLLoss()\n",
    "optimizer = torch.optim.AdamW(model.parameters(), lr=LR, weight_decay = 5e-6)"
   ]
  },
  {
   "cell_type": "markdown",
   "metadata": {
    "id": "FrN0h01B758I"
   },
   "source": [
    "# LSTM Training loop "
   ]
  },
  {
   "cell_type": "markdown",
   "metadata": {
    "id": "8Cirq7bN758I"
   },
   "source": [
    "Now we will define a custom training loop, where we include an early stopping functionality, and save only the best models in terms of validation accuracy."
   ]
  },
  {
   "cell_type": "code",
   "execution_count": null,
   "metadata": {
    "execution": {
     "iopub.execute_input": "2022-03-15T11:08:10.631087Z",
     "iopub.status.busy": "2022-03-15T11:08:10.630803Z",
     "iopub.status.idle": "2022-03-15T11:08:48.783473Z",
     "shell.execute_reply": "2022-03-15T11:08:48.782670Z",
     "shell.execute_reply.started": "2022-03-15T11:08:10.631037Z"
    },
    "id": "5rK3YPVT5Qsd",
    "outputId": "e507fe75-cda2-48f7-d0d8-a62e364b1ff1"
   },
   "outputs": [
    {
     "name": "stdout",
     "output_type": "stream",
     "text": [
      "Epoch 1:Validation accuracy increased (0.000000 --> 92.017663).  Saving model ...\n",
      "\tTrain_loss : 0.6698 Val_loss : 0.2298\n",
      "\tTrain_acc : 74.179% Val_acc : 92.018%\n",
      "Epoch 2:Validation accuracy increased (92.017663 --> 93.342391).  Saving model ...\n",
      "\tTrain_loss : 0.1801 Val_loss : 0.1907\n",
      "\tTrain_acc : 94.102% Val_acc : 93.342%\n",
      "Epoch 3:Validation accuracy increased (93.342391 --> 93.512228).  Saving model ...\n",
      "\tTrain_loss : 0.1148 Val_loss : 0.1982\n",
      "\tTrain_acc : 96.339% Val_acc : 93.512%\n",
      "Epoch 4:Validation accuracy did not increase\n",
      "\tTrain_loss : 0.0734 Val_loss : 0.2453\n",
      "\tTrain_acc : 97.685% Val_acc : 92.188%\n",
      "Epoch 5:Validation accuracy did not increase\n",
      "\tTrain_loss : 0.0493 Val_loss : 0.2463\n",
      "\tTrain_acc : 98.570% Val_acc : 91.950%\n"
     ]
    }
   ],
   "source": [
    "total_step = len(train_loader)\n",
    "total_step_val = len(valid_loader)\n",
    "\n",
    "early_stopping_patience = 4\n",
    "early_stopping_counter = 0\n",
    "\n",
    "valid_acc_max = 0 # Initialize best accuracy top 0\n",
    "\n",
    "for e in range(EPOCHS):\n",
    "\n",
    "    #lists to host the train and validation losses of every batch for each epoch\n",
    "    train_loss, valid_loss  = [], []\n",
    "    #lists to host the train and validation accuracy of every batch for each epoch\n",
    "    train_acc, valid_acc  = [], []\n",
    "\n",
    "    #lists to host the train and validation predictions of every batch for each epoch\n",
    "    y_train_list, y_val_list = [], []\n",
    "\n",
    "    #initalize number of total and correctly classified texts during training and validation\n",
    "    correct, correct_val = 0, 0\n",
    "    total, total_val = 0, 0\n",
    "    running_loss, running_loss_val = 0, 0\n",
    "\n",
    "\n",
    "    ####TRAINING LOOP####\n",
    "\n",
    "    model.train()\n",
    "\n",
    "    for inputs, labels in train_loader:\n",
    "        inputs, labels = inputs.to(DEVICE), labels.to(DEVICE) #load features and targets in device\n",
    "\n",
    "        h = model.init_hidden(labels.size(0))\n",
    "\n",
    "        model.zero_grad() #reset gradients \n",
    "\n",
    "        output, h = model(inputs,h) #get output and hidden states from LSTM network\n",
    "        \n",
    "        loss = criterion(output, labels)\n",
    "        loss.backward()\n",
    "        \n",
    "        running_loss += loss.item()\n",
    "        \n",
    "        optimizer.step()\n",
    "\n",
    "        y_pred_train = torch.argmax(output, dim=1) #get tensor of predicted values on the training set\n",
    "        y_train_list.extend(y_pred_train.squeeze().tolist()) #transform tensor to list and the values to the list\n",
    "        \n",
    "        correct += torch.sum(y_pred_train==labels).item() #count correctly classified texts per batch\n",
    "        total += labels.size(0) #count total texts per batch\n",
    "\n",
    "    train_loss.append(running_loss / total_step)\n",
    "    train_acc.append(100 * correct / total)\n",
    "\n",
    "    ####VALIDATION LOOP####\n",
    "    \n",
    "    with torch.no_grad():\n",
    "        \n",
    "        model.eval()\n",
    "        \n",
    "        for inputs, labels in valid_loader:\n",
    "            inputs, labels = inputs.to(DEVICE), labels.to(DEVICE)\n",
    "\n",
    "            val_h = model.init_hidden(labels.size(0))\n",
    "\n",
    "            output, val_h = model(inputs, val_h)\n",
    "\n",
    "            val_loss = criterion(output, labels)\n",
    "            running_loss_val += val_loss.item()\n",
    "\n",
    "            y_pred_val = torch.argmax(output, dim=1)\n",
    "            y_val_list.extend(y_pred_val.squeeze().tolist())\n",
    "\n",
    "            correct_val += torch.sum(y_pred_val==labels).item()\n",
    "            total_val += labels.size(0)\n",
    "\n",
    "        valid_loss.append(running_loss_val / total_step_val)\n",
    "        valid_acc.append(100 * correct_val / total_val)\n",
    "\n",
    "    #Save model if validation accuracy increases\n",
    "    if np.mean(valid_acc) >= valid_acc_max:\n",
    "        torch.save(model.state_dict(), './state_dict.pt')\n",
    "        print(f'Epoch {e+1}:Validation accuracy increased ({valid_acc_max:.6f} --> {np.mean(valid_acc):.6f}).  Saving model ...')\n",
    "        valid_acc_max = np.mean(valid_acc)\n",
    "        early_stopping_counter=0 #reset counter if validation accuracy increases\n",
    "    else:\n",
    "        print(f'Epoch {e+1}:Validation accuracy did not increase')\n",
    "        early_stopping_counter+=1 #increase counter if validation accuracy does not increase\n",
    "        \n",
    "    if early_stopping_counter > early_stopping_patience:\n",
    "        print('Early stopped at epoch :', e+1)\n",
    "        break\n",
    "    \n",
    "    print(f'\\tTrain_loss : {np.mean(train_loss):.4f} Val_loss : {np.mean(valid_loss):.4f}')\n",
    "    print(f'\\tTrain_acc : {np.mean(train_acc):.3f}% Val_acc : {np.mean(valid_acc):.3f}%')"
   ]
  },
  {
   "cell_type": "code",
   "execution_count": null,
   "metadata": {
    "execution": {
     "iopub.execute_input": "2022-03-15T11:08:48.785121Z",
     "iopub.status.busy": "2022-03-15T11:08:48.784648Z",
     "iopub.status.idle": "2022-03-15T11:08:48.815436Z",
     "shell.execute_reply": "2022-03-15T11:08:48.814716Z",
     "shell.execute_reply.started": "2022-03-15T11:08:48.785075Z"
    },
    "id": "wfTLdAi45Qsd",
    "outputId": "8c360e51-d402-4eeb-8a19-1246f6318f3b"
   },
   "outputs": [
    {
     "data": {
      "text/plain": [
       "<All keys matched successfully>"
      ]
     },
     "execution_count": 73,
     "metadata": {},
     "output_type": "execute_result"
    }
   ],
   "source": [
    "# Loading the best model\n",
    "model.load_state_dict(torch.load('./state_dict.pt'))"
   ]
  },
  {
   "cell_type": "markdown",
   "metadata": {
    "id": "5hBdNxBm758J"
   },
   "source": [
    "# LSTM Testing"
   ]
  },
  {
   "cell_type": "code",
   "execution_count": null,
   "metadata": {
    "execution": {
     "iopub.execute_input": "2022-03-15T11:08:48.817045Z",
     "iopub.status.busy": "2022-03-15T11:08:48.816743Z",
     "iopub.status.idle": "2022-03-15T11:08:49.439464Z",
     "shell.execute_reply": "2022-03-15T11:08:49.438724Z",
     "shell.execute_reply.started": "2022-03-15T11:08:48.817009Z"
    },
    "id": "3ERsOjzW41tF"
   },
   "outputs": [],
   "source": [
    "model.eval()\n",
    "y_pred_list = []\n",
    "y_test_list = []\n",
    "for inputs, labels in test_loader:\n",
    "    inputs, labels = inputs.to(DEVICE), labels.to(DEVICE)\n",
    "    test_h = model.init_hidden(labels.size(0))\n",
    "\n",
    "    output, val_h = model(inputs, test_h)\n",
    "    y_pred_test = torch.argmax(output, dim=1)\n",
    "    y_pred_list.extend(y_pred_test.squeeze().tolist())\n",
    "    y_test_list.extend(labels.squeeze().tolist())"
   ]
  },
  {
   "cell_type": "code",
   "execution_count": null,
   "metadata": {
    "_kg_hide-input": true,
    "execution": {
     "iopub.execute_input": "2022-03-15T11:08:49.440979Z",
     "iopub.status.busy": "2022-03-15T11:08:49.440727Z",
     "iopub.status.idle": "2022-03-15T11:08:49.469431Z",
     "shell.execute_reply": "2022-03-15T11:08:49.468722Z",
     "shell.execute_reply.started": "2022-03-15T11:08:49.440945Z"
    },
    "id": "tu6ex4zC5Qse",
    "outputId": "5e6a4730-6bea-43db-bf41-3599351c30a0"
   },
   "outputs": [
    {
     "name": "stdout",
     "output_type": "stream",
     "text": [
      "Classification Report for Bi-LSTM :\n",
      "               precision    recall  f1-score   support\n",
      "\n",
      "    religion       0.96      0.95      0.95      1572\n",
      "         age       0.97      0.98      0.97      1559\n",
      "   ethnicity       0.98      0.98      0.98      1537\n",
      "      gender       0.94      0.89      0.91      1455\n",
      "not bullying       0.82      0.86      0.84      1269\n",
      "\n",
      "    accuracy                           0.94      7392\n",
      "   macro avg       0.93      0.93      0.93      7392\n",
      "weighted avg       0.94      0.94      0.94      7392\n",
      "\n"
     ]
    }
   ],
   "source": [
    "print('Classification Report for Bi-LSTM :\\n', classification_report(y_test_list, y_pred_list, target_names=sentiments))"
   ]
  },
  {
   "cell_type": "code",
   "execution_count": null,
   "metadata": {
    "_kg_hide-input": true,
    "execution": {
     "iopub.execute_input": "2022-03-15T11:08:49.471249Z",
     "iopub.status.busy": "2022-03-15T11:08:49.470591Z",
     "iopub.status.idle": "2022-03-15T11:08:49.777640Z",
     "shell.execute_reply": "2022-03-15T11:08:49.776925Z",
     "shell.execute_reply.started": "2022-03-15T11:08:49.471212Z"
    },
    "id": "vmE9K77s1qv_",
    "outputId": "34619d2a-8484-4146-df7d-88cb25affe10"
   },
   "outputs": [
    {
     "data": {
      "image/png": "[encoded data removed]",
      "text/plain": [
       "<Figure size 540x540 with 1 Axes>"
      ]
     },
     "metadata": {},
     "output_type": "display_data"
    }
   ],
   "source": [
    "conf_matrix(y_test_list,y_pred_list,'PyTorch Bi-LSTM Sentiment Analysis\\nConfusion Matrix', sentiments)"
   ]
  },
  {
   "cell_type": "markdown",
   "metadata": {
    "id": "fz9segy_758J"
   },
   "source": [
    "**The performance scores of the algorithm are very high, with an overall accuracy of 94%.**<br>\n",
    "**In particular, the F1 scores for the more populated classes are over 95%**"
   ]
  },
  {
   "cell_type": "markdown",
   "metadata": {
    "id": "x_Wgh-W-758J"
   },
   "source": [
    "# BERT Classification"
   ]
  },
  {
   "cell_type": "markdown",
   "metadata": {
    "id": "gUUD67v2758J"
   },
   "source": [
    "In this section, we will load a pre trained BERT model from the Hugging Face library and fine tune it for our classification task."
   ]
  },
  {
   "cell_type": "markdown",
   "metadata": {
    "id": "p6w_C4be758J"
   },
   "source": [
    "First, we need to split the dataset into train - validation - test again since we need to tokenize the sentences differently from before (Naive Bayes and LSTM)."
   ]
  },
  {
   "cell_type": "markdown",
   "metadata": {
    "id": "_R10dsUv758J"
   },
   "source": [
    "## Train - Validation - Test split"
   ]
  },
  {
   "cell_type": "code",
   "execution_count": null,
   "metadata": {
    "execution": {
     "iopub.execute_input": "2022-03-15T11:08:49.779324Z",
     "iopub.status.busy": "2022-03-15T11:08:49.779036Z",
     "iopub.status.idle": "2022-03-15T11:08:49.783520Z",
     "shell.execute_reply": "2022-03-15T11:08:49.782674Z",
     "shell.execute_reply.started": "2022-03-15T11:08:49.779287Z"
    },
    "id": "063q9ZY1758J"
   },
   "outputs": [],
   "source": [
    "X = df['text_clean'].values\n",
    "y = df['sentiment'].values"
   ]
  },
  {
   "cell_type": "code",
   "execution_count": null,
   "metadata": {
    "execution": {
     "iopub.execute_input": "2022-03-15T11:08:49.785290Z",
     "iopub.status.busy": "2022-03-15T11:08:49.785022Z",
     "iopub.status.idle": "2022-03-15T11:08:49.819080Z",
     "shell.execute_reply": "2022-03-15T11:08:49.818455Z",
     "shell.execute_reply.started": "2022-03-15T11:08:49.785256Z"
    },
    "id": "US0MKIyM758J"
   },
   "outputs": [],
   "source": [
    "X_train, X_test, y_train, y_test = train_test_split(X, y, test_size=0.2, stratify=y, random_state=seed_value)"
   ]
  },
  {
   "cell_type": "code",
   "execution_count": null,
   "metadata": {
    "execution": {
     "iopub.execute_input": "2022-03-15T11:08:49.820462Z",
     "iopub.status.busy": "2022-03-15T11:08:49.820217Z",
     "iopub.status.idle": "2022-03-15T11:08:49.846298Z",
     "shell.execute_reply": "2022-03-15T11:08:49.845668Z",
     "shell.execute_reply.started": "2022-03-15T11:08:49.820427Z"
    },
    "id": "cfWYuABr758K"
   },
   "outputs": [],
   "source": [
    "X_train, X_valid, y_train, y_valid = train_test_split(X_train, y_train, test_size=0.1, stratify=y_train, random_state=seed_value)"
   ]
  },
  {
   "cell_type": "markdown",
   "metadata": {
    "id": "jF6tV9Kx758K"
   },
   "source": [
    "As seen before, we oversample the text to the majority class."
   ]
  },
  {
   "cell_type": "code",
   "execution_count": null,
   "metadata": {
    "execution": {
     "iopub.execute_input": "2022-03-15T11:08:49.847775Z",
     "iopub.status.busy": "2022-03-15T11:08:49.847504Z",
     "iopub.status.idle": "2022-03-15T11:08:49.864409Z",
     "shell.execute_reply": "2022-03-15T11:08:49.863773Z",
     "shell.execute_reply.started": "2022-03-15T11:08:49.847739Z"
    },
    "id": "1mIHX7eN758K"
   },
   "outputs": [],
   "source": [
    "ros = RandomOverSampler()\n",
    "X_train_os, y_train_os = ros.fit_resample(np.array(X_train).reshape(-1,1),np.array(y_train).reshape(-1,1))"
   ]
  },
  {
   "cell_type": "code",
   "execution_count": null,
   "metadata": {
    "execution": {
     "iopub.execute_input": "2022-03-15T11:08:49.865865Z",
     "iopub.status.busy": "2022-03-15T11:08:49.865601Z",
     "iopub.status.idle": "2022-03-15T11:08:49.870838Z",
     "shell.execute_reply": "2022-03-15T11:08:49.870171Z",
     "shell.execute_reply.started": "2022-03-15T11:08:49.865829Z"
    },
    "id": "IPKzwmNm758K"
   },
   "outputs": [],
   "source": [
    "X_train_os = X_train_os.flatten()\n",
    "y_train_os = y_train_os.flatten()"
   ]
  },
  {
   "cell_type": "code",
   "execution_count": null,
   "metadata": {
    "execution": {
     "iopub.execute_input": "2022-03-15T11:08:49.872414Z",
     "iopub.status.busy": "2022-03-15T11:08:49.872003Z",
     "iopub.status.idle": "2022-03-15T11:08:49.882321Z",
     "shell.execute_reply": "2022-03-15T11:08:49.881433Z",
     "shell.execute_reply.started": "2022-03-15T11:08:49.872376Z"
    },
    "id": "qud3RopA758K",
    "outputId": "d9c46a6d-1fd5-4fa9-9e67-f8ada5d9efa7"
   },
   "outputs": [
    {
     "data": {
      "text/plain": [
       "array([[   0, 5683],\n",
       "       [   1, 5683],\n",
       "       [   2, 5683],\n",
       "       [   3, 5683],\n",
       "       [   4, 5683]])"
      ]
     },
     "execution_count": 82,
     "metadata": {},
     "output_type": "execute_result"
    }
   ],
   "source": [
    "(unique, counts) = np.unique(y_train_os, return_counts=True)\n",
    "np.asarray((unique, counts)).T"
   ]
  },
  {
   "cell_type": "markdown",
   "metadata": {
    "id": "GK2Bkg_J758K"
   },
   "source": [
    "# BERT Tokenization"
   ]
  },
  {
   "cell_type": "markdown",
   "metadata": {
    "id": "rUu_rOC8758K"
   },
   "source": [
    "Since we need to tokenize the tweets (get \"input ids\" and \"attention masks\") for BERT, we load the specific BERT tokenizer from the Hugging Face library."
   ]
  },
  {
   "cell_type": "code",
   "execution_count": null,
   "metadata": {
    "execution": {
     "iopub.execute_input": "2022-03-15T11:08:49.883793Z",
     "iopub.status.busy": "2022-03-15T11:08:49.883488Z",
     "iopub.status.idle": "2022-03-15T11:08:53.135288Z",
     "shell.execute_reply": "2022-03-15T11:08:53.134544Z",
     "shell.execute_reply.started": "2022-03-15T11:08:49.883757Z"
    },
    "id": "Xf4iPf6c758K"
   },
   "outputs": [],
   "source": [
    "tokenizer = BertTokenizer.from_pretrained('bert-base-uncased', do_lower_case=True)"
   ]
  },
  {
   "cell_type": "markdown",
   "metadata": {
    "execution": {
     "iopub.execute_input": "2022-03-15T08:35:46.046364Z",
     "iopub.status.busy": "2022-03-15T08:35:46.046010Z",
     "iopub.status.idle": "2022-03-15T08:35:46.076692Z",
     "shell.execute_reply": "2022-03-15T08:35:46.075417Z",
     "shell.execute_reply.started": "2022-03-15T08:35:46.046277Z"
    },
    "id": "ELY6sCB-758K"
   },
   "source": [
    "Then we define a custom tokenizer function using the loaded tokenizer."
   ]
  },
  {
   "cell_type": "code",
   "execution_count": null,
   "metadata": {
    "execution": {
     "iopub.execute_input": "2022-03-15T11:08:53.136923Z",
     "iopub.status.busy": "2022-03-15T11:08:53.136672Z",
     "iopub.status.idle": "2022-03-15T11:08:53.144520Z",
     "shell.execute_reply": "2022-03-15T11:08:53.143696Z",
     "shell.execute_reply.started": "2022-03-15T11:08:53.136889Z"
    },
    "id": "mP3MTe_D758K"
   },
   "outputs": [],
   "source": [
    "def bert_tokenizer(data):\n",
    "    input_ids = []\n",
    "    attention_masks = []\n",
    "    for sent in data:\n",
    "        encoded_sent = tokenizer.encode_plus(\n",
    "            text=sent,\n",
    "            add_special_tokens=True,        # Add `[CLS]` and `[SEP]` special tokens\n",
    "            max_length=MAX_LEN,             # Choose max length to truncate/pad\n",
    "            pad_to_max_length=True,         # Pad sentence to max length \n",
    "            return_attention_mask=True      # Return attention mask\n",
    "            )\n",
    "        input_ids.append(encoded_sent.get('input_ids'))\n",
    "        attention_masks.append(encoded_sent.get('attention_mask'))\n",
    "\n",
    "    # Convert lists to tensors\n",
    "    input_ids = torch.tensor(input_ids)\n",
    "    attention_masks = torch.tensor(attention_masks)\n",
    "\n",
    "    return input_ids, attention_masks"
   ]
  },
  {
   "cell_type": "markdown",
   "metadata": {
    "id": "q2kLN_i_758L"
   },
   "source": [
    "Since we need to specify the length of the longest tokenized sentence, we tokenize the train tweets using the \"encode\" method of the original BERT tokenizer and check the longest sentence."
   ]
  },
  {
   "cell_type": "code",
   "execution_count": null,
   "metadata": {
    "execution": {
     "iopub.execute_input": "2022-03-15T11:08:53.146471Z",
     "iopub.status.busy": "2022-03-15T11:08:53.146211Z",
     "iopub.status.idle": "2022-03-15T11:09:09.361351Z",
     "shell.execute_reply": "2022-03-15T11:09:09.360539Z",
     "shell.execute_reply.started": "2022-03-15T11:08:53.146436Z"
    },
    "id": "vYAOYfc8758L",
    "outputId": "6796551c-a427-41a7-d0a4-9ae647bef8ed"
   },
   "outputs": [
    {
     "name": "stdout",
     "output_type": "stream",
     "text": [
      "Max length:  126\n"
     ]
    }
   ],
   "source": [
    "# Tokenize train tweets\n",
    "encoded_tweets = [tokenizer.encode(sent, add_special_tokens=True) for sent in X_train]\n",
    "\n",
    "# Find the longest tokenized tweet\n",
    "max_len = max([len(sent) for sent in encoded_tweets])\n",
    "print('Max length: ', max_len)"
   ]
  },
  {
   "cell_type": "markdown",
   "metadata": {
    "id": "ZqWcI3PH758L"
   },
   "source": [
    "We can choose the max length as 128."
   ]
  },
  {
   "cell_type": "code",
   "execution_count": null,
   "metadata": {
    "execution": {
     "iopub.execute_input": "2022-03-15T11:09:09.363189Z",
     "iopub.status.busy": "2022-03-15T11:09:09.362699Z",
     "iopub.status.idle": "2022-03-15T11:09:09.367329Z",
     "shell.execute_reply": "2022-03-15T11:09:09.366498Z",
     "shell.execute_reply.started": "2022-03-15T11:09:09.363148Z"
    },
    "id": "ZbEu8e1z758L"
   },
   "outputs": [],
   "source": [
    "MAX_LEN = 128"
   ]
  },
  {
   "cell_type": "markdown",
   "metadata": {
    "id": "OyGLENf0758L"
   },
   "source": [
    "Then we can tokenize the train, validation and test tweets using the custom define tokenizer."
   ]
  },
  {
   "cell_type": "code",
   "execution_count": null,
   "metadata": {
    "_kg_hide-output": true,
    "execution": {
     "iopub.execute_input": "2022-03-15T11:09:09.371264Z",
     "iopub.status.busy": "2022-03-15T11:09:09.368784Z",
     "iopub.status.idle": "2022-03-15T11:09:35.494332Z",
     "shell.execute_reply": "2022-03-15T11:09:35.493469Z",
     "shell.execute_reply.started": "2022-03-15T11:09:09.371224Z"
    },
    "id": "zXVrD2Li758L",
    "outputId": "82432513-3324-42ef-a8bc-e8e6abc3cab7"
   },
   "outputs": [
    {
     "name": "stderr",
     "output_type": "stream",
     "text": [
      "Truncation was not explicitly activated but `max_length` is provided a specific value, please use `truncation=True` to explicitly truncate examples to max length. Defaulting to 'longest_first' truncation strategy. If you encode pairs of sequences (GLUE-style) with the tokenizer you can select this strategy more precisely by providing a specific strategy to `truncation`.\n",
      "/opt/conda/lib/python3.7/site-packages/transformers/tokenization_utils_base.py:2218: FutureWarning: The `pad_to_max_length` argument is deprecated and will be removed in a future version, use `padding=True` or `padding='longest'` to pad to the longest sequence in the batch, or use `padding='max_length'` to pad to a max length. In this case, you can give a specific length with `max_length` (e.g. `max_length=45`) or leave max_length to None to pad to the maximal input size of the model (e.g. 512 for Bert).\n",
      "  FutureWarning,\n"
     ]
    }
   ],
   "source": [
    "train_inputs, train_masks = bert_tokenizer(X_train_os)\n",
    "val_inputs, val_masks = bert_tokenizer(X_valid)\n",
    "test_inputs, test_masks = bert_tokenizer(X_test)"
   ]
  },
  {
   "cell_type": "markdown",
   "metadata": {
    "id": "SVEaBSFM758L"
   },
   "source": [
    "## Data preprocessing for PyTorch BERT model"
   ]
  },
  {
   "cell_type": "markdown",
   "metadata": {
    "id": "TOTFD10C758L"
   },
   "source": [
    "Since we are using the BERT model built on PyTorch, we need to convert the arrays to pytorch tensors and create dataloaders for the data."
   ]
  },
  {
   "cell_type": "code",
   "execution_count": null,
   "metadata": {
    "execution": {
     "iopub.execute_input": "2022-03-15T11:09:35.495866Z",
     "iopub.status.busy": "2022-03-15T11:09:35.495601Z",
     "iopub.status.idle": "2022-03-15T11:09:35.500660Z",
     "shell.execute_reply": "2022-03-15T11:09:35.499956Z",
     "shell.execute_reply.started": "2022-03-15T11:09:35.495833Z"
    },
    "id": "ckGv52SC758L"
   },
   "outputs": [],
   "source": [
    "# Convert target columns to pytorch tensors format\n",
    "train_labels = torch.from_numpy(y_train_os)\n",
    "val_labels = torch.from_numpy(y_valid)\n",
    "test_labels = torch.from_numpy(y_test)"
   ]
  },
  {
   "cell_type": "markdown",
   "metadata": {
    "id": "obkROt9i758M"
   },
   "source": [
    "## Dataloaders"
   ]
  },
  {
   "cell_type": "markdown",
   "metadata": {
    "id": "81pTK_uk758M"
   },
   "source": [
    "To fine-tune the BERT model, the original authors recommend a batch size of 16 or 32."
   ]
  },
  {
   "cell_type": "code",
   "execution_count": null,
   "metadata": {
    "execution": {
     "iopub.execute_input": "2022-03-15T11:09:35.502562Z",
     "iopub.status.busy": "2022-03-15T11:09:35.502071Z",
     "iopub.status.idle": "2022-03-15T11:09:35.512198Z",
     "shell.execute_reply": "2022-03-15T11:09:35.511403Z",
     "shell.execute_reply.started": "2022-03-15T11:09:35.502526Z"
    },
    "id": "gGh8pFdT758M"
   },
   "outputs": [],
   "source": [
    "batch_size = 32"
   ]
  },
  {
   "cell_type": "code",
   "execution_count": null,
   "metadata": {
    "execution": {
     "iopub.execute_input": "2022-03-15T11:09:35.514893Z",
     "iopub.status.busy": "2022-03-15T11:09:35.514017Z",
     "iopub.status.idle": "2022-03-15T11:09:35.522870Z",
     "shell.execute_reply": "2022-03-15T11:09:35.522183Z",
     "shell.execute_reply.started": "2022-03-15T11:09:35.514852Z"
    },
    "id": "o10TRS1o758M"
   },
   "outputs": [],
   "source": [
    "# Create the DataLoader for our training set\n",
    "train_data = TensorDataset(train_inputs, train_masks, train_labels)\n",
    "train_sampler = RandomSampler(train_data)\n",
    "train_dataloader = DataLoader(train_data, sampler=train_sampler, batch_size=batch_size)\n",
    "\n",
    "# Create the DataLoader for our validation set\n",
    "val_data = TensorDataset(val_inputs, val_masks, val_labels)\n",
    "val_sampler = SequentialSampler(val_data)\n",
    "val_dataloader = DataLoader(val_data, sampler=val_sampler, batch_size=batch_size)\n",
    "\n",
    "# Create the DataLoader for our test set\n",
    "test_data = TensorDataset(test_inputs, test_masks, test_labels)\n",
    "test_sampler = SequentialSampler(test_data)\n",
    "test_dataloader = DataLoader(test_data, sampler=test_sampler, batch_size=batch_size)"
   ]
  },
  {
   "cell_type": "markdown",
   "metadata": {
    "id": "WrhM4dX_758M"
   },
   "source": [
    "# BERT Modeling"
   ]
  },
  {
   "cell_type": "markdown",
   "metadata": {
    "id": "QJW4EK3g758M"
   },
   "source": [
    "Now we can create a custom BERT classifier class, including the original BERT model (made of transformer layers) and additional Dense layers to perform the desired classification task."
   ]
  },
  {
   "cell_type": "code",
   "execution_count": null,
   "metadata": {
    "execution": {
     "iopub.execute_input": "2022-03-15T11:09:35.525000Z",
     "iopub.status.busy": "2022-03-15T11:09:35.524455Z",
     "iopub.status.idle": "2022-03-15T11:09:35.539406Z",
     "shell.execute_reply": "2022-03-15T11:09:35.538603Z",
     "shell.execute_reply.started": "2022-03-15T11:09:35.524962Z"
    },
    "id": "i7sqUwsM758M",
    "outputId": "488701b1-5717-4e73-8627-42475b5bbfbb"
   },
   "outputs": [
    {
     "name": "stdout",
     "output_type": "stream",
     "text": [
      "CPU times: user 43 µs, sys: 0 ns, total: 43 µs\n",
      "Wall time: 46.7 µs\n"
     ]
    }
   ],
   "source": [
    "%%time\n",
    "class Bert_Classifier(nn.Module):\n",
    "    def __init__(self, freeze_bert=False):\n",
    "        super(Bert_Classifier, self).__init__()\n",
    "        # Specify hidden size of BERT, hidden size of the classifier, and number of labels\n",
    "        n_input = 768\n",
    "        n_hidden = 50\n",
    "        n_output = 5\n",
    "        # Instantiate BERT model\n",
    "        self.bert = BertModel.from_pretrained('bert-base-uncased')\n",
    "\n",
    "        # Add dense layers to perform the classification\n",
    "        self.classifier = nn.Sequential(\n",
    "            nn.Linear(n_input,  n_hidden),\n",
    "            nn.ReLU(),\n",
    "            nn.Linear(n_hidden, n_output)\n",
    "        )\n",
    "        # Add possibility to freeze the BERT model\n",
    "        # to avoid fine tuning BERT params (usually leads to worse results)\n",
    "        if freeze_bert:\n",
    "            for param in self.bert.parameters():\n",
    "                param.requires_grad = False\n",
    "        \n",
    "    def forward(self, input_ids, attention_mask):\n",
    "        # Feed input data to BERT\n",
    "        outputs = self.bert(input_ids=input_ids,\n",
    "                            attention_mask=attention_mask)\n",
    "        \n",
    "        # Extract the last hidden state of the token `[CLS]` for classification task\n",
    "        last_hidden_state_cls = outputs[0][:, 0, :]\n",
    "\n",
    "        # Feed input to classifier to compute logits\n",
    "        logits = self.classifier(last_hidden_state_cls)\n",
    "\n",
    "        return logits"
   ]
  },
  {
   "cell_type": "markdown",
   "metadata": {
    "id": "W2py_zuF758M"
   },
   "source": [
    "Moreover, since we want to define a learning rate scheduler, we define a custom \"initalize_model\" function as follows."
   ]
  },
  {
   "cell_type": "code",
   "execution_count": null,
   "metadata": {
    "execution": {
     "iopub.execute_input": "2022-03-15T11:09:35.542328Z",
     "iopub.status.busy": "2022-03-15T11:09:35.542094Z",
     "iopub.status.idle": "2022-03-15T11:09:35.552075Z",
     "shell.execute_reply": "2022-03-15T11:09:35.551276Z",
     "shell.execute_reply.started": "2022-03-15T11:09:35.542296Z"
    },
    "id": "oPIfzNL6758M"
   },
   "outputs": [],
   "source": [
    "def initialize_model(epochs=4):\n",
    "    # Instantiate Bert Classifier\n",
    "    bert_classifier = Bert_Classifier(freeze_bert=False)\n",
    "    \n",
    "    bert_classifier.to(device)\n",
    "\n",
    "    # Set up optimizer\n",
    "    optimizer = AdamW(bert_classifier.parameters(),\n",
    "                      lr=5e-5,    # learning rate, set to default value\n",
    "                      eps=1e-8    # decay, set to default value\n",
    "                      )\n",
    "    \n",
    "    ### Set up learning rate scheduler ###\n",
    "\n",
    "    # Calculate total number of training steps\n",
    "    total_steps = len(train_dataloader) * epochs\n",
    "\n",
    "    # Defint the scheduler\n",
    "    scheduler = get_linear_schedule_with_warmup(optimizer,\n",
    "                                                num_warmup_steps=0, # Default value\n",
    "                                                num_training_steps=total_steps)\n",
    "    return bert_classifier, optimizer, scheduler"
   ]
  },
  {
   "cell_type": "markdown",
   "metadata": {
    "id": "2zGSddHt758M"
   },
   "source": [
    "We also specify the use of GPU if present (highly recommended for the fine tuning)"
   ]
  },
  {
   "cell_type": "code",
   "execution_count": null,
   "metadata": {
    "execution": {
     "iopub.execute_input": "2022-03-15T11:09:35.553826Z",
     "iopub.status.busy": "2022-03-15T11:09:35.553375Z",
     "iopub.status.idle": "2022-03-15T11:09:35.563926Z",
     "shell.execute_reply": "2022-03-15T11:09:35.563062Z",
     "shell.execute_reply.started": "2022-03-15T11:09:35.553786Z"
    },
    "id": "jXhvGXWt758N"
   },
   "outputs": [],
   "source": [
    "device = 'cuda' if torch.cuda.is_available() else 'cpu'\n",
    "EPOCHS=2"
   ]
  },
  {
   "cell_type": "markdown",
   "metadata": {
    "id": "lyf5QSAS758N"
   },
   "source": [
    "And then we intialize the BERT model calling the \"initialize_model\" function we defined."
   ]
  },
  {
   "cell_type": "code",
   "execution_count": null,
   "metadata": {
    "_kg_hide-output": true,
    "execution": {
     "iopub.execute_input": "2022-03-15T11:09:35.565878Z",
     "iopub.status.busy": "2022-03-15T11:09:35.565057Z",
     "iopub.status.idle": "2022-03-15T11:09:38.401591Z",
     "shell.execute_reply": "2022-03-15T11:09:38.400718Z",
     "shell.execute_reply.started": "2022-03-15T11:09:35.565838Z"
    },
    "id": "oK-kUhRq758N",
    "outputId": "e564e9c1-f032-4ab6-b9f3-df50f4a0b429"
   },
   "outputs": [
    {
     "name": "stderr",
     "output_type": "stream",
     "text": [
      "Some weights of the model checkpoint at bert-base-uncased were not used when initializing BertModel: ['cls.predictions.transform.dense.weight', 'cls.predictions.transform.LayerNorm.weight', 'cls.predictions.decoder.weight', 'cls.predictions.transform.dense.bias', 'cls.predictions.transform.LayerNorm.bias', 'cls.seq_relationship.weight', 'cls.seq_relationship.bias', 'cls.predictions.bias']\n",
      "- This IS expected if you are initializing BertModel from the checkpoint of a model trained on another task or with another architecture (e.g. initializing a BertForSequenceClassification model from a BertForPreTraining model).\n",
      "- This IS NOT expected if you are initializing BertModel from the checkpoint of a model that you expect to be exactly identical (initializing a BertForSequenceClassification model from a BertForSequenceClassification model).\n"
     ]
    }
   ],
   "source": [
    "bert_classifier, optimizer, scheduler = initialize_model(epochs=EPOCHS)"
   ]
  },
  {
   "cell_type": "markdown",
   "metadata": {
    "id": "4P-UV0RY758N"
   },
   "source": [
    "# BERT Training"
   ]
  },
  {
   "cell_type": "markdown",
   "metadata": {
    "id": "fLsSfIfU758N"
   },
   "source": [
    "After defining the custom BERT classifier model, we are ready to start the training."
   ]
  },
  {
   "cell_type": "code",
   "execution_count": null,
   "metadata": {
    "execution": {
     "iopub.execute_input": "2022-03-15T11:09:38.404266Z",
     "iopub.status.busy": "2022-03-15T11:09:38.403435Z",
     "iopub.status.idle": "2022-03-15T11:09:38.423282Z",
     "shell.execute_reply": "2022-03-15T11:09:38.422460Z",
     "shell.execute_reply.started": "2022-03-15T11:09:38.404220Z"
    },
    "id": "G02Y5msw758N"
   },
   "outputs": [],
   "source": [
    "# Define Cross entropy Loss function for the multiclass classification task\n",
    "loss_fn = nn.CrossEntropyLoss()\n",
    "\n",
    "def bert_train(model, train_dataloader, val_dataloader=None, epochs=4, evaluation=False):\n",
    "\n",
    "    print(\"Start training...\\n\")\n",
    "    for epoch_i in range(epochs):\n",
    "        print(\"-\"*10)\n",
    "        print(\"Epoch : {}\".format(epoch_i+1))\n",
    "        print(\"-\"*10)\n",
    "        print(\"-\"*38)\n",
    "        print(f\"{'BATCH NO.':^7} | {'TRAIN LOSS':^12} | {'ELAPSED (s)':^9}\")\n",
    "        print(\"-\"*38)\n",
    "\n",
    "        # Measure the elapsed time of each epoch\n",
    "        t0_epoch, t0_batch = time.time(), time.time()\n",
    "\n",
    "        # Reset tracking variables at the beginning of each epoch\n",
    "        total_loss, batch_loss, batch_counts = 0, 0, 0\n",
    "        \n",
    "        ###TRAINING###\n",
    "\n",
    "        # Put the model into the training mode\n",
    "        model.train()\n",
    "\n",
    "        for step, batch in enumerate(train_dataloader):\n",
    "            batch_counts +=1\n",
    "            \n",
    "            b_input_ids, b_attn_mask, b_labels = tuple(t.to(device) for t in batch)\n",
    "\n",
    "            # Zero out any previously calculated gradients\n",
    "            model.zero_grad()\n",
    "\n",
    "            # Perform a forward pass and get logits.\n",
    "            logits = model(b_input_ids, b_attn_mask)\n",
    "\n",
    "            # Compute loss and accumulate the loss values\n",
    "            loss = loss_fn(logits, b_labels)\n",
    "            batch_loss += loss.item()\n",
    "            total_loss += loss.item()\n",
    "\n",
    "            # Perform a backward pass to calculate gradients\n",
    "            loss.backward()\n",
    "\n",
    "            # Clip the norm of the gradients to 1.0 to prevent \"exploding gradients\"\n",
    "            torch.nn.utils.clip_grad_norm_(model.parameters(), 1.0)\n",
    "\n",
    "            # Update model parameters:\n",
    "            # fine tune BERT params and train additional dense layers\n",
    "            optimizer.step()\n",
    "            # update learning rate\n",
    "            scheduler.step()\n",
    "\n",
    "            # Print the loss values and time elapsed for every 100 batches\n",
    "            if (step % 100 == 0 and step != 0) or (step == len(train_dataloader) - 1):\n",
    "                # Calculate time elapsed for 20 batches\n",
    "                time_elapsed = time.time() - t0_batch\n",
    "                \n",
    "                print(f\"{step:^9} | {batch_loss / batch_counts:^12.6f} | {time_elapsed:^9.2f}\")\n",
    "\n",
    "                # Reset batch tracking variables\n",
    "                batch_loss, batch_counts = 0, 0\n",
    "                t0_batch = time.time()\n",
    "\n",
    "        # Calculate the average loss over the entire training data\n",
    "        avg_train_loss = total_loss / len(train_dataloader)\n",
    "\n",
    "        ###EVALUATION###\n",
    "        \n",
    "        # Put the model into the evaluation mode\n",
    "        model.eval()\n",
    "        \n",
    "        # Define empty lists to host accuracy and validation for each batch\n",
    "        val_accuracy = []\n",
    "        val_loss = []\n",
    "\n",
    "        for batch in val_dataloader:\n",
    "            batch_input_ids, batch_attention_mask, batch_labels = tuple(t.to(device) for t in batch)\n",
    "            \n",
    "            # We do not want to update the params during the evaluation,\n",
    "            # So we specify that we dont want to compute the gradients of the tensors\n",
    "            # by calling the torch.no_grad() method\n",
    "            with torch.no_grad():\n",
    "                logits = model(batch_input_ids, batch_attention_mask)\n",
    "\n",
    "            loss = loss_fn(logits, batch_labels)\n",
    "\n",
    "            val_loss.append(loss.item())\n",
    "\n",
    "            # Get the predictions starting from the logits (get index of highest logit)\n",
    "            preds = torch.argmax(logits, dim=1).flatten()\n",
    "\n",
    "            # Calculate the validation accuracy \n",
    "            accuracy = (preds == batch_labels).cpu().numpy().mean() * 100\n",
    "            val_accuracy.append(accuracy)\n",
    "\n",
    "        # Compute the average accuracy and loss over the validation set\n",
    "        val_loss = np.mean(val_loss)\n",
    "        val_accuracy = np.mean(val_accuracy)\n",
    "        \n",
    "        # Print performance over the entire training data\n",
    "        time_elapsed = time.time() - t0_epoch\n",
    "        print(\"-\"*61)\n",
    "        print(f\"{'AVG TRAIN LOSS':^12} | {'VAL LOSS':^10} | {'VAL ACCURACY (%)':^9} | {'ELAPSED (s)':^9}\")\n",
    "        print(\"-\"*61)\n",
    "        print(f\"{avg_train_loss:^14.6f} | {val_loss:^10.6f} | {val_accuracy:^17.2f} | {time_elapsed:^9.2f}\")\n",
    "        print(\"-\"*61)\n",
    "        print(\"\\n\")\n",
    "    \n",
    "    print(\"Training complete!\")"
   ]
  },
  {
   "cell_type": "code",
   "execution_count": null,
   "metadata": {
    "execution": {
     "iopub.execute_input": "2022-03-15T11:09:38.425092Z",
     "iopub.status.busy": "2022-03-15T11:09:38.424368Z",
     "iopub.status.idle": "2022-03-15T11:21:27.729518Z",
     "shell.execute_reply": "2022-03-15T11:21:27.727972Z",
     "shell.execute_reply.started": "2022-03-15T11:09:38.425040Z"
    },
    "id": "u0JUZ4oy758N",
    "outputId": "4fea18e3-11d9-4c4c-f699-d435763f92e0"
   },
   "outputs": [
    {
     "name": "stdout",
     "output_type": "stream",
     "text": [
      "Start training...\n",
      "\n",
      "----------\n",
      "Epoch : 1\n",
      "----------\n",
      "--------------------------------------\n",
      "BATCH NO. |  TRAIN LOSS  | ELAPSED (s)\n",
      "--------------------------------------\n",
      "   100    |   0.622880   |   39.12  \n",
      "   200    |   0.262643   |   38.71  \n",
      "   300    |   0.242833   |   38.67  \n",
      "   400    |   0.237186   |   38.67  \n",
      "   500    |   0.223161   |   38.69  \n",
      "   600    |   0.193918   |   38.65  \n",
      "   700    |   0.196520   |   38.62  \n",
      "   800    |   0.182920   |   38.74  \n",
      "   887    |   0.178209   |   33.62  \n",
      "-------------------------------------------------------------\n",
      "AVG TRAIN LOSS |  VAL LOSS  | VAL ACCURACY (%) | ELAPSED (s)\n",
      "-------------------------------------------------------------\n",
      "   0.261636    |  0.173281  |       94.16       |  354.86  \n",
      "-------------------------------------------------------------\n",
      "\n",
      "\n",
      "----------\n",
      "Epoch : 2\n",
      "----------\n",
      "--------------------------------------\n",
      "BATCH NO. |  TRAIN LOSS  | ELAPSED (s)\n",
      "--------------------------------------\n",
      "   100    |   0.136883   |   39.02  \n",
      "   200    |   0.146909   |   38.61  \n",
      "   300    |   0.129318   |   38.65  \n",
      "   400    |   0.110697   |   38.64  \n",
      "   500    |   0.117687   |   38.66  \n",
      "   600    |   0.129523   |   38.59  \n",
      "   700    |   0.110534   |   38.64  \n",
      "   800    |   0.121064   |   38.62  \n",
      "   887    |   0.115063   |   33.63  \n",
      "-------------------------------------------------------------\n",
      "AVG TRAIN LOSS |  VAL LOSS  | VAL ACCURACY (%) | ELAPSED (s)\n",
      "-------------------------------------------------------------\n",
      "   0.124334    |  0.179864  |       94.36       |  354.43  \n",
      "-------------------------------------------------------------\n",
      "\n",
      "\n",
      "Training complete!\n"
     ]
    }
   ],
   "source": [
    "bert_train(bert_classifier, train_dataloader, val_dataloader, epochs=EPOCHS)"
   ]
  },
  {
   "cell_type": "markdown",
   "metadata": {
    "id": "WsNMUh0G758N"
   },
   "source": [
    "# BERT Prediction"
   ]
  },
  {
   "cell_type": "markdown",
   "metadata": {
    "id": "FXtweWKp758N"
   },
   "source": [
    "Now we define a function similar to the model \"evaluation\", where we feed to the model the test data instead of the validation data."
   ]
  },
  {
   "cell_type": "code",
   "execution_count": null,
   "metadata": {
    "execution": {
     "iopub.execute_input": "2022-03-15T11:21:27.730974Z",
     "iopub.status.busy": "2022-03-15T11:21:27.730730Z",
     "iopub.status.idle": "2022-03-15T11:21:27.738662Z",
     "shell.execute_reply": "2022-03-15T11:21:27.737958Z",
     "shell.execute_reply.started": "2022-03-15T11:21:27.730937Z"
    },
    "id": "HAOrq5Y6758O"
   },
   "outputs": [],
   "source": [
    "def bert_predict(model, test_dataloader):\n",
    "    \n",
    "    # Define empty list to host the predictions\n",
    "    preds_list = []\n",
    "    \n",
    "    # Put the model into evaluation mode\n",
    "    model.eval()\n",
    "    \n",
    "    for batch in test_dataloader:\n",
    "        batch_input_ids, batch_attention_mask = tuple(t.to(device) for t in batch)[:2]\n",
    "        \n",
    "        # Avoid gradient calculation of tensors by using \"no_grad()\" method\n",
    "        with torch.no_grad():\n",
    "            logit = model(batch_input_ids, batch_attention_mask)\n",
    "        \n",
    "        # Get index of highest logit\n",
    "        pred = torch.argmax(logit,dim=1).cpu().numpy()\n",
    "        # Append predicted class to list\n",
    "        preds_list.extend(pred)\n",
    "\n",
    "    return preds_list"
   ]
  },
  {
   "cell_type": "markdown",
   "metadata": {
    "id": "vV0L2ynL758O"
   },
   "source": [
    "Then we can call the defined function and get the class predictions of the test data."
   ]
  },
  {
   "cell_type": "code",
   "execution_count": null,
   "metadata": {
    "execution": {
     "iopub.execute_input": "2022-03-15T11:21:27.740398Z",
     "iopub.status.busy": "2022-03-15T11:21:27.739740Z",
     "iopub.status.idle": "2022-03-15T11:21:56.133808Z",
     "shell.execute_reply": "2022-03-15T11:21:56.133096Z",
     "shell.execute_reply.started": "2022-03-15T11:21:27.740360Z"
    },
    "id": "LxMWfory758O"
   },
   "outputs": [],
   "source": [
    "bert_preds = bert_predict(bert_classifier, test_dataloader)"
   ]
  },
  {
   "cell_type": "code",
   "execution_count": null,
   "metadata": {
    "execution": {
     "iopub.execute_input": "2022-03-15T11:21:56.135470Z",
     "iopub.status.busy": "2022-03-15T11:21:56.135225Z",
     "iopub.status.idle": "2022-03-15T11:21:56.159488Z",
     "shell.execute_reply": "2022-03-15T11:21:56.158680Z",
     "shell.execute_reply.started": "2022-03-15T11:21:56.135436Z"
    },
    "id": "14_Jl7fe758O",
    "outputId": "d39a82bc-8dc0-4889-bf7f-76577d023ac2"
   },
   "outputs": [
    {
     "name": "stdout",
     "output_type": "stream",
     "text": [
      "Classification Report for BERT :\n",
      "               precision    recall  f1-score   support\n",
      "\n",
      "    religion       0.97      0.96      0.96      1579\n",
      "         age       0.98      0.98      0.98      1566\n",
      "   ethnicity       0.99      0.99      0.99      1542\n",
      "      gender       0.93      0.91      0.92      1462\n",
      "not bullying       0.84      0.87      0.86      1274\n",
      "\n",
      "    accuracy                           0.95      7423\n",
      "   macro avg       0.94      0.94      0.94      7423\n",
      "weighted avg       0.95      0.95      0.95      7423\n",
      "\n"
     ]
    }
   ],
   "source": [
    "print('Classification Report for BERT :\\n', classification_report(y_test, bert_preds, target_names=sentiments))"
   ]
  },
  {
   "cell_type": "code",
   "execution_count": null,
   "metadata": {
    "execution": {
     "iopub.execute_input": "2022-03-15T11:21:56.161117Z",
     "iopub.status.busy": "2022-03-15T11:21:56.160856Z",
     "iopub.status.idle": "2022-03-15T11:21:56.700519Z",
     "shell.execute_reply": "2022-03-15T11:21:56.699884Z",
     "shell.execute_reply.started": "2022-03-15T11:21:56.161083Z"
    },
    "id": "oIUaktSI758O",
    "outputId": "c589d77d-82e0-40d6-a38f-241bf24f2ad9"
   },
   "outputs": [
    {
     "data": {
      "image/png": "[encoded data removed]",
      "text/plain": [
       "<Figure size 540x540 with 1 Axes>"
      ]
     },
     "metadata": {},
     "output_type": "display_data"
    }
   ],
   "source": [
    "conf_matrix(y_test, bert_preds,' BERT Sentiment Analysis\\nConfusion Matrix', sentiments)"
   ]
  },
  {
   "cell_type": "markdown",
   "metadata": {
    "id": "ROv1kNKo758O"
   },
   "source": [
    "**The performance scores of BERT Classifier are quite high and higher than those achieved using the LSTM model, with an overall accuracy around 95% and F1 scores well over 95%.**<br>"
   ]
  },
  {
   "cell_type": "markdown",
   "metadata": {
    "id": "-nO5Zw3-758O"
   },
   "source": [
    "Thank your for checking out my notebook! Let me know if you have comments or if you want me to check out your work! :)"
   ]
  }
 ],
 "metadata": {
  "colab": {
   "name": "detecting-bullying-tweets-pytorch-lstm-bert.ipynb",
   "provenance": []
  },
  "kernelspec": {
   "display_name": "Python 3",
   "language": "python",
   "name": "python3"
  },
  "language_info": {
   "codemirror_mode": {
    "name": "ipython",
    "version": 3
   },
   "file_extension": ".py",
   "mimetype": "text/x-python",
   "name": "python",
   "nbconvert_exporter": "python",
   "pygments_lexer": "ipython3",
   "version": "3.8.8"
  }
 },
 "nbformat": 4,
 "nbformat_minor": 1
}
